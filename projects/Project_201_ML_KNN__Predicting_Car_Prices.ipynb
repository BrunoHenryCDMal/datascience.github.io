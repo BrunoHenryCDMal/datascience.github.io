{
 "cells": [
  {
   "cell_type": "markdown",
   "metadata": {
    "collapsed": true
   },
   "source": [
    "# Project: ML - KNN (Predicting Car Prices)"
   ]
  },
  {
   "cell_type": "markdown",
   "metadata": {},
   "source": [
    "<br>\n",
    "\n",
    "## Questions to address:\n",
    "- Predict car prices using a KNN ML algorithm\n",
    "- For each car we have information about the technical aspects of the vehicle such as the motor's displacement, the weight of the car, the miles per gallon, how fast the car accelerates, and more."
   ]
  },
  {
   "cell_type": "markdown",
   "metadata": {},
   "source": [
    "<br>\n",
    "\n",
    "## Tools:\n",
    "- KNN model\n",
    "  - algorithm = auto\n",
    "  - p = 2 (euclidean distance)\n",
    "  - rmse as metric\n",
    "- Feature Preparation, Selection and Engineering\n",
    "  - transforming and processing: \n",
    "    - identify numeric columns\n",
    "    - replace '?' with Nan\n",
    "    - convert some to float\n",
    "    - drop cols with NaN in target column\n",
    "    - replace NaNs with mean from other rows\n",
    "    - normalize features\n",
    "  - selection: \n",
    "    - one feature at a time\n",
    "    - different combinations of the best individual features\n",
    "- Hyperparameter Optimization (on the k_neighbours value of the KNN algorithm)\n",
    "- K-fold Validation\n",
    "- K-fold predict"
   ]
  },
  {
   "cell_type": "markdown",
   "metadata": {},
   "source": [
    "<br>\n",
    "\n",
    "### load defaults"
   ]
  },
  {
   "cell_type": "code",
   "execution_count": 114,
   "metadata": {},
   "outputs": [
    {
     "name": "stdout",
     "output_type": "stream",
     "text": [
      "Defaults Loaded\n"
     ]
    }
   ],
   "source": [
    "import numpy as np\n",
    "import pandas as pd\n",
    "import seaborn as sns\n",
    "import re\n",
    "import requests \n",
    "\n",
    "%matplotlib inline\n",
    "import matplotlib.pyplot as plt\n",
    "from matplotlib.ticker import MultipleLocator\n",
    "from matplotlib import rcParams\n",
    "import matplotlib.dates as mdates\n",
    "from datetime import datetime\n",
    "from IPython.display import display, Math\n",
    "\n",
    "from functions import *\n",
    "\n",
    "plt.rcParams.update({'axes.titlepad': 20, 'font.size': 12, 'axes.titlesize':20})\n",
    "\n",
    "colors = [(0/255,107/255,164/255), (255/255, 128/255, 14/255), 'red', 'green', '#9E80BA', '#8EDB8E', '#58517A']\n",
    "Ncolors = 10\n",
    "color_map = plt.cm.Blues_r(np.linspace(0.2, 0.5, Ncolors))\n",
    "#color_map = plt.cm.tab20c_r(np.linspace(0.2, 0.5, Ncolors))\n",
    "\n",
    "\n",
    "#specific to this project\n",
    "from sklearn.neighbors import KNeighborsRegressor\n",
    "from sklearn.metrics import mean_squared_error\n",
    "from sklearn.model_selection import cross_val_score, KFold, cross_val_predict\n",
    "\n",
    "print(\"Defaults Loaded\")"
   ]
  },
  {
   "cell_type": "markdown",
   "metadata": {},
   "source": [
    "<br>\n",
    "\n",
    "## Dataset: Car properties and price"
   ]
  },
  {
   "cell_type": "code",
   "execution_count": 8,
   "metadata": {},
   "outputs": [
    {
     "data": {
      "text/html": [
       "<div>\n",
       "<style scoped>\n",
       "    .dataframe tbody tr th:only-of-type {\n",
       "        vertical-align: middle;\n",
       "    }\n",
       "\n",
       "    .dataframe tbody tr th {\n",
       "        vertical-align: top;\n",
       "    }\n",
       "\n",
       "    .dataframe thead th {\n",
       "        text-align: right;\n",
       "    }\n",
       "</style>\n",
       "<table border=\"1\" class=\"dataframe\">\n",
       "  <thead>\n",
       "    <tr style=\"text-align: right;\">\n",
       "      <th></th>\n",
       "      <th>symboling</th>\n",
       "      <th>normalized-losses</th>\n",
       "      <th>make</th>\n",
       "      <th>fuel-type</th>\n",
       "      <th>aspiration</th>\n",
       "      <th>num-of-doors</th>\n",
       "      <th>body-style</th>\n",
       "      <th>drive-wheels</th>\n",
       "      <th>engine-location</th>\n",
       "      <th>wheel-base</th>\n",
       "      <th>length</th>\n",
       "      <th>width</th>\n",
       "      <th>height</th>\n",
       "      <th>curb-weight</th>\n",
       "    </tr>\n",
       "  </thead>\n",
       "  <tbody>\n",
       "    <tr>\n",
       "      <th>0</th>\n",
       "      <td>3</td>\n",
       "      <td>?</td>\n",
       "      <td>alfa-romero</td>\n",
       "      <td>gas</td>\n",
       "      <td>std</td>\n",
       "      <td>two</td>\n",
       "      <td>convertible</td>\n",
       "      <td>rwd</td>\n",
       "      <td>front</td>\n",
       "      <td>88.6</td>\n",
       "      <td>168.8</td>\n",
       "      <td>64.1</td>\n",
       "      <td>48.8</td>\n",
       "      <td>2548</td>\n",
       "    </tr>\n",
       "    <tr>\n",
       "      <th>1</th>\n",
       "      <td>3</td>\n",
       "      <td>?</td>\n",
       "      <td>alfa-romero</td>\n",
       "      <td>gas</td>\n",
       "      <td>std</td>\n",
       "      <td>two</td>\n",
       "      <td>convertible</td>\n",
       "      <td>rwd</td>\n",
       "      <td>front</td>\n",
       "      <td>88.6</td>\n",
       "      <td>168.8</td>\n",
       "      <td>64.1</td>\n",
       "      <td>48.8</td>\n",
       "      <td>2548</td>\n",
       "    </tr>\n",
       "    <tr>\n",
       "      <th>2</th>\n",
       "      <td>1</td>\n",
       "      <td>?</td>\n",
       "      <td>alfa-romero</td>\n",
       "      <td>gas</td>\n",
       "      <td>std</td>\n",
       "      <td>two</td>\n",
       "      <td>hatchback</td>\n",
       "      <td>rwd</td>\n",
       "      <td>front</td>\n",
       "      <td>94.5</td>\n",
       "      <td>171.2</td>\n",
       "      <td>65.5</td>\n",
       "      <td>52.4</td>\n",
       "      <td>2823</td>\n",
       "    </tr>\n",
       "  </tbody>\n",
       "</table>\n",
       "</div>"
      ],
      "text/plain": [
       "   symboling normalized-losses         make fuel-type aspiration num-of-doors  \\\n",
       "0          3                 ?  alfa-romero       gas        std          two   \n",
       "1          3                 ?  alfa-romero       gas        std          two   \n",
       "2          1                 ?  alfa-romero       gas        std          two   \n",
       "\n",
       "    body-style drive-wheels engine-location  wheel-base  length  width  \\\n",
       "0  convertible          rwd           front        88.6   168.8   64.1   \n",
       "1  convertible          rwd           front        88.6   168.8   64.1   \n",
       "2    hatchback          rwd           front        94.5   171.2   65.5   \n",
       "\n",
       "   height  curb-weight  \n",
       "0    48.8         2548  \n",
       "1    48.8         2548  \n",
       "2    52.4         2823  "
      ]
     },
     "metadata": {},
     "output_type": "display_data"
    }
   ],
   "source": [
    "cols = ['symboling', 'normalized-losses', 'make', 'fuel-type', 'aspiration', 'num-of-doors', 'body-style', \n",
    "        'drive-wheels', 'engine-location', 'wheel-base', 'length', 'width', 'height', 'curb-weight', 'engine-type', \n",
    "        'num-of-cylinders', 'engine-size', 'fuel-system', 'bore', 'stroke', 'compression-rate', 'horsepower', \n",
    "        'peak-rpm', 'city-mpg', 'highway-mpg', 'price']\n",
    "cars = pd.read_csv(\"./data/imports-85.data\", names=cols)\n",
    "\n",
    "display(cars.iloc[:3,:14])"
   ]
  },
  {
   "cell_type": "markdown",
   "metadata": {},
   "source": [
    "<br>\n",
    "\n",
    "## Analysis:"
   ]
  },
  {
   "cell_type": "markdown",
   "metadata": {},
   "source": [
    "<br>\n",
    "\n",
    "### Feature Preparation, Selection and Engineering"
   ]
  },
  {
   "cell_type": "markdown",
   "metadata": {},
   "source": [
    "### transforming and processing\n",
    "- identify numeric columns\n",
    "- replace '?' with Nan\n",
    "- convert to float\n",
    "- drop cols with NaN in target column\n",
    "- replace NaNs with mean from other rows\n",
    "- normalize features"
   ]
  },
  {
   "cell_type": "code",
   "execution_count": 11,
   "metadata": {},
   "outputs": [
    {
     "data": {
      "text/html": [
       "<div>\n",
       "<style scoped>\n",
       "    .dataframe tbody tr th:only-of-type {\n",
       "        vertical-align: middle;\n",
       "    }\n",
       "\n",
       "    .dataframe tbody tr th {\n",
       "        vertical-align: top;\n",
       "    }\n",
       "\n",
       "    .dataframe thead th {\n",
       "        text-align: right;\n",
       "    }\n",
       "</style>\n",
       "<table border=\"1\" class=\"dataframe\">\n",
       "  <thead>\n",
       "    <tr style=\"text-align: right;\">\n",
       "      <th></th>\n",
       "      <th>normalized-losses</th>\n",
       "      <th>wheel-base</th>\n",
       "      <th>length</th>\n",
       "      <th>width</th>\n",
       "      <th>height</th>\n",
       "      <th>curb-weight</th>\n",
       "      <th>engine-size</th>\n",
       "      <th>bore</th>\n",
       "      <th>stroke</th>\n",
       "      <th>compression-rate</th>\n",
       "      <th>horsepower</th>\n",
       "      <th>peak-rpm</th>\n",
       "      <th>city-mpg</th>\n",
       "    </tr>\n",
       "  </thead>\n",
       "  <tbody>\n",
       "    <tr>\n",
       "      <th>0</th>\n",
       "      <td>0.298429</td>\n",
       "      <td>0.058309</td>\n",
       "      <td>0.413433</td>\n",
       "      <td>0.324786</td>\n",
       "      <td>0.083333</td>\n",
       "      <td>0.411171</td>\n",
       "      <td>0.260377</td>\n",
       "      <td>0.664286</td>\n",
       "      <td>0.290476</td>\n",
       "      <td>0.125</td>\n",
       "      <td>0.294393</td>\n",
       "      <td>0.346939</td>\n",
       "      <td>0.222222</td>\n",
       "    </tr>\n",
       "    <tr>\n",
       "      <th>1</th>\n",
       "      <td>0.298429</td>\n",
       "      <td>0.058309</td>\n",
       "      <td>0.413433</td>\n",
       "      <td>0.324786</td>\n",
       "      <td>0.083333</td>\n",
       "      <td>0.411171</td>\n",
       "      <td>0.260377</td>\n",
       "      <td>0.664286</td>\n",
       "      <td>0.290476</td>\n",
       "      <td>0.125</td>\n",
       "      <td>0.294393</td>\n",
       "      <td>0.346939</td>\n",
       "      <td>0.222222</td>\n",
       "    </tr>\n",
       "    <tr>\n",
       "      <th>2</th>\n",
       "      <td>0.298429</td>\n",
       "      <td>0.230321</td>\n",
       "      <td>0.449254</td>\n",
       "      <td>0.444444</td>\n",
       "      <td>0.383333</td>\n",
       "      <td>0.517843</td>\n",
       "      <td>0.343396</td>\n",
       "      <td>0.100000</td>\n",
       "      <td>0.666667</td>\n",
       "      <td>0.125</td>\n",
       "      <td>0.495327</td>\n",
       "      <td>0.346939</td>\n",
       "      <td>0.166667</td>\n",
       "    </tr>\n",
       "  </tbody>\n",
       "</table>\n",
       "</div>"
      ],
      "text/plain": [
       "   normalized-losses  wheel-base    length     width    height  curb-weight  \\\n",
       "0           0.298429    0.058309  0.413433  0.324786  0.083333     0.411171   \n",
       "1           0.298429    0.058309  0.413433  0.324786  0.083333     0.411171   \n",
       "2           0.298429    0.230321  0.449254  0.444444  0.383333     0.517843   \n",
       "\n",
       "   engine-size      bore    stroke  compression-rate  horsepower  peak-rpm  \\\n",
       "0     0.260377  0.664286  0.290476             0.125    0.294393  0.346939   \n",
       "1     0.260377  0.664286  0.290476             0.125    0.294393  0.346939   \n",
       "2     0.343396  0.100000  0.666667             0.125    0.495327  0.346939   \n",
       "\n",
       "   city-mpg  \n",
       "0  0.222222  \n",
       "1  0.222222  \n",
       "2  0.166667  "
      ]
     },
     "metadata": {},
     "output_type": "display_data"
    }
   ],
   "source": [
    "continuous_values_cols = ['normalized-losses', 'wheel-base', 'length', 'width', 'height', \n",
    "                          'curb-weight', 'engine-size', 'bore', 'stroke', 'compression-rate', 'horsepower', \n",
    "                          'peak-rpm', 'city-mpg', 'highway-mpg', 'price']\n",
    "\n",
    "numeric_cars = cars[continuous_values_cols].copy()\n",
    "\n",
    "#replace ? with nan \n",
    "numeric_cars.replace('?', np.nan, inplace=True)\n",
    "\n",
    "#convert some columns to float\n",
    "to_convert = ['normalized-losses','bore','stroke','horsepower', 'peak-rpm','price']\n",
    "numeric_cars[to_convert] = numeric_cars[to_convert].astype(float)\n",
    "\n",
    "#drop cols with Nan price\n",
    "numeric_cars = numeric_cars.dropna(subset=['price'])\n",
    "\n",
    "#replace NaN with mean from other rows\n",
    "numeric_cars = numeric_cars.fillna(numeric_cars.mean())\n",
    "\n",
    "#normalize features\n",
    "price = numeric_cars['price']\n",
    "#normalized_cars = (numeric_cars - numeric_cars.mean()) / (numeric_cars.std())\n",
    "numeric_cars = (numeric_cars - numeric_cars.min())/(numeric_cars.max() - numeric_cars.min())\n",
    "numeric_cars['price'] = price\n",
    "\n",
    "display(numeric_cars.iloc[:3,:13])"
   ]
  },
  {
   "cell_type": "markdown",
   "metadata": {},
   "source": [
    "<br>\n",
    "\n",
    "### feature selection\n",
    "- first one at a time (univariate), then, different combinations of the best individual features\n",
    "- model: KNN\n",
    "- k value = 5\n",
    "- train/test validation\n",
    "- rmse as metric"
   ]
  },
  {
   "cell_type": "markdown",
   "metadata": {},
   "source": [
    "**One feature at a time: univariate KNN**"
   ]
  },
  {
   "cell_type": "code",
   "execution_count": 109,
   "metadata": {},
   "outputs": [
    {
     "name": "stdout",
     "output_type": "stream",
     "text": [
      "Feature Name    |    RMSE Value\n",
      "engine-size          3238.462830\n",
      "horsepower           4037.037713\n",
      "curb-weight          4401.118255\n",
      "highway-mpg          4630.026799\n",
      "width                4704.482590\n",
      "city-mpg             4766.422505\n",
      "length               5427.200961\n",
      "wheel-base           5461.553998\n",
      "compression-rate     6610.812153\n",
      "bore                 6780.627785\n",
      "normalized-losses    7330.197653\n",
      "peak-rpm             7697.459696\n",
      "stroke               8006.529545\n",
      "height               8144.441043\n",
      "dtype: float64\n"
     ]
    }
   ],
   "source": [
    "def knn_train_test(feature, target, df):\n",
    "    np.random.seed(1)    \n",
    "    rand_df = df.iloc[np.random.permutation(len(df))]\n",
    "    \n",
    "    train = rand_df[0:int(len(rand_df)/2)]\n",
    "    test = rand_df[int(len(rand_df)/2):]\n",
    "    \n",
    "    knn = KNeighborsRegressor(n_neighbors = 5, algorithm = 'auto', p=2)\n",
    "    knn.fit(train[[feature]], train[target])\n",
    "    predictions = knn.predict(test[[feature]])\n",
    "    rmse = np.sqrt(np.absolute(mean_squared_error(test[target], predictions)))\n",
    "    return rmse\n",
    "\n",
    "features = continuous_values_cols[:]\n",
    "features.remove('price')\n",
    "\n",
    "rmse_dict = {}\n",
    "for element in features:\n",
    "    rmse = knn_train_test(element, ['price'], numeric_cars)\n",
    "    rmse_dict[element] = rmse\n",
    "    \n",
    "rmse_results_series = pd.Series(rmse_dict)\n",
    "sorted_features = rmse_results_series.sort_values().index.tolist()\n",
    "\n",
    "print(\"Feature Name    |    RMSE Value\")\n",
    "print(rmse_results_series.sort_values())"
   ]
  },
  {
   "cell_type": "markdown",
   "metadata": {},
   "source": [
    "**Try different combinations of the 5 best individual features**"
   ]
  },
  {
   "cell_type": "code",
   "execution_count": 110,
   "metadata": {},
   "outputs": [
    {
     "name": "stdout",
     "output_type": "stream",
     "text": [
      "RMSE: 2949.88 (engine-size + horsepower)\n",
      "RMSE: 3435.26 (engine-size + horsepower + curb-weight)\n",
      "RMSE: 3286.56 (engine-size + horsepower + curb-weight + highway-mpg)\n",
      "RMSE: 3410.22 (engine-size + horsepower + curb-weight + highway-mpg + width)\n"
     ]
    }
   ],
   "source": [
    "#modify the knn_train_test() function we wrote in the last step to work with multiple columns.\n",
    "import numpy as np\n",
    "from sklearn.neighbors import KNeighborsRegressor\n",
    "from sklearn.metrics import mean_squared_error\n",
    "import matplotlib.pyplot as plt\n",
    "%matplotlib inline\n",
    "\n",
    "def knn_train_test(feature, target, k_value, df):\n",
    "    np.random.seed(1)\n",
    "    new_index = np.random.permutation(df.index)\n",
    "    rand_df = df.reindex(new_index)\n",
    "    \n",
    "    train = rand_df[0:int(len(rand_df)/2)]\n",
    "    test = rand_df[int(len(rand_df)/2):]\n",
    "    \n",
    "    knn = KNeighborsRegressor(n_neighbors = k_value, algorithm = 'auto', p=2)\n",
    "    knn.fit(train[feature], train[target])\n",
    "    predictions = knn.predict(test[feature])\n",
    "    rmse = np.sqrt(np.absolute(mean_squared_error(test[target], predictions)))\n",
    "    return rmse\n",
    "\n",
    "k_value = 5\n",
    "\n",
    "#run the model\n",
    "features = ['engine-size', 'horsepower']\n",
    "rmse = knn_train_test(features, ['price'], k_value, numeric_cars)\n",
    "print(\"RMSE: {:0.2f} (engine-size + horsepower)\".format(rmse))\n",
    "features = ['engine-size', 'horsepower', 'curb-weight']\n",
    "rmse = knn_train_test(features, ['price'], k_value, numeric_cars)\n",
    "print(\"RMSE: {:0.2f} (engine-size + horsepower + curb-weight)\".format(rmse)) \n",
    "features = ['engine-size', 'horsepower', 'curb-weight', 'highway-mpg']\n",
    "rmse = knn_train_test(features, ['price'], k_value, numeric_cars)\n",
    "print(\"RMSE: {:0.2f} (engine-size + horsepower + curb-weight + highway-mpg)\".format(rmse)) \n",
    "features = ['engine-size', 'horsepower', 'curb-weight', 'highway-mpg', 'width']\n",
    "rmse = knn_train_test(features, ['price'], k_value, numeric_cars)\n",
    "print(\"RMSE: {:0.2f} (engine-size + horsepower + curb-weight + highway-mpg + width)\".format(rmse)) "
   ]
  },
  {
   "cell_type": "markdown",
   "metadata": {},
   "source": [
    "<br>\n",
    "\n",
    "### Hyperparameter Optimization (of the k-value)\n",
    "- for each individual feature and k-value 1 to 15\n",
    "- For the top 3 models in the last step and k-value 1 to 15 \n",
    "- with holdout validation"
   ]
  },
  {
   "cell_type": "markdown",
   "metadata": {},
   "source": [
    "KNN function that takes in some feature(s), a target, some k_value (n_neighbours in knn algorithm) and a df"
   ]
  },
  {
   "cell_type": "code",
   "execution_count": 111,
   "metadata": {},
   "outputs": [],
   "source": [
    "def knn_train_test(feature, target, k_value, df):\n",
    "    np.random.seed(1)\n",
    "    new_index = np.random.permutation(df.index)\n",
    "    rand_df = df.reindex(new_index)\n",
    "    \n",
    "    train = rand_df[0:int(len(rand_df)/2)]\n",
    "    test = rand_df[int(len(rand_df)/2):]\n",
    "    \n",
    "    knn = KNeighborsRegressor(n_neighbors = k_value, algorithm = 'auto', p=2)\n",
    "    knn.fit(train[feature], train[target])\n",
    "    predictions = knn.predict(test[feature])\n",
    "    rmse = np.sqrt(np.absolute(mean_squared_error(test[target], predictions)))\n",
    "\n",
    "    return rmse"
   ]
  },
  {
   "cell_type": "markdown",
   "metadata": {},
   "source": [
    "**All features individually**"
   ]
  },
  {
   "cell_type": "code",
   "execution_count": 112,
   "metadata": {},
   "outputs": [
    {
     "data": {
      "image/png": "[encoded data removed]",
      "text/plain": [
       "<Figure size 360x360 with 1 Axes>"
      ]
     },
     "metadata": {
      "needs_background": "light"
     },
     "output_type": "display_data"
    }
   ],
   "source": [
    "xlim = [1,15]\n",
    "ylim = [2000, 10000]\n",
    "fig, ax = plt.subplots(figsize=(5,5))\n",
    "\n",
    "ax.set_ylabel(\"RMSE\"), ax.set_xlabel(\"k-value\")\n",
    "ax.set_xlim(xlim), ax.set_ylim(ylim)\n",
    "\n",
    "\n",
    "features = sorted_features\n",
    "k_value = np.arange(1,20)\n",
    "\n",
    "#run the model\n",
    "for element_x in features:\n",
    "    rmse = []\n",
    "    for element_y in k_value:\n",
    "        rmse.append(knn_train_test([element_x], ['price'], element_y, numeric_cars))\n",
    "    \n",
    "    #plot results\n",
    "    ax.plot(k_value, rmse, label=element_x)\n",
    "   \n",
    "ax.tick_params(left=False, right=False, top=False, bottom=False)    \n",
    "for key,spine in ax.spines.items():\n",
    "        spine.set_visible(False)    \n",
    "\n",
    "ax.legend(loc=[1.05,0.2], frameon=False)\n",
    "plt.show()"
   ]
  },
  {
   "cell_type": "markdown",
   "metadata": {},
   "source": [
    "- Independently of the value of k there are some variables which clearly hold lower RMSE values\n",
    "- Of those engine-size and horsepower are the best two"
   ]
  },
  {
   "cell_type": "markdown",
   "metadata": {},
   "source": [
    "**Combined features (only the three best combinations from before)**"
   ]
  },
  {
   "cell_type": "code",
   "execution_count": 102,
   "metadata": {},
   "outputs": [
    {
     "data": {
      "image/png": "[encoded data removed]",
      "text/plain": [
       "<Figure size 360x360 with 1 Axes>"
      ]
     },
     "metadata": {
      "needs_background": "light"
     },
     "output_type": "display_data"
    }
   ],
   "source": [
    "xlim = [1,15]\n",
    "ylim = [2000, 5000]\n",
    "\n",
    "fig, ax = plt.subplots(figsize=(5,5))\n",
    "ax.set_ylabel(\"RMSE\"), ax.set_xlabel(\"k-value\")\n",
    "ax.set_xlim(xlim), ax.set_ylim(ylim)\n",
    "\n",
    "\n",
    "features = [['engine-size', 'horsepower'],\n",
    "            ['engine-size', 'horsepower', 'curb-weight', 'highway-mpg'],\n",
    "            ['engine-size', 'horsepower', 'curb-weight', 'highway-mpg', 'width']]\n",
    "\n",
    "k_value = np.arange(1,15)\n",
    "\n",
    "#run the model\n",
    "for element_x in features:\n",
    "    rmse = []\n",
    "    std_rmse = []\n",
    "    for element_y in k_value:\n",
    "        rmse.append(knn_train_test(element_x, ['price'], element_y, numeric_cars))\n",
    "     \n",
    "    #plot results\n",
    "    ax.plot(k_value, rmse, label=\"N_features: {:d}\".format(len(element_x)))\n",
    "    \n",
    "ax.tick_params(left=False, right=False, top=False, bottom=False)    \n",
    "for key,spine in ax.spines.items():\n",
    "        spine.set_visible(False) \n",
    "\n",
    "ax.legend(loc='best', frameon=False)\n",
    "plt.show()"
   ]
  },
  {
   "cell_type": "markdown",
   "metadata": {},
   "source": [
    "The best model is actually the one with 4 features and k=2 (before we got the best model being the one with 2 features because we were just looking at k=5)"
   ]
  },
  {
   "cell_type": "markdown",
   "metadata": {},
   "source": [
    "<br>\n",
    "\n",
    "### K-fold Validation\n",
    "- using k=2 or 5 for the knn model\n",
    "- k_folds = np.arange(5,200, 20)\n",
    "- look at the 2 best models (2 and 4 features)"
   ]
  },
  {
   "cell_type": "code",
   "execution_count": null,
   "metadata": {},
   "outputs": [],
   "source": [
    "def knn_train_test(feature, target, fold, df, k_neighbors=5):\n",
    "    kf = KFold(fold, shuffle=True, random_state=1)\n",
    "    model = KNeighborsRegressor(n_neighbors = k_neighbors, algorithm = 'auto', p=2)\n",
    "    mses = cross_val_score(model, df[feature], df[target], scoring=\"neg_mean_squared_error\", cv=kf)\n",
    "    rmses = np.sqrt(np.absolute(mses))\n",
    "    return(np.mean(rmses), np.std(rmses))\n",
    "  \n",
    "features = [['engine-size', 'horsepower'],\n",
    "            ['engine-size', 'horsepower', 'curb-weight', 'highway-mpg']]\n",
    "k_folds = np.arange(5,200, 20)"
   ]
  },
  {
   "cell_type": "markdown",
   "metadata": {},
   "source": [
    "k = 2"
   ]
  },
  {
   "cell_type": "code",
   "execution_count": 107,
   "metadata": {},
   "outputs": [
    {
     "data": {
      "image/png": "[encoded data removed]",
      "text/plain": [
       "<Figure size 360x360 with 1 Axes>"
      ]
     },
     "metadata": {
      "needs_background": "light"
     },
     "output_type": "display_data"
    }
   ],
   "source": [
    "fig, ax = plt.subplots(figsize=(5,5))\n",
    "\n",
    "#run the model\n",
    "for element_x in features:\n",
    "    rmse_mean_list = []\n",
    "    rmse_std_list = []\n",
    "    for element_y in k_folds:\n",
    "        (rmse_mean, rmse_std) = knn_train_test(element_x, ['price'], element_y, numeric_cars, k_neighbors=2)\n",
    "        rmse_mean_list.append(rmse_mean)\n",
    "        rmse_std_list.append(rmse_std)   \n",
    "    ax.plot(k_folds, np.sqrt(np.array(rmse_mean_list)**2+np.array(rmse_std_list)**2), label=\"N_features: {:d}\".format(len(element_x)))\n",
    "   \n",
    "ax.tick_params(left=False, right=False, top=False, bottom=False)       \n",
    "for key,spine in ax.spines.items():\n",
    "        spine.set_visible(False) \n",
    "ax.set_ylabel(\"$\\sqrt{RMSE_{AVG}^2+RMSE_{STD}^2}$\"), ax.set_xlabel(\"kfolds\")\n",
    "\n",
    "ax.legend()\n",
    "plt.show()"
   ]
  },
  {
   "cell_type": "markdown",
   "metadata": {},
   "source": [
    "k = 5"
   ]
  },
  {
   "cell_type": "code",
   "execution_count": 108,
   "metadata": {},
   "outputs": [
    {
     "data": {
      "image/png": "[encoded data removed]",
      "text/plain": [
       "<Figure size 360x360 with 1 Axes>"
      ]
     },
     "metadata": {
      "needs_background": "light"
     },
     "output_type": "display_data"
    }
   ],
   "source": [
    "fig, ax = plt.subplots(figsize=(5,5))\n",
    "\n",
    "#run the model\n",
    "for element_x in features:\n",
    "    rmse_mean_list = []\n",
    "    rmse_std_list = []\n",
    "    for element_y in k_folds:\n",
    "        (rmse_mean, rmse_std) = knn_train_test(element_x, ['price'], element_y, numeric_cars, k_neighbors=5)\n",
    "        rmse_mean_list.append(rmse_mean)\n",
    "        rmse_std_list.append(rmse_std)   \n",
    "    ax.plot(k_folds, np.sqrt(np.array(rmse_mean_list)**2+np.array(rmse_std_list)**2), label=\"N_features: {:d}\".format(len(element_x)))\n",
    "   \n",
    "ax.tick_params(left=False, right=False, top=False, bottom=False)       \n",
    "for key,spine in ax.spines.items():\n",
    "        spine.set_visible(False) \n",
    "ax.set_ylabel(\"$\\sqrt{RMSE_{AVG}^2+RMSE_{STD}^2}$\"), ax.set_xlabel(\"kfolds\")\n",
    "\n",
    "ax.legend()\n",
    "plt.show()"
   ]
  },
  {
   "cell_type": "markdown",
   "metadata": {},
   "source": [
    "Indeed k_neighbours=2 and 4 features seems to give the best results"
   ]
  },
  {
   "cell_type": "markdown",
   "metadata": {},
   "source": [
    "### Predict for best model"
   ]
  },
  {
   "cell_type": "code",
   "execution_count": 117,
   "metadata": {},
   "outputs": [
    {
     "name": "stdout",
     "output_type": "stream",
     "text": [
      "[15875.  14372.5 17391.  16677.5 15502.5]\n"
     ]
    }
   ],
   "source": [
    "features = ['engine-size', 'horsepower', 'curb-weight', 'highway-mpg']\n",
    "\n",
    "kf = KFold(10, shuffle=True, random_state=1)\n",
    "model = KNeighborsRegressor(n_neighbors = 2, algorithm = 'auto', p=2)\n",
    "predictions = cross_val_predict(model, numeric_cars[features], numeric_cars['price'], cv=kf)\n",
    "\n",
    "print(predictions[:5])"
   ]
  },
  {
   "cell_type": "code",
   "execution_count": null,
   "metadata": {},
   "outputs": [],
   "source": []
  }
 ],
 "metadata": {
  "kernelspec": {
   "display_name": "Python 3",
   "language": "python",
   "name": "python3"
  },
  "language_info": {
   "codemirror_mode": {
    "name": "ipython",
    "version": 3
   },
   "file_extension": ".py",
   "mimetype": "text/x-python",
   "name": "python",
   "nbconvert_exporter": "python",
   "pygments_lexer": "ipython3",
   "version": "3.6.6"
  }
 },
 "nbformat": 4,
 "nbformat_minor": 2
}
