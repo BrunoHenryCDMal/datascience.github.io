{
 "cells": [
  {
   "cell_type": "markdown",
   "metadata": {},
   "source": [
    "# Project: SQLile and DBDesigner Designing and Creating a Database (Baseball Stats)"
   ]
  },
  {
   "cell_type": "markdown",
   "metadata": {},
   "source": [
    "<br>\n",
    "\n",
    "## Questions to address:\n",
    "- Start with exploratory data analysis (EDA)\n",
    "- Create database from original files \n",
    "- Normalize database\n",
    "- Create new tables according to normalization decisions and insert data"
   ]
  },
  {
   "cell_type": "markdown",
   "metadata": {},
   "source": [
    "<br>\n",
    "\n",
    "## Tools:\n",
    "- df.to_sql\n",
    "- https://www.dbdesigner.net/\n",
    "- ALTER TABLE game_log ADD COLUMN\n",
    "- UPDATE game_log set game_id \n",
    "- CREATE TABLE IF NOT EXISTS\n",
    "- INSERT OR IGNORE INTO\n",
    "- UNION\n",
    "- insert via dictionary:\n",
    "  - query_vars = {\"hv\": hv, \"num\": num}\n",
    "  - run_command(database_file, template.format(**query_vars))"
   ]
  },
  {
   "cell_type": "markdown",
   "metadata": {},
   "source": [
    "<br>\n",
    "\n",
    "### load defaults"
   ]
  },
  {
   "cell_type": "code",
   "execution_count": 1,
   "metadata": {},
   "outputs": [],
   "source": [
    "import sqlite3\n",
    "import pandas as pd\n",
    "import re\n",
    "import numpy as np\n",
    "import requests \n",
    "import os\n",
    "import shutil\n",
    "\n",
    "%matplotlib inline\n",
    "import matplotlib.pyplot as plt\n",
    "from matplotlib.ticker import MultipleLocator\n",
    "from matplotlib import rcParams\n",
    "import matplotlib.dates as mdates\n",
    "\n",
    "from functions import *\n",
    "\n",
    "plt.rcParams.update({'axes.titlepad': 20, 'font.size': 12, 'axes.titlesize':20})\n",
    "\n",
    "colors = [(0/255,107/255,164/255), (255/255, 128/255, 14/255), 'red', 'green', '#9E80BA', '#8EDB8E', '#58517A']\n",
    "Ncolors = 10\n",
    "color_map = plt.cm.Blues_r(np.linspace(0.2, 0.5, Ncolors))\n",
    "#color_map = plt.cm.tab20c_r(np.linspace(0.2, 0.5, Ncolors))"
   ]
  },
  {
   "cell_type": "markdown",
   "metadata": {},
   "source": [
    "<br>\n",
    "\n",
    "## EDA (Exploratory Data Analysis)"
   ]
  },
  {
   "cell_type": "markdown",
   "metadata": {},
   "source": [
    "- Becoming familiar, at a high level, with the meaning of each column in each file.\n",
    "- Thinking about the relationships between columns within each file.\n",
    "- Thinking about the relationships between columns across different files."
   ]
  },
  {
   "cell_type": "code",
   "execution_count": 2,
   "metadata": {},
   "outputs": [
    {
     "name": "stdout",
     "output_type": "stream",
     "text": [
      "reading done\n"
     ]
    }
   ],
   "source": [
    "game_log = pd.read_csv('./data/game_log.csv', low_memory=False)\n",
    "park_c = pd.read_csv('./data/park_codes.csv')\n",
    "person_c = pd.read_csv('./data/person_codes.csv')\n",
    "team_c = pd.read_csv('./data/team_codes.csv')\n",
    "\n",
    "print(\"reading done\")"
   ]
  },
  {
   "cell_type": "markdown",
   "metadata": {},
   "source": [
    "<br>\n",
    "\n",
    "<b>game_log.csv:</b> one line per game with stats like date, teams, player names, game stats for victory and loosing team"
   ]
  },
  {
   "cell_type": "code",
   "execution_count": 3,
   "metadata": {},
   "outputs": [
    {
     "name": "stdout",
     "output_type": "stream",
     "text": [
      "(171907, 161)\n"
     ]
    },
    {
     "data": {
      "text/html": [
       "<div>\n",
       "<style scoped>\n",
       "    .dataframe tbody tr th:only-of-type {\n",
       "        vertical-align: middle;\n",
       "    }\n",
       "\n",
       "    .dataframe tbody tr th {\n",
       "        vertical-align: top;\n",
       "    }\n",
       "\n",
       "    .dataframe thead th {\n",
       "        text-align: right;\n",
       "    }\n",
       "</style>\n",
       "<table border=\"1\" class=\"dataframe\">\n",
       "  <thead>\n",
       "    <tr style=\"text-align: right;\">\n",
       "      <th></th>\n",
       "      <th>date</th>\n",
       "      <th>number_of_game</th>\n",
       "      <th>day_of_week</th>\n",
       "      <th>v_name</th>\n",
       "      <th>v_league</th>\n",
       "      <th>v_game_number</th>\n",
       "      <th>h_name</th>\n",
       "      <th>h_league</th>\n",
       "      <th>h_game_number</th>\n",
       "      <th>h_line_score</th>\n",
       "      <th>1b_umpire_name</th>\n",
       "    </tr>\n",
       "  </thead>\n",
       "  <tbody>\n",
       "    <tr>\n",
       "      <th>0</th>\n",
       "      <td>18710504</td>\n",
       "      <td>0</td>\n",
       "      <td>Thu</td>\n",
       "      <td>CL1</td>\n",
       "      <td>NaN</td>\n",
       "      <td>1</td>\n",
       "      <td>FW1</td>\n",
       "      <td>NaN</td>\n",
       "      <td>1</td>\n",
       "      <td>010010000</td>\n",
       "      <td>NaN</td>\n",
       "    </tr>\n",
       "    <tr>\n",
       "      <th>1</th>\n",
       "      <td>18710505</td>\n",
       "      <td>0</td>\n",
       "      <td>Fri</td>\n",
       "      <td>BS1</td>\n",
       "      <td>NaN</td>\n",
       "      <td>1</td>\n",
       "      <td>WS3</td>\n",
       "      <td>NaN</td>\n",
       "      <td>1</td>\n",
       "      <td>640113030</td>\n",
       "      <td>NaN</td>\n",
       "    </tr>\n",
       "    <tr>\n",
       "      <th>2</th>\n",
       "      <td>18710506</td>\n",
       "      <td>0</td>\n",
       "      <td>Sat</td>\n",
       "      <td>CL1</td>\n",
       "      <td>NaN</td>\n",
       "      <td>2</td>\n",
       "      <td>RC1</td>\n",
       "      <td>NaN</td>\n",
       "      <td>1</td>\n",
       "      <td>010020100</td>\n",
       "      <td>NaN</td>\n",
       "    </tr>\n",
       "  </tbody>\n",
       "</table>\n",
       "</div>"
      ],
      "text/plain": [
       "       date  number_of_game day_of_week v_name v_league  v_game_number h_name  \\\n",
       "0  18710504               0         Thu    CL1      NaN              1    FW1   \n",
       "1  18710505               0         Fri    BS1      NaN              1    WS3   \n",
       "2  18710506               0         Sat    CL1      NaN              2    RC1   \n",
       "\n",
       "  h_league  h_game_number h_line_score 1b_umpire_name  \n",
       "0      NaN              1    010010000            NaN  \n",
       "1      NaN              1    640113030            NaN  \n",
       "2      NaN              1    010020100            NaN  "
      ]
     },
     "metadata": {},
     "output_type": "display_data"
    }
   ],
   "source": [
    "print(game_log.shape)\n",
    "display(game_log.iloc[:3,[0,1,2,3,4,5,6,7,8,20,80]])"
   ]
  },
  {
   "cell_type": "markdown",
   "metadata": {},
   "source": [
    "<br>\n",
    "\n",
    "<b>park_codes.csv:</b> stadium information like city, state, league"
   ]
  },
  {
   "cell_type": "code",
   "execution_count": 4,
   "metadata": {},
   "outputs": [
    {
     "name": "stdout",
     "output_type": "stream",
     "text": [
      "(252, 9)\n"
     ]
    },
    {
     "data": {
      "text/html": [
       "<div>\n",
       "<style scoped>\n",
       "    .dataframe tbody tr th:only-of-type {\n",
       "        vertical-align: middle;\n",
       "    }\n",
       "\n",
       "    .dataframe tbody tr th {\n",
       "        vertical-align: top;\n",
       "    }\n",
       "\n",
       "    .dataframe thead th {\n",
       "        text-align: right;\n",
       "    }\n",
       "</style>\n",
       "<table border=\"1\" class=\"dataframe\">\n",
       "  <thead>\n",
       "    <tr style=\"text-align: right;\">\n",
       "      <th></th>\n",
       "      <th>park_id</th>\n",
       "      <th>name</th>\n",
       "      <th>aka</th>\n",
       "      <th>city</th>\n",
       "      <th>state</th>\n",
       "      <th>start</th>\n",
       "      <th>end</th>\n",
       "      <th>league</th>\n",
       "      <th>notes</th>\n",
       "    </tr>\n",
       "  </thead>\n",
       "  <tbody>\n",
       "    <tr>\n",
       "      <th>0</th>\n",
       "      <td>ALB01</td>\n",
       "      <td>Riverside Park</td>\n",
       "      <td>NaN</td>\n",
       "      <td>Albany</td>\n",
       "      <td>NY</td>\n",
       "      <td>09/11/1880</td>\n",
       "      <td>05/30/1882</td>\n",
       "      <td>NL</td>\n",
       "      <td>TRN:9/11/80;6/15&amp;9/10/1881;5/16-5/18&amp;5/30/1882</td>\n",
       "    </tr>\n",
       "    <tr>\n",
       "      <th>1</th>\n",
       "      <td>ALT01</td>\n",
       "      <td>Columbia Park</td>\n",
       "      <td>NaN</td>\n",
       "      <td>Altoona</td>\n",
       "      <td>PA</td>\n",
       "      <td>04/30/1884</td>\n",
       "      <td>05/31/1884</td>\n",
       "      <td>UA</td>\n",
       "      <td>NaN</td>\n",
       "    </tr>\n",
       "    <tr>\n",
       "      <th>2</th>\n",
       "      <td>ANA01</td>\n",
       "      <td>Angel Stadium of Anaheim</td>\n",
       "      <td>Edison Field; Anaheim Stadium</td>\n",
       "      <td>Anaheim</td>\n",
       "      <td>CA</td>\n",
       "      <td>04/19/1966</td>\n",
       "      <td>NaN</td>\n",
       "      <td>AL</td>\n",
       "      <td>NaN</td>\n",
       "    </tr>\n",
       "  </tbody>\n",
       "</table>\n",
       "</div>"
      ],
      "text/plain": [
       "  park_id                      name                            aka     city  \\\n",
       "0   ALB01            Riverside Park                            NaN   Albany   \n",
       "1   ALT01             Columbia Park                            NaN  Altoona   \n",
       "2   ANA01  Angel Stadium of Anaheim  Edison Field; Anaheim Stadium  Anaheim   \n",
       "\n",
       "  state       start         end league  \\\n",
       "0    NY  09/11/1880  05/30/1882     NL   \n",
       "1    PA  04/30/1884  05/31/1884     UA   \n",
       "2    CA  04/19/1966         NaN     AL   \n",
       "\n",
       "                                            notes  \n",
       "0  TRN:9/11/80;6/15&9/10/1881;5/16-5/18&5/30/1882  \n",
       "1                                             NaN  \n",
       "2                                             NaN  "
      ]
     },
     "metadata": {},
     "output_type": "display_data"
    }
   ],
   "source": [
    "print(park_c.shape)\n",
    "display(park_c[:3])"
   ]
  },
  {
   "cell_type": "markdown",
   "metadata": {},
   "source": [
    "<br>\n",
    "\n",
    "<b>person_codes.csv:</b> personal information on name and role (player, coach, etc)"
   ]
  },
  {
   "cell_type": "code",
   "execution_count": 5,
   "metadata": {},
   "outputs": [
    {
     "name": "stdout",
     "output_type": "stream",
     "text": [
      "(20494, 7)\n"
     ]
    },
    {
     "data": {
      "text/html": [
       "<div>\n",
       "<style scoped>\n",
       "    .dataframe tbody tr th:only-of-type {\n",
       "        vertical-align: middle;\n",
       "    }\n",
       "\n",
       "    .dataframe tbody tr th {\n",
       "        vertical-align: top;\n",
       "    }\n",
       "\n",
       "    .dataframe thead th {\n",
       "        text-align: right;\n",
       "    }\n",
       "</style>\n",
       "<table border=\"1\" class=\"dataframe\">\n",
       "  <thead>\n",
       "    <tr style=\"text-align: right;\">\n",
       "      <th></th>\n",
       "      <th>id</th>\n",
       "      <th>last</th>\n",
       "      <th>first</th>\n",
       "      <th>player_debut</th>\n",
       "      <th>mgr_debut</th>\n",
       "      <th>coach_debut</th>\n",
       "      <th>ump_debut</th>\n",
       "    </tr>\n",
       "  </thead>\n",
       "  <tbody>\n",
       "    <tr>\n",
       "      <th>0</th>\n",
       "      <td>aardd001</td>\n",
       "      <td>Aardsma</td>\n",
       "      <td>David</td>\n",
       "      <td>04/06/2004</td>\n",
       "      <td>NaN</td>\n",
       "      <td>NaN</td>\n",
       "      <td>NaN</td>\n",
       "    </tr>\n",
       "    <tr>\n",
       "      <th>1</th>\n",
       "      <td>aaroh101</td>\n",
       "      <td>Aaron</td>\n",
       "      <td>Hank</td>\n",
       "      <td>04/13/1954</td>\n",
       "      <td>NaN</td>\n",
       "      <td>NaN</td>\n",
       "      <td>NaN</td>\n",
       "    </tr>\n",
       "    <tr>\n",
       "      <th>2</th>\n",
       "      <td>aarot101</td>\n",
       "      <td>Aaron</td>\n",
       "      <td>Tommie</td>\n",
       "      <td>04/10/1962</td>\n",
       "      <td>NaN</td>\n",
       "      <td>04/06/1979</td>\n",
       "      <td>NaN</td>\n",
       "    </tr>\n",
       "  </tbody>\n",
       "</table>\n",
       "</div>"
      ],
      "text/plain": [
       "         id     last   first player_debut mgr_debut coach_debut ump_debut\n",
       "0  aardd001  Aardsma   David   04/06/2004       NaN         NaN       NaN\n",
       "1  aaroh101    Aaron    Hank   04/13/1954       NaN         NaN       NaN\n",
       "2  aarot101    Aaron  Tommie   04/10/1962       NaN  04/06/1979       NaN"
      ]
     },
     "metadata": {},
     "output_type": "display_data"
    }
   ],
   "source": [
    "print(person_c.shape)\n",
    "display(person_c[:3])"
   ]
  },
  {
   "cell_type": "markdown",
   "metadata": {},
   "source": [
    "<br>\n",
    "\n",
    "<b>team_codes.csv:</b> teams information like ID, league, city, dates for the start and end of the team"
   ]
  },
  {
   "cell_type": "code",
   "execution_count": 6,
   "metadata": {},
   "outputs": [
    {
     "name": "stdout",
     "output_type": "stream",
     "text": [
      "(150, 8)\n"
     ]
    },
    {
     "data": {
      "text/html": [
       "<div>\n",
       "<style scoped>\n",
       "    .dataframe tbody tr th:only-of-type {\n",
       "        vertical-align: middle;\n",
       "    }\n",
       "\n",
       "    .dataframe tbody tr th {\n",
       "        vertical-align: top;\n",
       "    }\n",
       "\n",
       "    .dataframe thead th {\n",
       "        text-align: right;\n",
       "    }\n",
       "</style>\n",
       "<table border=\"1\" class=\"dataframe\">\n",
       "  <thead>\n",
       "    <tr style=\"text-align: right;\">\n",
       "      <th></th>\n",
       "      <th>team_id</th>\n",
       "      <th>league</th>\n",
       "      <th>start</th>\n",
       "      <th>end</th>\n",
       "      <th>city</th>\n",
       "      <th>nickname</th>\n",
       "      <th>franch_id</th>\n",
       "      <th>seq</th>\n",
       "    </tr>\n",
       "  </thead>\n",
       "  <tbody>\n",
       "    <tr>\n",
       "      <th>0</th>\n",
       "      <td>ALT</td>\n",
       "      <td>UA</td>\n",
       "      <td>1884</td>\n",
       "      <td>1884</td>\n",
       "      <td>Altoona</td>\n",
       "      <td>Mountain Cities</td>\n",
       "      <td>ALT</td>\n",
       "      <td>1</td>\n",
       "    </tr>\n",
       "    <tr>\n",
       "      <th>1</th>\n",
       "      <td>ARI</td>\n",
       "      <td>NL</td>\n",
       "      <td>1998</td>\n",
       "      <td>0</td>\n",
       "      <td>Arizona</td>\n",
       "      <td>Diamondbacks</td>\n",
       "      <td>ARI</td>\n",
       "      <td>1</td>\n",
       "    </tr>\n",
       "    <tr>\n",
       "      <th>2</th>\n",
       "      <td>BFN</td>\n",
       "      <td>NL</td>\n",
       "      <td>1879</td>\n",
       "      <td>1885</td>\n",
       "      <td>Buffalo</td>\n",
       "      <td>Bisons</td>\n",
       "      <td>BFN</td>\n",
       "      <td>1</td>\n",
       "    </tr>\n",
       "  </tbody>\n",
       "</table>\n",
       "</div>"
      ],
      "text/plain": [
       "  team_id league  start   end     city         nickname franch_id  seq\n",
       "0     ALT     UA   1884  1884  Altoona  Mountain Cities       ALT    1\n",
       "1     ARI     NL   1998     0  Arizona     Diamondbacks       ARI    1\n",
       "2     BFN     NL   1879  1885  Buffalo           Bisons       BFN    1"
      ]
     },
     "metadata": {},
     "output_type": "display_data"
    }
   ],
   "source": [
    "print(team_c.shape)\n",
    "display(team_c[:3])"
   ]
  },
  {
   "cell_type": "markdown",
   "metadata": {},
   "source": [
    "<br>\n",
    "\n",
    "### First notes on EDA"
   ]
  },
  {
   "cell_type": "markdown",
   "metadata": {},
   "source": [
    "- game_log, park codes and team code all have league\n",
    "- park_codes have date of the first and last game that can be obtained from the game log"
   ]
  },
  {
   "cell_type": "markdown",
   "metadata": {},
   "source": [
    "<br>\n",
    "\n",
    "### Information on the league codes:\n",
    "\n",
    "- NL: national league\n",
    "- UA: union association (extinct)\n",
    "- PL: players league\n",
    "- AA: double-A (minor league)\n",
    "- AL: American League\n",
    "- FL: florida league (college summer)"
   ]
  },
  {
   "cell_type": "code",
   "execution_count": 3,
   "metadata": {},
   "outputs": [
    {
     "data": {
      "text/plain": [
       "NL    88867\n",
       "AL    74712\n",
       "AA     5039\n",
       "FL     1243\n",
       "PL      532\n",
       "UA      428\n",
       "Name: h_league, dtype: int64"
      ]
     },
     "execution_count": 3,
     "metadata": {},
     "output_type": "execute_result"
    }
   ],
   "source": [
    "game_log[\"h_league\"].value_counts()"
   ]
  },
  {
   "cell_type": "markdown",
   "metadata": {},
   "source": [
    "<br>\n",
    "\n",
    "## Analysis"
   ]
  },
  {
   "cell_type": "markdown",
   "metadata": {},
   "source": [
    "We will create a new database so the first thing to do is to delete it if it exists on disk"
   ]
  },
  {
   "cell_type": "code",
   "execution_count": 3,
   "metadata": {},
   "outputs": [
    {
     "name": "stdout",
     "output_type": "stream",
     "text": [
      "file removed\n"
     ]
    }
   ],
   "source": [
    "try:\n",
    "    os.remove(\"./data/mlb.db\")\n",
    "    print(\"file removed\")\n",
    "except:\n",
    "    print(\"file not present\")"
   ]
  },
  {
   "cell_type": "markdown",
   "metadata": {},
   "source": [
    "<br>\n",
    "\n",
    "### Q1: Create Database with existing tables"
   ]
  },
  {
   "cell_type": "code",
   "execution_count": 4,
   "metadata": {},
   "outputs": [
    {
     "name": "stdout",
     "output_type": "stream",
     "text": [
      "databases created\n"
     ]
    }
   ],
   "source": [
    "conn = sqlite3.connect('./data/mlb.db')\n",
    "game_log.to_sql('game_log', conn, index=False)\n",
    "person_c.to_sql('person_codes', conn, index=False)\n",
    "team_c.to_sql('team_codes', conn, index=False)\n",
    "park_c.to_sql('park_codes', conn, index=False)\n",
    "conn.close()\n",
    "\n",
    "database_file = './data/mlb.db'\n",
    "\n",
    "print(\"databases created\")"
   ]
  },
  {
   "cell_type": "markdown",
   "metadata": {},
   "source": [
    "<br>\n",
    "\n",
    "### Q2: Create unique ID in game_log: h_name + date + number_of_game"
   ]
  },
  {
   "cell_type": "code",
   "execution_count": 5,
   "metadata": {},
   "outputs": [
    {
     "data": {
      "text/html": [
       "<div>\n",
       "<style scoped>\n",
       "    .dataframe tbody tr th:only-of-type {\n",
       "        vertical-align: middle;\n",
       "    }\n",
       "\n",
       "    .dataframe tbody tr th {\n",
       "        vertical-align: top;\n",
       "    }\n",
       "\n",
       "    .dataframe thead th {\n",
       "        text-align: right;\n",
       "    }\n",
       "</style>\n",
       "<table border=\"1\" class=\"dataframe\">\n",
       "  <thead>\n",
       "    <tr style=\"text-align: right;\">\n",
       "      <th></th>\n",
       "      <th>game_id</th>\n",
       "    </tr>\n",
       "  </thead>\n",
       "  <tbody>\n",
       "    <tr>\n",
       "      <th>0</th>\n",
       "      <td>FW1187105040</td>\n",
       "    </tr>\n",
       "    <tr>\n",
       "      <th>1</th>\n",
       "      <td>WS3187105050</td>\n",
       "    </tr>\n",
       "    <tr>\n",
       "      <th>2</th>\n",
       "      <td>RC1187105060</td>\n",
       "    </tr>\n",
       "  </tbody>\n",
       "</table>\n",
       "</div>"
      ],
      "text/plain": [
       "        game_id\n",
       "0  FW1187105040\n",
       "1  WS3187105050\n",
       "2  RC1187105060"
      ]
     },
     "metadata": {},
     "output_type": "display_data"
    }
   ],
   "source": [
    "q=\"\"\" ALTER TABLE game_log\n",
    "       ADD COLUMN game_id text\n",
    "  \"\"\"\n",
    "run_command(database_file, q)\n",
    "\n",
    "q=\"\"\" UPDATE game_log\n",
    "         set game_id = h_name || date || number_of_game\n",
    "  \"\"\"\n",
    "run_command(database_file, q)\n",
    "\n",
    "q = \"select game_id from game_log LIMIT 10\"\n",
    "df = run_query(database_file, q)\n",
    "display(df[:3])"
   ]
  },
  {
   "cell_type": "markdown",
   "metadata": {},
   "source": [
    "<br>\n",
    "\n",
    "### Q3: Design Normalization"
   ]
  },
  {
   "cell_type": "markdown",
   "metadata": {},
   "source": [
    "A few facts about the data to take into account for the normalization decisions:\n",
    "- teams can move between leagues.\n",
    "- The same person might be in a single game as both a player and a manager\n",
    "- Because of how pitchers are represented in the game log, not all pitchers used in a game will be shown. We only want to worry about the pitchers mentioned via position or the 'winning pitcher'/ 'losing pitcher'.\n",
    "\n",
    "https://www.dbdesigner.net/"
   ]
  },
  {
   "cell_type": "markdown",
   "metadata": {},
   "source": [
    "![Alt text](./img/11_6_DB_design.png)"
   ]
  },
  {
   "cell_type": "markdown",
   "metadata": {},
   "source": [
    "key aspects of normalization:\n",
    "- separate game stats player info from game_log and move them into team_appearence and player_appearence (foreign key game_id in game_log)\n",
    "- connect game_log to park via park_id\n",
    "- connect team_appearence to team via team_id and person_appearence to person via player_id\n",
    "- create a league table and connect both team and team_appearence to it via league_id\n",
    "- separate information of the person role into appearence_type and connect person_appearance to it via appearence_type_ID"
   ]
  },
  {
   "cell_type": "markdown",
   "metadata": {},
   "source": [
    "<br>\n",
    "\n",
    "### Q4: create person table"
   ]
  },
  {
   "cell_type": "code",
   "execution_count": 8,
   "metadata": {},
   "outputs": [
    {
     "data": {
      "text/html": [
       "<div>\n",
       "<style scoped>\n",
       "    .dataframe tbody tr th:only-of-type {\n",
       "        vertical-align: middle;\n",
       "    }\n",
       "\n",
       "    .dataframe tbody tr th {\n",
       "        vertical-align: top;\n",
       "    }\n",
       "\n",
       "    .dataframe thead th {\n",
       "        text-align: right;\n",
       "    }\n",
       "</style>\n",
       "<table border=\"1\" class=\"dataframe\">\n",
       "  <thead>\n",
       "    <tr style=\"text-align: right;\">\n",
       "      <th></th>\n",
       "      <th>person_id</th>\n",
       "      <th>first_name</th>\n",
       "      <th>last_name</th>\n",
       "    </tr>\n",
       "  </thead>\n",
       "  <tbody>\n",
       "    <tr>\n",
       "      <th>0</th>\n",
       "      <td>aardd001</td>\n",
       "      <td>David</td>\n",
       "      <td>Aardsma</td>\n",
       "    </tr>\n",
       "    <tr>\n",
       "      <th>1</th>\n",
       "      <td>aaroh101</td>\n",
       "      <td>Hank</td>\n",
       "      <td>Aaron</td>\n",
       "    </tr>\n",
       "  </tbody>\n",
       "</table>\n",
       "</div>"
      ],
      "text/plain": [
       "  person_id first_name last_name\n",
       "0  aardd001      David   Aardsma\n",
       "1  aaroh101       Hank     Aaron"
      ]
     },
     "metadata": {},
     "output_type": "display_data"
    }
   ],
   "source": [
    "q=\"\"\" CREATE TABLE IF NOT EXISTS person (person_id text ,\n",
    "                                         first_name text,\n",
    "                                         last_name text,\n",
    "                                         PRIMARY KEY (person_id))\n",
    "  \"\"\"\n",
    "run_command(database_file, q)\n",
    "\n",
    "q=\"\"\" INSERT OR IGNORE INTO person\n",
    "                     SELECT id, first, last\n",
    "                       FROM person_codes\n",
    "  \"\"\"\n",
    "run_command(database_file, q)\n",
    "\n",
    "q=\"select * from person\"\n",
    "df = run_query(database_file, q)\n",
    "display(df[:2])"
   ]
  },
  {
   "cell_type": "markdown",
   "metadata": {},
   "source": [
    "<br>\n",
    "\n",
    "### Q5: create park table"
   ]
  },
  {
   "cell_type": "code",
   "execution_count": 9,
   "metadata": {},
   "outputs": [
    {
     "data": {
      "text/html": [
       "<div>\n",
       "<style scoped>\n",
       "    .dataframe tbody tr th:only-of-type {\n",
       "        vertical-align: middle;\n",
       "    }\n",
       "\n",
       "    .dataframe tbody tr th {\n",
       "        vertical-align: top;\n",
       "    }\n",
       "\n",
       "    .dataframe thead th {\n",
       "        text-align: right;\n",
       "    }\n",
       "</style>\n",
       "<table border=\"1\" class=\"dataframe\">\n",
       "  <thead>\n",
       "    <tr style=\"text-align: right;\">\n",
       "      <th></th>\n",
       "      <th>park_id</th>\n",
       "      <th>name</th>\n",
       "      <th>nickname</th>\n",
       "      <th>city</th>\n",
       "      <th>state</th>\n",
       "      <th>notes</th>\n",
       "    </tr>\n",
       "  </thead>\n",
       "  <tbody>\n",
       "    <tr>\n",
       "      <th>0</th>\n",
       "      <td>ALB01</td>\n",
       "      <td>Riverside Park</td>\n",
       "      <td>None</td>\n",
       "      <td>Albany</td>\n",
       "      <td>NY</td>\n",
       "      <td>TRN:9/11/80;6/15&amp;9/10/1881;5/16-5/18&amp;5/30/1882</td>\n",
       "    </tr>\n",
       "    <tr>\n",
       "      <th>1</th>\n",
       "      <td>ALT01</td>\n",
       "      <td>Columbia Park</td>\n",
       "      <td>None</td>\n",
       "      <td>Altoona</td>\n",
       "      <td>PA</td>\n",
       "      <td>None</td>\n",
       "    </tr>\n",
       "  </tbody>\n",
       "</table>\n",
       "</div>"
      ],
      "text/plain": [
       "  park_id            name nickname     city state  \\\n",
       "0   ALB01  Riverside Park     None   Albany    NY   \n",
       "1   ALT01   Columbia Park     None  Altoona    PA   \n",
       "\n",
       "                                            notes  \n",
       "0  TRN:9/11/80;6/15&9/10/1881;5/16-5/18&5/30/1882  \n",
       "1                                            None  "
      ]
     },
     "metadata": {},
     "output_type": "display_data"
    }
   ],
   "source": [
    "q=\"\"\" CREATE TABLE IF NOT EXISTS park (park_id text, \n",
    "                                       name text,\n",
    "                                       nickname text,\n",
    "                                       city text,\n",
    "                                       state text,\n",
    "                                       notes text,\n",
    "                                       PRIMARY KEY (park_id))\n",
    "  \"\"\"\n",
    "run_command(database_file, q)\n",
    "\n",
    "q=\"\"\" INSERT OR IGNORE INTO park\n",
    "                     select park_id,\n",
    "                            name,\n",
    "                            aka,\n",
    "                            city,\n",
    "                            state,\n",
    "                            notes\n",
    "                       from park_codes\n",
    "  \"\"\"\n",
    "run_command(database_file, q)\n",
    "\n",
    "q=\"select * from park\"\n",
    "df = run_query(database_file, q)\n",
    "display(df[:2])"
   ]
  },
  {
   "cell_type": "markdown",
   "metadata": {},
   "source": [
    "<br>\n",
    "\n",
    "### Q6: create league table"
   ]
  },
  {
   "cell_type": "code",
   "execution_count": 10,
   "metadata": {},
   "outputs": [
    {
     "data": {
      "text/html": [
       "<div>\n",
       "<style scoped>\n",
       "    .dataframe tbody tr th:only-of-type {\n",
       "        vertical-align: middle;\n",
       "    }\n",
       "\n",
       "    .dataframe tbody tr th {\n",
       "        vertical-align: top;\n",
       "    }\n",
       "\n",
       "    .dataframe thead th {\n",
       "        text-align: right;\n",
       "    }\n",
       "</style>\n",
       "<table border=\"1\" class=\"dataframe\">\n",
       "  <thead>\n",
       "    <tr style=\"text-align: right;\">\n",
       "      <th></th>\n",
       "      <th>league_id</th>\n",
       "      <th>name</th>\n",
       "    </tr>\n",
       "  </thead>\n",
       "  <tbody>\n",
       "    <tr>\n",
       "      <th>0</th>\n",
       "      <td>NL</td>\n",
       "      <td>National League</td>\n",
       "    </tr>\n",
       "    <tr>\n",
       "      <th>1</th>\n",
       "      <td>UA</td>\n",
       "      <td>Unions Association</td>\n",
       "    </tr>\n",
       "  </tbody>\n",
       "</table>\n",
       "</div>"
      ],
      "text/plain": [
       "  league_id                name\n",
       "0        NL     National League\n",
       "1        UA  Unions Association"
      ]
     },
     "metadata": {},
     "output_type": "display_data"
    }
   ],
   "source": [
    "q=\"\"\" CREATE TABLE IF NOT EXISTS league (league_id text,\n",
    "                                         name text,\n",
    "                                         PRIMARY KEY (league_id))\n",
    "  \"\"\"\n",
    "run_command(database_file, q)\n",
    "\n",
    "q=\"\"\" INSERT OR IGNORE INTO league VALUES ('NL', 'National League'),\n",
    "                                          ('UA', 'Unions Association'),\n",
    "                                          ('PL', 'Players League'),\n",
    "                                          ('AA', 'Double-A League'),\n",
    "                                          ('AL', 'American League'),\n",
    "                                          ('FL', 'Florida League')\n",
    "  \"\"\"\n",
    "run_command(database_file, q)\n",
    "\n",
    "q=\"select * from league\"\n",
    "df = run_query(database_file, q)\n",
    "display(df[:2])"
   ]
  },
  {
   "cell_type": "markdown",
   "metadata": {},
   "source": [
    "<br>\n",
    "\n",
    "### Q7: create appearance_type table"
   ]
  },
  {
   "cell_type": "code",
   "execution_count": 12,
   "metadata": {},
   "outputs": [
    {
     "data": {
      "text/html": [
       "<div>\n",
       "<style scoped>\n",
       "    .dataframe tbody tr th:only-of-type {\n",
       "        vertical-align: middle;\n",
       "    }\n",
       "\n",
       "    .dataframe tbody tr th {\n",
       "        vertical-align: top;\n",
       "    }\n",
       "\n",
       "    .dataframe thead th {\n",
       "        text-align: right;\n",
       "    }\n",
       "</style>\n",
       "<table border=\"1\" class=\"dataframe\">\n",
       "  <thead>\n",
       "    <tr style=\"text-align: right;\">\n",
       "      <th></th>\n",
       "      <th>appearance_type_id</th>\n",
       "      <th>name</th>\n",
       "      <th>category</th>\n",
       "    </tr>\n",
       "  </thead>\n",
       "  <tbody>\n",
       "    <tr>\n",
       "      <th>0</th>\n",
       "      <td>O1</td>\n",
       "      <td>Batter 1</td>\n",
       "      <td>offense</td>\n",
       "    </tr>\n",
       "    <tr>\n",
       "      <th>1</th>\n",
       "      <td>O2</td>\n",
       "      <td>Batter 2</td>\n",
       "      <td>offense</td>\n",
       "    </tr>\n",
       "  </tbody>\n",
       "</table>\n",
       "</div>"
      ],
      "text/plain": [
       "  appearance_type_id      name category\n",
       "0                 O1  Batter 1  offense\n",
       "1                 O2  Batter 2  offense"
      ]
     },
     "metadata": {},
     "output_type": "display_data"
    }
   ],
   "source": [
    "q=\"\"\" CREATE TABLE IF NOT EXISTS appearance_type (appearance_type_id text PRIMARY KEY,\n",
    "                                                  name text,\n",
    "                                                  category text)\n",
    "\"\"\"\n",
    "run_command(database_file, q)\n",
    "\n",
    "#this information is in the original tables, but to make it simpler it is loaded from a file\n",
    "conn = sqlite3.connect('./data/mlb.db')\n",
    "df = pd.read_csv('./data/appearance_type.csv')\n",
    "df.to_sql('appearance_type_full', conn, index=False)\n",
    "conn.close()\n",
    "\n",
    "q=\"INSERT OR IGNORE INTO appearance_type select * from appearance_type_full\"\n",
    "run_command(database_file, q)\n",
    "\n",
    "q=\"select * from appearance_type\"\n",
    "df = run_query(database_file, q)\n",
    "display(df[:2])"
   ]
  },
  {
   "cell_type": "markdown",
   "metadata": {},
   "source": [
    "<br>\n",
    "\n",
    "### Q8: create team table"
   ]
  },
  {
   "cell_type": "code",
   "execution_count": 13,
   "metadata": {},
   "outputs": [
    {
     "data": {
      "text/html": [
       "<div>\n",
       "<style scoped>\n",
       "    .dataframe tbody tr th:only-of-type {\n",
       "        vertical-align: middle;\n",
       "    }\n",
       "\n",
       "    .dataframe tbody tr th {\n",
       "        vertical-align: top;\n",
       "    }\n",
       "\n",
       "    .dataframe thead th {\n",
       "        text-align: right;\n",
       "    }\n",
       "</style>\n",
       "<table border=\"1\" class=\"dataframe\">\n",
       "  <thead>\n",
       "    <tr style=\"text-align: right;\">\n",
       "      <th></th>\n",
       "      <th>team_id</th>\n",
       "      <th>league_id</th>\n",
       "      <th>city</th>\n",
       "      <th>nickname</th>\n",
       "      <th>franch_id</th>\n",
       "    </tr>\n",
       "  </thead>\n",
       "  <tbody>\n",
       "    <tr>\n",
       "      <th>0</th>\n",
       "      <td>ALT</td>\n",
       "      <td>UA</td>\n",
       "      <td>Altoona</td>\n",
       "      <td>Mountain Cities</td>\n",
       "      <td>ALT</td>\n",
       "    </tr>\n",
       "    <tr>\n",
       "      <th>1</th>\n",
       "      <td>ARI</td>\n",
       "      <td>NL</td>\n",
       "      <td>Arizona</td>\n",
       "      <td>Diamondbacks</td>\n",
       "      <td>ARI</td>\n",
       "    </tr>\n",
       "  </tbody>\n",
       "</table>\n",
       "</div>"
      ],
      "text/plain": [
       "  team_id league_id     city         nickname franch_id\n",
       "0     ALT        UA  Altoona  Mountain Cities       ALT\n",
       "1     ARI        NL  Arizona     Diamondbacks       ARI"
      ]
     },
     "metadata": {},
     "output_type": "display_data"
    }
   ],
   "source": [
    "q=\"\"\" CREATE TABLE IF NOT EXISTS team (team_id text PRIMARY KEY,\n",
    "                                       league_id text,\n",
    "                                       city text,\n",
    "                                       nickname text,\n",
    "                                       franch_id text,\n",
    "                                       FOREIGN KEY (league_id) REFERENCES league(league_id))\n",
    "   \"\"\"\n",
    "run_command(database_file, q)\n",
    "\n",
    "q=\"\"\" INSERT OR IGNORE INTO team\n",
    "                     SELECT team_id,\n",
    "                            league,\n",
    "                            city,\n",
    "                            nickname,\n",
    "                            franch_id\n",
    "                       FROM team_codes\n",
    "  \"\"\"\n",
    "run_command(database_file, q)\n",
    "\n",
    "q=\"select * from team\"\n",
    "df = run_query(database_file, q)\n",
    "display(df[:2])"
   ]
  },
  {
   "cell_type": "markdown",
   "metadata": {},
   "source": [
    "<br>\n",
    "\n",
    "### Q9: create game table"
   ]
  },
  {
   "cell_type": "code",
   "execution_count": 14,
   "metadata": {},
   "outputs": [
    {
     "data": {
      "text/html": [
       "<div>\n",
       "<style scoped>\n",
       "    .dataframe tbody tr th:only-of-type {\n",
       "        vertical-align: middle;\n",
       "    }\n",
       "\n",
       "    .dataframe tbody tr th {\n",
       "        vertical-align: top;\n",
       "    }\n",
       "\n",
       "    .dataframe thead th {\n",
       "        text-align: right;\n",
       "    }\n",
       "</style>\n",
       "<table border=\"1\" class=\"dataframe\">\n",
       "  <thead>\n",
       "    <tr style=\"text-align: right;\">\n",
       "      <th></th>\n",
       "      <th>game_id</th>\n",
       "      <th>date</th>\n",
       "      <th>number_of_game</th>\n",
       "      <th>park_id</th>\n",
       "      <th>length_outs</th>\n",
       "      <th>day</th>\n",
       "      <th>completion</th>\n",
       "      <th>forfeit</th>\n",
       "      <th>protest</th>\n",
       "      <th>attendance</th>\n",
       "      <th>length_minutes</th>\n",
       "      <th>additional_info</th>\n",
       "    </tr>\n",
       "  </thead>\n",
       "  <tbody>\n",
       "    <tr>\n",
       "      <th>0</th>\n",
       "      <td>FW1187105040</td>\n",
       "      <td>18710504</td>\n",
       "      <td>0</td>\n",
       "      <td>FOR01</td>\n",
       "      <td>54.0</td>\n",
       "      <td>0</td>\n",
       "      <td>None</td>\n",
       "      <td>None</td>\n",
       "      <td>None</td>\n",
       "      <td>200.0</td>\n",
       "      <td>120.0</td>\n",
       "      <td>None</td>\n",
       "    </tr>\n",
       "    <tr>\n",
       "      <th>1</th>\n",
       "      <td>WS3187105050</td>\n",
       "      <td>18710505</td>\n",
       "      <td>0</td>\n",
       "      <td>WAS01</td>\n",
       "      <td>54.0</td>\n",
       "      <td>0</td>\n",
       "      <td>None</td>\n",
       "      <td>None</td>\n",
       "      <td>None</td>\n",
       "      <td>5000.0</td>\n",
       "      <td>145.0</td>\n",
       "      <td>HTBF</td>\n",
       "    </tr>\n",
       "  </tbody>\n",
       "</table>\n",
       "</div>"
      ],
      "text/plain": [
       "        game_id      date  number_of_game park_id  length_outs  day  \\\n",
       "0  FW1187105040  18710504               0   FOR01         54.0    0   \n",
       "1  WS3187105050  18710505               0   WAS01         54.0    0   \n",
       "\n",
       "  completion forfeit protest  attendance  length_minutes additional_info  \n",
       "0       None    None    None       200.0           120.0            None  \n",
       "1       None    None    None      5000.0           145.0            HTBF  "
      ]
     },
     "metadata": {},
     "output_type": "display_data"
    }
   ],
   "source": [
    "q=\"\"\" CREATE TABLE IF NOT EXISTS game (game_id text PRIMARY KEY,\n",
    "                                       date text,\n",
    "                                       number_of_game integer,\n",
    "                                       park_id text,\n",
    "                                       length_outs float,\n",
    "                                       day BOOLEAN,\n",
    "                                       completion text,\n",
    "                                       forfeit text,\n",
    "                                       protest text,\n",
    "                                       attendance float,\n",
    "                                       length_minutes float,\n",
    "                                       additional_info text,\n",
    "                                       acquisition_info text,\n",
    "                                       FOREIGN KEY (park_id) REFERENCES park(park_id))\n",
    "  \"\"\"\n",
    "run_command(database_file, q)\n",
    "\n",
    "q=\"\"\" INSERT OR IGNORE INTO game\n",
    "                     SELECT game_id,\n",
    "                            date,\n",
    "                            number_of_game,\n",
    "                            park_id,\n",
    "                            length_outs,\n",
    "                            CASE WHEN 'day' THEN 1 ELSE 0 END as day,\n",
    "                            completion,\n",
    "                            forefeit,\n",
    "                            protest,\n",
    "                            attendance,\n",
    "                            length_minutes,\n",
    "                            additional_info,\n",
    "                            acquisition_info\n",
    "                       FROM game_log\n",
    "\"\"\"\n",
    "run_command(database_file, q)\n",
    "\n",
    "q=\"select * from game\"\n",
    "df = run_query(database_file, q)\n",
    "display(df.iloc[:2,:-1])"
   ]
  },
  {
   "cell_type": "markdown",
   "metadata": {},
   "source": [
    "<br>\n",
    "\n",
    "### Q10: create team_appearance"
   ]
  },
  {
   "cell_type": "code",
   "execution_count": 18,
   "metadata": {},
   "outputs": [
    {
     "data": {
      "text/html": [
       "<div>\n",
       "<style scoped>\n",
       "    .dataframe tbody tr th:only-of-type {\n",
       "        vertical-align: middle;\n",
       "    }\n",
       "\n",
       "    .dataframe tbody tr th {\n",
       "        vertical-align: top;\n",
       "    }\n",
       "\n",
       "    .dataframe thead th {\n",
       "        text-align: right;\n",
       "    }\n",
       "</style>\n",
       "<table border=\"1\" class=\"dataframe\">\n",
       "  <thead>\n",
       "    <tr style=\"text-align: right;\">\n",
       "      <th></th>\n",
       "      <th>team_id</th>\n",
       "      <th>game_id</th>\n",
       "      <th>home</th>\n",
       "      <th>league_id</th>\n",
       "      <th>score</th>\n",
       "      <th>line_score</th>\n",
       "      <th>at_bats</th>\n",
       "      <th>hits</th>\n",
       "      <th>doubles</th>\n",
       "    </tr>\n",
       "  </thead>\n",
       "  <tbody>\n",
       "    <tr>\n",
       "      <th>0</th>\n",
       "      <td>ALT</td>\n",
       "      <td>ALT188404300</td>\n",
       "      <td>1</td>\n",
       "      <td>UA</td>\n",
       "      <td>2</td>\n",
       "      <td>None</td>\n",
       "      <td>NaN</td>\n",
       "      <td>NaN</td>\n",
       "      <td>NaN</td>\n",
       "    </tr>\n",
       "    <tr>\n",
       "      <th>1</th>\n",
       "      <td>ALT</td>\n",
       "      <td>ALT188405020</td>\n",
       "      <td>1</td>\n",
       "      <td>UA</td>\n",
       "      <td>3</td>\n",
       "      <td>None</td>\n",
       "      <td>NaN</td>\n",
       "      <td>NaN</td>\n",
       "      <td>NaN</td>\n",
       "    </tr>\n",
       "  </tbody>\n",
       "</table>\n",
       "</div>"
      ],
      "text/plain": [
       "  team_id       game_id  home league_id  score line_score  at_bats  hits  \\\n",
       "0     ALT  ALT188404300     1        UA      2       None      NaN   NaN   \n",
       "1     ALT  ALT188405020     1        UA      3       None      NaN   NaN   \n",
       "\n",
       "   doubles  \n",
       "0      NaN  \n",
       "1      NaN  "
      ]
     },
     "metadata": {},
     "output_type": "display_data"
    }
   ],
   "source": [
    "q=\"\"\"CREATE TABLE IF NOT EXISTS team_appearance (team_id text, \n",
    "                                                 game_id text, \n",
    "                                                 home BOOLEAN,\n",
    "                                                 league_id text, \n",
    "                                                 score INTEGER, \n",
    "                                                 line_score TEXT,\n",
    "                                                 at_bats ,\n",
    "                                                 hits REAL,\n",
    "                                                 doubles REAL,\n",
    "                                                 triples REAL,\n",
    "                                                 homeruns REAL,\n",
    "                                                 rbi REAL,\n",
    "                                                 sacrifice_hits REAL,\n",
    "                                                 sacrifice_flies REAL,\n",
    "                                                 hit_by_pitch REAL,\n",
    "                                                 walks REAL,\n",
    "                                                 intentional_walks REAL,\n",
    "                                                 strikeouts REAL,\n",
    "                                                 stolen_bases REAL,\n",
    "                                                 caught_stealing REAL,\n",
    "                                                 grounded_into_double REAL,\n",
    "                                                 first_catcher_interference REAL,\n",
    "                                                 left_on_base REAL,\n",
    "                                                 pitchers_used REAL,\n",
    "                                                 individual_earned_runs REAL,\n",
    "                                                 team_earned_runs REAL,\n",
    "                                                 wild_pitches REAL,\n",
    "                                                 balks REAL,\n",
    "                                                 putouts REAL,\n",
    "                                                 assists REAL,\n",
    "                                                 errors REAL,\n",
    "                                                 passed_balls REAL,\n",
    "                                                 double_plays REAL,\n",
    "                                                 triple_plays REAL,\n",
    "\n",
    "                                                 PRIMARY KEY (team_id, game_id),\n",
    "                                                 FOREIGN KEY (team_id) REFERENCES team(team_id),\n",
    "                                                 FOREIGN KEY (game_id) REFERENCES game(game_id),\n",
    "                                                 FOREIGN KEY (league_id) REFERENCES league(league_id))\n",
    "\"\"\"\n",
    "run_command(database_file, q)\n",
    "\n",
    "#for each line in game_log there will be two entrie in team_apperance\n",
    "#one for the home and one for the away team\n",
    "q=\"\"\" INSERT OR IGNORE INTO team_appearance\n",
    "                     SELECT h_name,\n",
    "                     game_id,\n",
    "                     1 AS home,\n",
    "                     h_league,\n",
    "                     h_score, \n",
    "                     h_line_score,\n",
    "                     h_at_bats,  \n",
    "                     h_hits,\n",
    "                     h_doubles,\n",
    "                     h_triples,\n",
    "                     h_homeruns,\n",
    "                     h_rbi,\n",
    "                     h_sacrifice_hits,\n",
    "                     h_sacrifice_flies,\n",
    "                     h_hit_by_pitch,\n",
    "                     h_walks,\n",
    "                     h_intentional_walks,\n",
    "                     h_strikeouts,\n",
    "                     h_stolen_bases,\n",
    "                     h_caught_stealing,\n",
    "                     h_grounded_into_double,\n",
    "                     h_first_catcher_interference,\n",
    "                     h_left_on_base,\n",
    "                     h_pitchers_used,\n",
    "                     h_individual_earned_runs,\n",
    "                     h_team_earned_runs,\n",
    "                     h_wild_pitches,\n",
    "                     h_balks,\n",
    "                     h_putouts,\n",
    "                     h_assists,\n",
    "                     h_errors,\n",
    "                     h_passed_balls,\n",
    "                     h_double_plays,\n",
    "                     h_triple_plays\n",
    "                from game_log\n",
    "  \n",
    "   UNION\n",
    "\n",
    "              SELECT v_name,\n",
    "                     game_id,\n",
    "                     0 AS home,\n",
    "                     v_league,\n",
    "                     v_score, \n",
    "                     v_line_score,\n",
    "                     v_at_bats,  \n",
    "                     v_hits,\n",
    "                     v_doubles,\n",
    "                     v_triples,\n",
    "                     v_homeruns,\n",
    "                     v_rbi,\n",
    "                     v_sacrifice_hits,\n",
    "                     v_sacrifice_flies,\n",
    "                     v_hit_by_pitch,\n",
    "                     v_walks,\n",
    "                     v_intentional_walks,\n",
    "                     v_strikeouts,\n",
    "                     v_stolen_bases,\n",
    "                     v_caught_stealing,\n",
    "                     v_grounded_into_double,\n",
    "                     v_first_catcher_interference,\n",
    "                     v_left_on_base,\n",
    "                     v_pitchers_used,\n",
    "                     v_individual_earned_runs,\n",
    "                     v_team_earned_runs,\n",
    "                     v_wild_pitches,\n",
    "                     v_balks,\n",
    "                     v_putouts,\n",
    "                     v_assists,\n",
    "                     v_errors,\n",
    "                     v_passed_balls,\n",
    "                     v_double_plays,\n",
    "                     v_triple_plays\n",
    "                from game_log\n",
    "\n",
    "\n",
    "\"\"\"\n",
    "run_command(database_file, q)\n",
    "\n",
    "\n",
    "q=\"select * from team_appearance\"\n",
    "df = run_query(database_file, q)\n",
    "display(df.iloc[:2,:9])"
   ]
  },
  {
   "cell_type": "markdown",
   "metadata": {},
   "source": [
    "<br>\n",
    "\n",
    "### Q11: create person_appearance table"
   ]
  },
  {
   "cell_type": "code",
   "execution_count": 19,
   "metadata": {},
   "outputs": [
    {
     "name": "stdout",
     "output_type": "stream",
     "text": [
      "table created\n"
     ]
    }
   ],
   "source": [
    "q=\"\"\" CREATE TABLE IF NOT EXISTS person_appearance (appearance_id INTEGER,\n",
    "                                                    game_id text,\n",
    "                                                    team_id integer,\n",
    "                                                    person_id text,\n",
    "                                                    appearance_type_id text,\n",
    "                                                    PRIMARY KEY (appearance_id),\n",
    "                                                    FOREIGN KEY (person_id) REFERENCES person(person_id),\n",
    "                                                    FOREIGN KEY (team_id) REFERENCES team(team_id),\n",
    "                                                    FOREIGN KEY (game_id) REFERENCES game(game_id),\n",
    "                                                    FOREIGN KEY (appearance_type_id) REFERENCES appearance_type(appearance_type_id))\n",
    "\"\"\"\n",
    "run_command(database_file, q)\n",
    "print(\"table created\")"
   ]
  },
  {
   "cell_type": "markdown",
   "metadata": {},
   "source": [
    "insert into person_appearance first part with explicit query, below with for loop for players"
   ]
  },
  {
   "cell_type": "code",
   "execution_count": 21,
   "metadata": {},
   "outputs": [
    {
     "name": "stdout",
     "output_type": "stream",
     "text": [
      "insert done\n"
     ]
    }
   ],
   "source": [
    "q=\"\"\" INSERT OR IGNORE INTO person_appearance(game_id, team_id, person_id, appearance_type_id)\n",
    "                     SELECT game_id,\n",
    "                            NULL,\n",
    "                            lf_umpire_id,\n",
    "                            \"ULF\"\n",
    "                       FROM game_log\n",
    "                      WHERE lf_umpire_id IS NOT NULL\n",
    " \n",
    "                     UNION\n",
    "\n",
    "                     SELECT game_id,\n",
    "                            NULL,\n",
    "                            rf_umpire_id,\n",
    "                            \"URF\"\n",
    "                       FROM game_log\n",
    "                      WHERE rf_umpire_id IS NOT NULL\n",
    " \n",
    "                      UNION\n",
    "\n",
    "                     SELECT game_id,\n",
    "                            NULL,\n",
    "                            hp_umpire_id,\n",
    "                            \"UHP\"\n",
    "                       FROM game_log\n",
    "                      WHERE hp_umpire_id IS NOT NULL\n",
    "  \n",
    "                      UNION\n",
    "\n",
    "                     SELECT game_id,\n",
    "                            NULL,\n",
    "                            [1b_umpire_id],\n",
    "                            \"U1B\"\n",
    "                       FROM game_log\n",
    "                      WHERE [1b_umpire_id] IS NOT NULL\n",
    "\n",
    "                      UNION\n",
    "\n",
    "                     SELECT game_id,\n",
    "                            NULL,\n",
    "                            [2b_umpire_id],\n",
    "                            \"U2B\"\n",
    "                       FROM game_log\n",
    "                      WHERE [2b_umpire_id] IS NOT NULL\n",
    "\n",
    "                      UNION\n",
    "\n",
    "                     SELECT game_id,\n",
    "                            NULL,\n",
    "                            [3b_umpire_id],\n",
    "                            \"U3B\"\n",
    "                       FROM game_log\n",
    "                      WHERE [3b_umpire_id] IS NOT NULL\n",
    "\n",
    "                      UNION\n",
    "\n",
    "                     SELECT game_id,\n",
    "                            v_name,\n",
    "                            v_manager_id,\n",
    "                            \"MM\"\n",
    "                       FROM game_log\n",
    "                      WHERE v_manager_id IS NOT NULL\n",
    "\n",
    "                      UNION\n",
    "\n",
    "                     SELECT game_id,\n",
    "                            h_name,\n",
    "                            h_manager_id,\n",
    "                            \"MM\"\n",
    "                       FROM game_log\n",
    "                      WHERE h_manager_id IS NOT NULL\n",
    "    \n",
    "                      UNION\n",
    "\n",
    "                     SELECT game_id,\n",
    "                            CASE WHEN h_score > v_score THEN h_name ELSE v_name END,\n",
    "                            winning_pitcher_id,\n",
    "                            \"AWP\"\n",
    "                       FROM game_log\n",
    "                      WHERE winning_pitcher_id IS NOT NULL  \n",
    "    \n",
    "                      UNION\n",
    "\n",
    "                     SELECT game_id,\n",
    "                            CASE WHEN h_score < v_score THEN h_name ELSE v_name END,\n",
    "                            losing_pitcher_id,\n",
    "                            \"ALP\"\n",
    "                       FROM game_log\n",
    "                      WHERE losing_pitcher_id IS NOT NULL  \n",
    "    \n",
    "                      UNION\n",
    "\n",
    "                     SELECT game_id,\n",
    "                            CASE WHEN h_score > v_score THEN h_name ELSE v_name END,\n",
    "                            saving_pitcher_id,\n",
    "                            \"ASP\"\n",
    "                       FROM game_log\n",
    "                      WHERE saving_pitcher_id IS NOT NULL \n",
    "    \n",
    "                      UNION\n",
    "\n",
    "                     SELECT game_id,\n",
    "                            CASE WHEN h_score > v_score THEN h_name ELSE v_name END,\n",
    "                            winning_rbi_batter_id,\n",
    "                            \"AWB\"\n",
    "                       FROM game_log\n",
    "                      WHERE winning_rbi_batter_id IS NOT NULL \n",
    "        \n",
    "                      UNION\n",
    "\n",
    "                     SELECT game_id,\n",
    "                            h_name,\n",
    "                            h_starting_pitcher_id,\n",
    "                            \"PSP\"\n",
    "                       FROM game_log\n",
    "                      WHERE h_starting_pitcher_id IS NOT NULL\n",
    "    \n",
    "                      UNION\n",
    "\n",
    "                     SELECT game_id,\n",
    "                            v_name,\n",
    "                            v_starting_pitcher_id,\n",
    "                            \"PSP\"\n",
    "                       FROM game_log\n",
    "                      WHERE v_starting_pitcher_id IS NOT NULL\n",
    "    \"\"\"\n",
    "run_command(database_file, q)\n",
    "print(\"insert done\")"
   ]
  },
  {
   "cell_type": "markdown",
   "metadata": {},
   "source": [
    "insert player positions with for loop, each line in game log will have multiple entries plus offensive and defensive positions must be joined"
   ]
  },
  {
   "cell_type": "code",
   "execution_count": 22,
   "metadata": {},
   "outputs": [
    {
     "name": "stdout",
     "output_type": "stream",
     "text": [
      "insert done\n"
     ]
    }
   ],
   "source": [
    "template = \"\"\" INSERT INTO person_appearance (game_id,\n",
    "                                              team_id,\n",
    "                                              person_id,\n",
    "                                              appearance_type_id) \n",
    "                    SELECT game_id,\n",
    "                           {hv}_name,\n",
    "                           {hv}_player_{num}_id,\n",
    "                           \"O{num}\"\n",
    "                      FROM game_log\n",
    "                     WHERE {hv}_player_{num}_id IS NOT NULL\n",
    "\n",
    "                     UNION\n",
    "\n",
    "                    SELECT game_id,\n",
    "                           {hv}_name,\n",
    "                           {hv}_player_{num}_id,\n",
    "                           \"D\" || CAST({hv}_player_{num}_def_pos AS INT)\n",
    "                      FROM game_log\n",
    "                     WHERE {hv}_player_{num}_id IS NOT NULL;\n",
    "\"\"\"\n",
    "\n",
    "#run_command(c1)\n",
    "#run_command(c2)\n",
    "\n",
    "for hv in [\"h\",\"v\"]:\n",
    "    for num in range(1,10):\n",
    "        query_vars = {\n",
    "            \"hv\": hv,\n",
    "            \"num\": num\n",
    "        }\n",
    "        run_command(database_file, template.format(**query_vars))\n",
    "print(\"insert done\")"
   ]
  },
  {
   "cell_type": "code",
   "execution_count": 23,
   "metadata": {},
   "outputs": [
    {
     "data": {
      "text/html": [
       "<div>\n",
       "<style scoped>\n",
       "    .dataframe tbody tr th:only-of-type {\n",
       "        vertical-align: middle;\n",
       "    }\n",
       "\n",
       "    .dataframe tbody tr th {\n",
       "        vertical-align: top;\n",
       "    }\n",
       "\n",
       "    .dataframe thead th {\n",
       "        text-align: right;\n",
       "    }\n",
       "</style>\n",
       "<table border=\"1\" class=\"dataframe\">\n",
       "  <thead>\n",
       "    <tr style=\"text-align: right;\">\n",
       "      <th></th>\n",
       "      <th>appearance_type_id</th>\n",
       "      <th>count</th>\n",
       "    </tr>\n",
       "  </thead>\n",
       "  <tbody>\n",
       "    <tr>\n",
       "      <th>0</th>\n",
       "      <td>ALP</td>\n",
       "      <td>280458</td>\n",
       "    </tr>\n",
       "    <tr>\n",
       "      <th>1</th>\n",
       "      <td>ASP</td>\n",
       "      <td>96036</td>\n",
       "    </tr>\n",
       "    <tr>\n",
       "      <th>2</th>\n",
       "      <td>AWB</td>\n",
       "      <td>211398</td>\n",
       "    </tr>\n",
       "  </tbody>\n",
       "</table>\n",
       "</div>"
      ],
      "text/plain": [
       "  appearance_type_id   count\n",
       "0                ALP  280458\n",
       "1                ASP   96036\n",
       "2                AWB  211398"
      ]
     },
     "metadata": {},
     "output_type": "display_data"
    }
   ],
   "source": [
    "q=\"\"\"select appearance_type_id, count(*) as count\n",
    "       from person_appearance\n",
    "   group by appearance_type_id\n",
    "   order by 1\"\"\"\n",
    "df = run_query(database_file, q)\n",
    "display(df[:3])"
   ]
  },
  {
   "cell_type": "markdown",
   "metadata": {},
   "source": [
    "<br>\n",
    "\n",
    "### Q12: Drop original tables"
   ]
  },
  {
   "cell_type": "code",
   "execution_count": 24,
   "metadata": {},
   "outputs": [
    {
     "name": "stdout",
     "output_type": "stream",
     "text": [
      "done!\n"
     ]
    }
   ],
   "source": [
    "q=\"drop table game_log\"\n",
    "run_command(database_file, q)\n",
    "q=\"drop table park_codes\"\n",
    "run_command(database_file, q)\n",
    "q=\"drop table team_codes\"\n",
    "run_command(database_file, q)\n",
    "q=\"drop table person_codes\"\n",
    "run_command(database_file, q)\n",
    "\n",
    "print(\"done!\")"
   ]
  }
 ],
 "metadata": {
  "kernelspec": {
   "display_name": "Python 3",
   "language": "python",
   "name": "python3"
  },
  "language_info": {
   "codemirror_mode": {
    "name": "ipython",
    "version": 3
   },
   "file_extension": ".py",
   "mimetype": "text/x-python",
   "name": "python",
   "nbconvert_exporter": "python",
   "pygments_lexer": "ipython3",
   "version": "3.6.6"
  }
 },
 "nbformat": 4,
 "nbformat_minor": 2
}
