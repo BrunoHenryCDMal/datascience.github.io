{
 "cells": [
  {
   "cell_type": "markdown",
   "metadata": {},
   "source": [
    "# Project: ML - KNN, LR and OLS (Predicting House Sale Prices)"
   ]
  },
  {
   "cell_type": "markdown",
   "metadata": {},
   "source": [
    "<br>\n",
    "\n",
    "## Questions to address:\n",
    "- Predict house prices using a linear regression ML algorithm\n",
    "- The multivariate LR model gives the best results"
   ]
  },
  {
   "cell_type": "markdown",
   "metadata": {},
   "source": [
    "<br>\n",
    "\n",
    "## Tools:\n",
    "- Models: \n",
    "  - KNN model: algorithm = auto, p = 2 (euclidean distance), rmse as metric\n",
    "  - Multivariate LR model\n",
    "  - Ordinary Least Squares model\n",
    "- Feature Preparation, Selection and Engineering\n",
    "  - transforming and processing:\n",
    "    - drop columns that leak information about target column\n",
    "    - remove columns with more than 25% missing values\n",
    "    - replace NaNs with mean from other rows\n",
    "    - combine some features into new ones\n",
    "    - dummy coding for categorical features\n",
    "      - transform numerical to categorical (for those where numbers have no meaning)\n",
    "      - identify text columns to make categorical:\n",
    "        - only those with only a few unique values\n",
    "        - remove low varianve columns (more than 95% of the values are the same)      \n",
    "      - deal with NaNs, then dummy code  \n",
    "  - feature selection\n",
    "    - manual process:\n",
    "      - ignore categoric columns for now\n",
    "      - calculate correlations and select strongly correlated\n",
    "      - generate sns.heatmap to check any correlations between variables\n",
    "    - automated process:\n",
    "      - using SelectKBest  \n",
    "  \n",
    "- Holdout and K-fold Validation\n",
    "- Holdout and K-fold predictions"
   ]
  },
  {
   "cell_type": "markdown",
   "metadata": {},
   "source": [
    "<br>\n",
    "\n",
    "### load defaults"
   ]
  },
  {
   "cell_type": "code",
   "execution_count": 102,
   "metadata": {},
   "outputs": [
    {
     "name": "stdout",
     "output_type": "stream",
     "text": [
      "Defaults Loaded\n"
     ]
    }
   ],
   "source": [
    "import numpy as np\n",
    "import pandas as pd\n",
    "import seaborn as sns\n",
    "import re\n",
    "import requests \n",
    "\n",
    "%matplotlib inline\n",
    "import matplotlib.pyplot as plt\n",
    "from matplotlib.ticker import MultipleLocator\n",
    "from matplotlib import rcParams\n",
    "import matplotlib.dates as mdates\n",
    "from datetime import datetime\n",
    "from IPython.display import display, Math\n",
    "\n",
    "from functions import *\n",
    "\n",
    "plt.rcParams.update({'axes.titlepad': 20, 'font.size': 12, 'axes.titlesize':20})\n",
    "\n",
    "colors = [(0/255,107/255,164/255), (255/255, 128/255, 14/255), 'red', 'green', '#9E80BA', '#8EDB8E', '#58517A']\n",
    "Ncolors = 10\n",
    "color_map = plt.cm.Blues_r(np.linspace(0.2, 0.5, Ncolors))\n",
    "#color_map = plt.cm.tab20c_r(np.linspace(0.2, 0.5, Ncolors))\n",
    "\n",
    "\n",
    "#specific to this project\n",
    "from sklearn.neighbors import KNeighborsRegressor\n",
    "from sklearn.metrics import mean_squared_error\n",
    "from sklearn.model_selection import cross_val_score, KFold, cross_val_predict\n",
    "from sklearn.feature_selection import SelectKBest, f_regression\n",
    "from sklearn.linear_model import LinearRegression\n",
    "\n",
    "print(\"Defaults Loaded\")"
   ]
  },
  {
   "cell_type": "markdown",
   "metadata": {},
   "source": [
    "<br>\n",
    "\n",
    "## Dataset: House properties and price"
   ]
  },
  {
   "cell_type": "code",
   "execution_count": 50,
   "metadata": {},
   "outputs": [
    {
     "data": {
      "text/html": [
       "<div>\n",
       "<style scoped>\n",
       "    .dataframe tbody tr th:only-of-type {\n",
       "        vertical-align: middle;\n",
       "    }\n",
       "\n",
       "    .dataframe tbody tr th {\n",
       "        vertical-align: top;\n",
       "    }\n",
       "\n",
       "    .dataframe thead th {\n",
       "        text-align: right;\n",
       "    }\n",
       "</style>\n",
       "<table border=\"1\" class=\"dataframe\">\n",
       "  <thead>\n",
       "    <tr style=\"text-align: right;\">\n",
       "      <th></th>\n",
       "      <th>Order</th>\n",
       "      <th>PID</th>\n",
       "      <th>MS SubClass</th>\n",
       "      <th>MS Zoning</th>\n",
       "      <th>Lot Frontage</th>\n",
       "      <th>Lot Area</th>\n",
       "      <th>Street</th>\n",
       "      <th>Alley</th>\n",
       "      <th>Lot Shape</th>\n",
       "      <th>Land Contour</th>\n",
       "      <th>Utilities</th>\n",
       "      <th>Lot Config</th>\n",
       "      <th>Land Slope</th>\n",
       "      <th>SalePrice</th>\n",
       "    </tr>\n",
       "  </thead>\n",
       "  <tbody>\n",
       "    <tr>\n",
       "      <th>0</th>\n",
       "      <td>1</td>\n",
       "      <td>526301100</td>\n",
       "      <td>20</td>\n",
       "      <td>RL</td>\n",
       "      <td>141.0</td>\n",
       "      <td>31770</td>\n",
       "      <td>Pave</td>\n",
       "      <td>NaN</td>\n",
       "      <td>IR1</td>\n",
       "      <td>Lvl</td>\n",
       "      <td>AllPub</td>\n",
       "      <td>Corner</td>\n",
       "      <td>Gtl</td>\n",
       "      <td>215000</td>\n",
       "    </tr>\n",
       "    <tr>\n",
       "      <th>1</th>\n",
       "      <td>2</td>\n",
       "      <td>526350040</td>\n",
       "      <td>20</td>\n",
       "      <td>RH</td>\n",
       "      <td>80.0</td>\n",
       "      <td>11622</td>\n",
       "      <td>Pave</td>\n",
       "      <td>NaN</td>\n",
       "      <td>Reg</td>\n",
       "      <td>Lvl</td>\n",
       "      <td>AllPub</td>\n",
       "      <td>Inside</td>\n",
       "      <td>Gtl</td>\n",
       "      <td>105000</td>\n",
       "    </tr>\n",
       "    <tr>\n",
       "      <th>2</th>\n",
       "      <td>3</td>\n",
       "      <td>526351010</td>\n",
       "      <td>20</td>\n",
       "      <td>RL</td>\n",
       "      <td>81.0</td>\n",
       "      <td>14267</td>\n",
       "      <td>Pave</td>\n",
       "      <td>NaN</td>\n",
       "      <td>IR1</td>\n",
       "      <td>Lvl</td>\n",
       "      <td>AllPub</td>\n",
       "      <td>Corner</td>\n",
       "      <td>Gtl</td>\n",
       "      <td>172000</td>\n",
       "    </tr>\n",
       "  </tbody>\n",
       "</table>\n",
       "</div>"
      ],
      "text/plain": [
       "   Order        PID  MS SubClass MS Zoning  Lot Frontage  Lot Area Street  \\\n",
       "0      1  526301100           20        RL         141.0     31770   Pave   \n",
       "1      2  526350040           20        RH          80.0     11622   Pave   \n",
       "2      3  526351010           20        RL          81.0     14267   Pave   \n",
       "\n",
       "  Alley Lot Shape Land Contour Utilities Lot Config Land Slope  SalePrice  \n",
       "0   NaN       IR1          Lvl    AllPub     Corner        Gtl     215000  \n",
       "1   NaN       Reg          Lvl    AllPub     Inside        Gtl     105000  \n",
       "2   NaN       IR1          Lvl    AllPub     Corner        Gtl     172000  "
      ]
     },
     "metadata": {},
     "output_type": "display_data"
    }
   ],
   "source": [
    "df = pd.read_csv('./data/AmesHousing.txt', delimiter='\\t')\n",
    "display(df.iloc[:3,[0,1,2,3,4,5,6,7,8,9,10,11,12,-1]])"
   ]
  },
  {
   "cell_type": "markdown",
   "metadata": {},
   "source": [
    "<br>\n",
    "\n",
    "### Feature Preparation, Selection and Engineering <br>\n",
    "### transforming and processing:\n",
    "- drop columns that leak information about target column\n",
    "- remove columns with more than 25% missing values\n",
    "- replace NaNs with mean from other rows\n",
    "- combine some features into new ones\n",
    "- dummy coding for categorical features\n",
    "  - transform numerical to categorical (for those where numbers have no meaning)\n",
    "  - identify text columns to make categorical:\n",
    "    - only those with only a few unique values\n",
    "    - remove low varianve columns (more than 95% of the values are the same)      \n",
    "  - deal with NaNs, then dummy code  "
   ]
  },
  {
   "cell_type": "code",
   "execution_count": 51,
   "metadata": {},
   "outputs": [],
   "source": [
    "def transform_features(df):\n",
    "    new_df = df.copy()\n",
    "    \n",
    "    #remove columns that leak information about target  + PID\n",
    "    to_drop = ['PID','Order', 'Mo Sold', 'Yr Sold', 'Sale Type', 'Sale Condition']\n",
    "    new_df.drop(to_drop,axis=1, inplace=True)\n",
    "    \n",
    "    #drop cols with more than 25% NaNs\n",
    "    null_count = df.isnull().sum()\n",
    "    null_cols = null_count[null_count>0.25*len(new_df)].index \n",
    "    new_df.drop(null_cols,axis=1, inplace=True)\n",
    "    \n",
    "    #replace NaNs in numeric null columns with mean\n",
    "    null_count = new_df.isnull().sum()\n",
    "    null_cols = null_count[null_count>0].index    \n",
    "    float_cols = new_df.select_dtypes(include=['float']).columns\n",
    "    new_df[float_cols] = new_df[float_cols].fillna(new_df[float_cols].mean())\n",
    "            \n",
    "    #create new columns age and age since remodulation\n",
    "    new_df['Age'] = 2017 - new_df['Year Built']\n",
    "    new_df['Age Since Remod'] = 2017 - new_df['Year Remod/Add']\n",
    "    new_df['Remod Age'] = new_df['Year Remod/Add'] - new_df['Year Built']\n",
    "    new_df['GarageAge'] = 2017 - new_df['Garage Yr Blt']\n",
    "    new_df.drop(['Year Built', 'Year Remod/Add', 'Garage Yr Blt'],axis=1, inplace=True)    \n",
    "            \n",
    "    #TRANSFORM TO CATEGORIC    \n",
    "    #Identify numerical columns that should be categoric or transformed     \n",
    "    #text_cols = new_df.select_dtypes(include=['int64','float64']).columns\n",
    "    #for col in text_cols:\n",
    "    #    print(col)\n",
    "    #    print(new_df[col].iloc[0:9])\n",
    "    \n",
    "    #change numeric to str to make categorical\n",
    "    new_df['MS SubClass'] = new_df['MS SubClass'].astype(str)          \n",
    "     \n",
    "    ###Identify text columns to make categorical \n",
    "    text_cols = new_df.select_dtypes(include=['object']).columns\n",
    "    for col in text_cols:           \n",
    "        #drop large number of categories >10\n",
    "        if(len(new_df[col].unique())>10):\n",
    "            new_df.drop(col,axis=1, inplace=True)\n",
    "        else:\n",
    "            #drop low variance (more than 95% in one cat)\n",
    "            counts = new_df[col].value_counts()\n",
    "            if(counts[0]>0.95*len(new_df[col])):\n",
    "                new_df.drop(col,axis=1, inplace=True)  \n",
    "            \n",
    "    #Deal with remaining text nulls before dummy coding    \n",
    "    null_count = new_df.isnull().sum()\n",
    "    null_cols = null_count[null_count>0].index   \n",
    "    #print(new_df[null_cols].info()) \n",
    "    #basement and garage descriptions have nulls(for houses without either)\n",
    "    #large number of Nans in garage conditions and probably little influence on price: drop \n",
    "    garage_cols_to_drop = ['Garage Type', 'Garage Finish', 'Garage Qual', 'Garage Cond']\n",
    "    new_df.drop(garage_cols_to_drop,axis=1, inplace=True)\n",
    "    #drop reamining nulls (basement condition rows)\n",
    "    new_df.dropna(axis=0, inplace=True)\n",
    "              \n",
    "    #DUMMY CODING    \n",
    "    text_cols = new_df.select_dtypes(include=['object']).columns    \n",
    "    for col in text_cols:             \n",
    "        new_df[col] = new_df[col].astype('category')   \n",
    "        dummy_cols = pd.get_dummies(new_df[col])    \n",
    "        new_df = pd.concat([new_df, dummy_cols], axis=1)\n",
    "        new_df.drop(col, inplace=True, axis=1)  \n",
    "              \n",
    "    \n",
    "    return new_df"
   ]
  },
  {
   "cell_type": "markdown",
   "metadata": {},
   "source": [
    "<br>\n",
    "\n",
    "### feature selection\n",
    "- manual process:\n",
    "  - ignore categoric columns for now\n",
    "  - calculate correlations and select strongly correlated\n",
    "  - generate sns.heatmap to check any correlations between variables\n",
    "- automated process:\n",
    "  - using SelectKBest"
   ]
  },
  {
   "cell_type": "markdown",
   "metadata": {},
   "source": [
    "manual process"
   ]
  },
  {
   "cell_type": "code",
   "execution_count": 74,
   "metadata": {},
   "outputs": [
    {
     "name": "stdout",
     "output_type": "stream",
     "text": [
      "['SalePrice', 'Overall Qual', 'Gr Liv Area', 'Garage Cars', 'Garage Area', '1st Flr SF', 'Total Bsmt SF', 'Full Bath', 'Age', 'Age Since Remod', 'GarageAge', 'Mas Vnr Area', 'TotRms AbvGrd']\n",
      "SalePrice          1.000000\n",
      "Overall Qual       0.796835\n",
      "Gr Liv Area        0.710544\n",
      "Garage Cars        0.650806\n",
      "Garage Area        0.640152\n",
      "1st Flr SF         0.634436\n",
      "Total Bsmt SF      0.634317\n",
      "Full Bath          0.555083\n",
      "Age                0.554400\n",
      "Age Since Remod    0.525825\n",
      "GarageAge          0.511855\n",
      "Mas Vnr Area       0.506103\n",
      "TotRms AbvGrd      0.505792\n",
      "Name: SalePrice, dtype: float64\n"
     ]
    },
    {
     "data": {
      "image/png": "[encoded data removed]",
      "text/plain": [
       "<Figure size 720x432 with 2 Axes>"
      ]
     },
     "metadata": {
      "needs_background": "light"
     },
     "output_type": "display_data"
    }
   ],
   "source": [
    "new_df = transform_features(df)\n",
    "\n",
    "#ignore categorical columns for now ('uint8')\n",
    "num_cols = new_df.select_dtypes(include=['int64','float64']).columns  \n",
    "\n",
    "corrmat = new_df[num_cols].corr()\n",
    "sorted_corrs = corrmat['SalePrice'].abs().sort_values(ascending=False)\n",
    "strong_corrs = sorted_corrs[sorted_corrs>0.5].index.tolist()\n",
    "print(strong_corrs)\n",
    "print(sorted_corrs[sorted_corrs>0.5])\n",
    "\n",
    "plt.figure(figsize=(10,6))\n",
    "sns.heatmap(new_df[strong_corrs].corr())\n",
    "plt.show()\n",
    "\n",
    "#from strongly correlated variables choose the one with highest correlation to sale price\n",
    "#'Garage Cars' and 'Garage Area': Garage Cars\n",
    "#'1st Flr SF' and 'Total Bsmt SF': 1st Flr SF\n",
    "#'Age', and 'GarageAge': Age\n",
    "selected_features_manual = ['SalePrice','Overall Qual', 'Gr Liv Area', 'Garage Cars', '1st Flr SF', \n",
    "                            'Full Bath', 'Age', 'Age Since Remod', 'Mas Vnr Area', 'TotRms AbvGrd']"
   ]
  },
  {
   "cell_type": "markdown",
   "metadata": {},
   "source": [
    "<br>\n",
    "\n",
    "**Automated feature selection with SelectKBest**"
   ]
  },
  {
   "cell_type": "code",
   "execution_count": 75,
   "metadata": {},
   "outputs": [
    {
     "name": "stdout",
     "output_type": "stream",
     "text": [
      "selected features:\n",
      "['Overall Qual', '1st Flr SF', 'Gr Liv Area', 'Full Bath', 'Age']\n",
      "\n",
      "fit scores\n",
      "[2.262e+02 4.905e+03 3.960e+01 1.900e+03 2.127e+02 4.159e+00 2.875e+03\n",
      " 1.256e+03 2.314e+02 5.613e+01 2.470e+01 9.694e+02 7.973e+02 3.257e+02\n",
      " 2.820e+02 5.097e+01 3.081e+00 3.742e+01 1.613e+01 4.861e-01 1.251e+03\n",
      " 1.078e+03 1.833e+02]\n"
     ]
    }
   ],
   "source": [
    "new_df = transform_features(df)\n",
    "\n",
    "num_cols = new_df.select_dtypes(include=['int64']).drop(['SalePrice'], axis = 1).columns \n",
    "X = new_df[num_cols].values\n",
    "Y = new_df['SalePrice'].values\n",
    "\n",
    "test = SelectKBest(score_func=f_regression, k=5)\n",
    "fit = test.fit(X, Y)\n",
    "print(\"selected features:\")\n",
    "print(all_features[test.get_support()].tolist())\n",
    "selected_features_automated = ['SalePrice','Overall Qual', '1st Flr SF', 'Gr Liv Area', 'Full Bath', 'Age']\n",
    "\n",
    "# summarize scores\n",
    "np.set_printoptions(precision=3)\n",
    "print(\"\\nfit scores\")\n",
    "print(fit.scores_)"
   ]
  },
  {
   "cell_type": "code",
   "execution_count": 76,
   "metadata": {},
   "outputs": [],
   "source": [
    "def select_features(df, selection_process):\n",
    "    selected_features_manual = ['SalePrice', 'Overall Qual', 'Gr Liv Area', 'Garage Cars', '1st Flr SF', \n",
    "                                'Full Bath', 'Age', 'Age Since Remod', 'Mas Vnr Area', 'TotRms AbvGrd']\n",
    "    selected_features_automated = ['SalePrice','Overall Qual', '1st Flr SF', 'Gr Liv Area', 'Full Bath', 'Age']\n",
    "\n",
    "    if(selection_process == 'manual'):\n",
    "        cols_to_keep = selected_features_manual\n",
    "    else:\n",
    "        cols_to_keep = selected_features_automated\n",
    "    #cols_to_keep = df.select_dtypes(include=['int64','float64']).columns  \n",
    "    #cols_to_keep = df.select_dtypes(include=['uint8', 'int64','float64']).columns      \n",
    "    #cols_to_keep = ['Age', 'SalePrice'] \n",
    "    \n",
    "    return df[cols_to_keep]"
   ]
  },
  {
   "cell_type": "markdown",
   "metadata": {},
   "source": [
    "<br>\n",
    "\n",
    "### Validation:\n",
    "- implement simple cross validation\n",
    "  - train model on train and test on test\n",
    "  - train model on test and test on train\n",
    "- implement k-fold cross valiation"
   ]
  },
  {
   "cell_type": "code",
   "execution_count": 112,
   "metadata": {},
   "outputs": [],
   "source": [
    "def train_and_test(train, test, cv_type='simple'):  \n",
    "    if(cv_type != 'kfold'):\n",
    "        cv_type = 'simple'\n",
    "       \n",
    "    features = train.columns.drop('SalePrice')\n",
    "      \n",
    "    if(cv_type=='simple'):        \n",
    "        knn = KNeighborsRegressor(n_neighbors = 5, algorithm = 'auto', p=2)\n",
    "        knn.fit(train[features], train['SalePrice'])\n",
    "        predictions = knn.predict(test[features])\n",
    "        rmse_1 = (np.sqrt(mean_squared_error(test['SalePrice'],predictions)))\n",
    "        \n",
    "        knn = KNeighborsRegressor(n_neighbors = 5, algorithm = 'auto', p=2)\n",
    "        knn.fit(test[features], test['SalePrice'])\n",
    "        predictions = knn.predict(train[features])\n",
    "        rmse_2 = (np.sqrt(mean_squared_error(train['SalePrice'],predictions)))\n",
    "        \n",
    "        print(\"RMSE on training set = {:0.2f} \\nRMSE on test set = {:0.2f}\".format(rmse_1, rmse_2))\n",
    "        \n",
    "        return predictions\n",
    "    \n",
    "    else:        \n",
    "        df = pd.concat([train,test],axis=0)\n",
    "       \n",
    "        rmse_mean_list=[]\n",
    "        rmse_std_list=[]\n",
    "        #num_folds = np.linspace(3,30,1)\n",
    "        num_folds = [3, 5, 7, 9, 10, 11, 12, 13, 14, 15, 17, 19, 21, 23, 24, 25]\n",
    "        for fold in num_folds:\n",
    "            kf = KFold(fold, shuffle=True, random_state=1)\n",
    "            model = KNeighborsRegressor(n_neighbors = 5, algorithm = 'auto', p=2)\n",
    "            #mses = cross_val_score(model, df[['Age']], df['SalePrice'], scoring=\"neg_mean_squared_error\", cv=kf)\n",
    "            mses = cross_val_score(model, df[features], df['SalePrice'], scoring=\"neg_mean_squared_error\", cv=kf)\n",
    "            rmses = np.sqrt(np.absolute(mses))\n",
    "            avg_rmse = np.mean(rmses)\n",
    "            std_rmse = np.std(rmses)\n",
    "            rmse_mean_list.append(avg_rmse)\n",
    "            rmse_std_list.append(std_rmse)\n",
    "            #print(str(fold), \"folds: \", \"avg RMSE: \", str(avg_rmse), \"std RMSE: \", str(std_rmse))\n",
    "        \n",
    "        kf = KFold(10, shuffle=True, random_state=1)\n",
    "        model = KNeighborsRegressor(n_neighbors = 5, algorithm = 'auto', p=2)\n",
    "        predictions = cross_val_predict(model, df[features], df['SalePrice'], cv=kf)\n",
    "        \n",
    "        #plot\n",
    "        bias = np.sqrt(np.array(rmse_mean_list)**2+np.array(rmse_std_list)**2)        \n",
    "        for idx, element in enumerate(bias):            \n",
    "            if((idx>2) & (idx<(len(bias)-2))):\n",
    "                #print(idx)\n",
    "                #bias[idx]=(bias[idx-1]+bias[idx]+bias[idx+1])/3\n",
    "                bias[idx]=(bias[idx-2]+bias[idx-1]+bias[idx]+bias[idx+1]+bias[idx+1])/5\n",
    "                \n",
    "        \n",
    "        fig, ax = plt.subplots(figsize=(5,5))\n",
    "        ax.plot(num_folds, bias)\n",
    "            \n",
    "        folds_array = np.array(num_folds)        \n",
    "        print(folds_array[bias==min(bias)])\n",
    "        \n",
    "        ax.set_xlabel('kfolds'), ax.set_ylabel('bias')\n",
    "        ax.tick_params(right=False, top=False)    \n",
    "        ax.spines['right'].set_visible(False) \n",
    "        ax.spines['top'].set_visible(False) \n",
    "        plt.show()\n",
    "        \n",
    "        return predictions"
   ]
  },
  {
   "cell_type": "markdown",
   "metadata": {},
   "source": [
    "<br>\n",
    "\n",
    "### Full Workflow for KNN model, holdout and k-fold valiation"
   ]
  },
  {
   "cell_type": "code",
   "execution_count": 113,
   "metadata": {},
   "outputs": [
    {
     "name": "stdout",
     "output_type": "stream",
     "text": [
      "Features used\n",
      "['SalePrice', 'Overall Qual', '1st Flr SF', 'Gr Liv Area', 'Full Bath', 'Age']\n",
      "\n",
      "Simple Validation:\n",
      "RMSE on training set = 44089.62 \n",
      "RMSE on test set = 42773.32\n",
      "[182752.8 125320.  159950.  336334.4 174700.  174700.  183480.  184220.\n",
      " 235240. ]\n",
      "\n",
      "K-fold Validation:\n",
      "[24]\n"
     ]
    },
    {
     "data": {
      "image/png": "[encoded data removed]",
      "text/plain": [
       "<Figure size 360x360 with 1 Axes>"
      ]
     },
     "metadata": {
      "needs_background": "light"
     },
     "output_type": "display_data"
    },
    {
     "name": "stdout",
     "output_type": "stream",
     "text": [
      "[185252.8 123600.  160350.  354254.4 182300.  188680.  193180.  193920.\n",
      " 230400. ]\n"
     ]
    }
   ],
   "source": [
    "new_df = transform_features(df)\n",
    "new_df = select_features(new_df, selection_process='automated')\n",
    "print('Features used')\n",
    "print(new_df.columns.tolist())\n",
    "\n",
    "print('')\n",
    "#print(new_df.info())\n",
    "    \n",
    "train = new_df[0:1460].copy()\n",
    "test = new_df[1460:].copy()\n",
    "\n",
    "print(\"Simple Validation:\")\n",
    "predictions = train_and_test(train,  test, cv_type='simple')\n",
    "print(predictions[:9])\n",
    "\n",
    "print(\"\\nK-fold Validation:\")\n",
    "predictions = train_and_test(train,  test, cv_type='kfold')\n",
    "print(predictions[:9])"
   ]
  },
  {
   "cell_type": "markdown",
   "metadata": {},
   "source": [
    "<br>\n",
    "\n",
    "### Full Workflow for LR model, holdout valiation"
   ]
  },
  {
   "cell_type": "code",
   "execution_count": 105,
   "metadata": {},
   "outputs": [
    {
     "name": "stdout",
     "output_type": "stream",
     "text": [
      "RMSE on training set = 36388.94 \n",
      "RMSE on test set = 39107.20\n"
     ]
    }
   ],
   "source": [
    "new_df = transform_features(df)\n",
    "new_df = select_features(new_df, selection_process='automated')\n",
    "\n",
    "train = new_df[0:1460].copy()\n",
    "test = new_df[1460:].copy()\n",
    "\n",
    "features = train.columns.drop('SalePrice')\n",
    "\n",
    "model = LinearRegression()\n",
    "model.fit(train[features], train['SalePrice'])\n",
    "\n",
    "train_predictions = model.predict(train[features])\n",
    "test_predictions = model.predict(test[features])\n",
    "\n",
    "target = 'SalePrice'\n",
    "train_rmse = np.sqrt(np.abs(mean_squared_error(train[target], train_predictions)))\n",
    "test_rmse = np.sqrt(np.abs(mean_squared_error(test[target], test_predictions)))\n",
    "\n",
    "print(\"RMSE on training set = {:0.2f} \\nRMSE on test set = {:0.2f}\".format(train_rmse, test_rmse))"
   ]
  },
  {
   "cell_type": "markdown",
   "metadata": {},
   "source": [
    "better results with LR model"
   ]
  },
  {
   "cell_type": "markdown",
   "metadata": {},
   "source": [
    "<br>\n",
    "\n",
    "### Full Workflow for Ordinary Least Squares model, holdout valiation"
   ]
  },
  {
   "cell_type": "code",
   "execution_count": 109,
   "metadata": {},
   "outputs": [
    {
     "name": "stdout",
     "output_type": "stream",
     "text": [
      "[ 17759.23      40.312     54.866 -12930.478   -780.377]\n",
      "RMSE on training set = 37070.10 \n",
      "RMSE on test set = 40137.60\n"
     ]
    }
   ],
   "source": [
    "new_df = transform_features(df)\n",
    "new_df = select_features(new_df, selection_process='automated')\n",
    "\n",
    "train = new_df[0:1460].copy()\n",
    "test = new_df[1460:].copy()\n",
    "\n",
    "features = train.columns.drop('SalePrice')\n",
    "\n",
    "X = train[features]\n",
    "y = train['SalePrice']\n",
    "\n",
    "a = np.dot(np.dot(np.linalg.inv(np.dot(np.transpose(X),X)), np.transpose(X)), y)\n",
    "print(a)\n",
    "\n",
    "train_predictions = train[features[0]]*a[0]\n",
    "test_predictions = test[features[0]]*a[0]\n",
    "for ii in range(1, len(a)):\n",
    "    train_predictions += train[features[ii]]*a[ii]\n",
    "    test_predictions += test[features[ii]]*a[ii]\n",
    "\n",
    "target = 'SalePrice'\n",
    "train_rmse = np.sqrt(np.abs(mean_squared_error(train[target], train_predictions)))\n",
    "test_rmse = np.sqrt(np.abs(mean_squared_error(test[target], test_predictions)))\n",
    "\n",
    "print(\"RMSE on training set = {:0.2f} \\nRMSE on test set = {:0.2f}\".format(train_rmse, test_rmse))"
   ]
  },
  {
   "cell_type": "code",
   "execution_count": null,
   "metadata": {},
   "outputs": [],
   "source": []
  }
 ],
 "metadata": {
  "anaconda-cloud": {},
  "kernelspec": {
   "display_name": "Python 3",
   "language": "python",
   "name": "python3"
  },
  "language_info": {
   "codemirror_mode": {
    "name": "ipython",
    "version": 3
   },
   "file_extension": ".py",
   "mimetype": "text/x-python",
   "name": "python",
   "nbconvert_exporter": "python",
   "pygments_lexer": "ipython3",
   "version": "3.6.6"
  }
 },
 "nbformat": 4,
 "nbformat_minor": 2
}
