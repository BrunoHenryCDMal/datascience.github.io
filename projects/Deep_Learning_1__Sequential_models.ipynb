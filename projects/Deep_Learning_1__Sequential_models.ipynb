{
 "cells": [
  {
   "cell_type": "code",
   "execution_count": 202,
   "metadata": {},
   "outputs": [],
   "source": [
    "import tensorflow as tf\n",
    "from tensorflow.estimator import DNNRegressor, LinearRegressor \n",
    "\n",
    "import keras\n",
    "from keras.layers import Dense, add, Input\n",
    "from keras.models import Model, Sequential\n",
    "from keras.utils import to_categorical\n",
    "from keras.optimizers import SGD \n",
    "from keras.callbacks import EarlyStopping \n",
    "\n",
    "from sklearn.preprocessing import MinMaxScaler\n",
    "\n",
    "\n",
    "%matplotlib inline\n",
    "import matplotlib.pyplot as plt\n",
    "\n",
    "early_stopping_monitor = EarlyStopping(patience=5)"
   ]
  },
  {
   "cell_type": "markdown",
   "metadata": {},
   "source": [
    "# 1 - Deep learning models with keras\n",
    "- deep networks: many layers, capture a lot of interactions and partially reduce the need for feature engineering\n",
    "- deep learning also called representation learning because subsequent layers build increasingly more sophisticated representations of the data\n",
    "- with images, first layers identify simple patterns, subsequent layers combine those to identify complex objects\n",
    "\n",
    "- nodes and weights:\n",
    "  - each node represents interactions between certain input features or nodes in previous layers (the more nodes, the more interactions we capture)\n",
    "  - each line has a weight (represent coefficients in regression) reflecting how much the input affects the hidden node that the line ends at"
   ]
  },
  {
   "cell_type": "markdown",
   "metadata": {},
   "source": [
    "4 steps:\n",
    "- specify architecture: how many layers, how many nodes in each layer (nodes in input just given by data), activation function in each layer\n",
    "  - sequential: layers connect to layers directly after\n",
    "  - dense: all nodes in previous layer connect with all nodes in new layer\n",
    "  - input_shape = (n_cols,) n_cols and any number of rows\n",
    "- compile: specify loss function (MSE is default for regression) and optimization (Adam is a good first choice, adaptive moment estimation)\n",
    "- fit: cycle of back propagation and update of model weights with data\n",
    "  - batches: chuncks of data, epochs: number of times trained on all batches\n",
    "- predict"
   ]
  },
  {
   "cell_type": "markdown",
   "metadata": {},
   "source": [
    "### 1.1 - activation function\n",
    "- activation functions: non linearity between features and targets - act on node values (not weights)\n",
    "- sigmoid: binary classification\n",
    "- ReLu (rectified linear unit): hidden layers,  =max(0,X)\n",
    "- **for regression use 'relu' in hidden layers, nothing in output layer**\n",
    "- **for classification use 'relu' in hidden layers, 'softmax' in output layer with >2 classes otherwise sigmoid**\n",
    "  \n",
    "- critical and may cause dying neuron: neuron takes values <0 for all rows of data, so slopes are 0 and weights don't get updated \n",
    "  - can be corrected with activation functions for which slopes are small but never zero which works with a few layers\n",
    "  - for many layers this causes vanishing gradient problem, they get very close to zero with backprop\n",
    "  - non flat below zero don't seem to work\n",
    "\n",
    "  \n",
    "\n",
    "  \n",
    "\n",
    "<img src=\"./img/activation_functions.png\" align=\"left\" style=\"width: 400px;\"/>"
   ]
  },
  {
   "cell_type": "markdown",
   "metadata": {},
   "source": [
    "### 1.2 - Optimizing a neural network: backward propagation\n",
    "- gradient descent: update weights by slope*learning rate (tipically lr=0.01, small steps to make sure we keep moving down)\n",
    "- calculated using: input value into the node, slope of loss function with respect to each weight (found by comparing output with target), slope of activation function\n",
    "- back propagation: update weights backwards from output\n",
    "  - first do forward propagation to compute error, then do back propagation\n",
    "  - by the time we do back propagation the slope of loss function has been calculated\n",
    "- normally calculate slopes in batches for each update of the weights (stochastic gradients descent, SGD), when all batches have been used 1 epoch is completed\n",
    "\n",
    "**Optimizers**:\n",
    "- Stocastic Gradient Descent (SGD): fast and avoids getting stuck in local minimum\n",
    "  - learning rate: 0.01 - 0.5 (higher learning rate, faster drop of ball, but it might miss global minima)\n",
    "- Root mean square (RMS) propgation optimizer\n",
    "  - different learning rates to each feature\n",
    "  - decay parameter which helps escape local minimum\n",
    "- Adaptive momentum optimizer (Adam)\n",
    "  - beta1 and beta2 parameters, increase to lower chance of getting stuck on local minimum"
   ]
  },
  {
   "cell_type": "markdown",
   "metadata": {},
   "source": [
    "### 1.3 - Trainning (initializer and dropout)\n",
    "- Dense layers are initialized with glorot initializer by default: initialize thousands of variables randomly to avoid local minimum\n",
    "  - alternatively specify tf.keras.layers.Dense(..., kernel_initializer='zeros')\n",
    "- avoid overfitting: memorize points instead of learning pattern\n",
    "  - dropout, randomly drop nodes from a layer: more robust classification that does not rely on particular nodes "
   ]
  },
  {
   "cell_type": "markdown",
   "metadata": {},
   "source": [
    "### 1.4 - Model or Network capacity: validation score\n",
    "- ability to find predictive patterns in data \n",
    "- create a small network then keep adding capacity as long as score keeps improving\n",
    "  - increase number of hidden layers or number of hidden nodes (start with nodes)"
   ]
  },
  {
   "cell_type": "markdown",
   "metadata": {},
   "source": [
    "<img src='./img/bias_variance.png' align='left' style=\"width: 500px;\">"
   ]
  },
  {
   "cell_type": "markdown",
   "metadata": {},
   "source": [
    "### 1.5 - Neural Nets with Keras: \n",
    "\n",
    "- Sequential API: input layer, hidden layers, output layers in sequence (don't need to pass layers into next ones)"
   ]
  },
  {
   "cell_type": "code",
   "execution_count": 175,
   "metadata": {},
   "outputs": [
    {
     "name": "stdout",
     "output_type": "stream",
     "text": [
      "_________________________________________________________________\n",
      "Layer (type)                 Output Shape              Param #   \n",
      "=================================================================\n",
      "dense_477 (Dense)            (None, 16)                48        \n",
      "_________________________________________________________________\n",
      "dense_478 (Dense)            (None, 8)                 136       \n",
      "_________________________________________________________________\n",
      "dense_479 (Dense)            (None, 4)                 36        \n",
      "=================================================================\n",
      "Total params: 220\n",
      "Trainable params: 220\n",
      "Non-trainable params: 0\n",
      "_________________________________________________________________\n",
      "None\n"
     ]
    }
   ],
   "source": [
    "model = Sequential()\n",
    "\n",
    "model.add(Dense(16, activation='relu', input_shape=(2,)))\n",
    "model.add(Dense(8, activation='relu'))\n",
    "model.add(Dense(4, activation='softmax'))\n",
    "\n",
    "model.compile('adam', loss='categorical_crossentropy')\n",
    "print(model.summary())"
   ]
  },
  {
   "cell_type": "markdown",
   "metadata": {},
   "source": [
    "- Functional API: two models with different inputs"
   ]
  },
  {
   "cell_type": "code",
   "execution_count": 176,
   "metadata": {},
   "outputs": [
    {
     "name": "stdout",
     "output_type": "stream",
     "text": [
      "__________________________________________________________________________________________________\n",
      "Layer (type)                    Output Shape         Param #     Connected to                     \n",
      "==================================================================================================\n",
      "input_15 (InputLayer)           (None, 2)            0                                            \n",
      "__________________________________________________________________________________________________\n",
      "input_16 (InputLayer)           (None, 2)            0                                            \n",
      "__________________________________________________________________________________________________\n",
      "dense_480 (Dense)               (None, 12)           36          input_15[0][0]                   \n",
      "__________________________________________________________________________________________________\n",
      "dense_482 (Dense)               (None, 8)            24          input_16[0][0]                   \n",
      "__________________________________________________________________________________________________\n",
      "dense_481 (Dense)               (None, 4)            52          dense_480[0][0]                  \n",
      "__________________________________________________________________________________________________\n",
      "dense_483 (Dense)               (None, 4)            36          dense_482[0][0]                  \n",
      "__________________________________________________________________________________________________\n",
      "add_8 (Add)                     (None, 4)            0           dense_481[0][0]                  \n",
      "                                                                 dense_483[0][0]                  \n",
      "==================================================================================================\n",
      "Total params: 148\n",
      "Trainable params: 148\n",
      "Non-trainable params: 0\n",
      "__________________________________________________________________________________________________\n",
      "None\n"
     ]
    }
   ],
   "source": [
    "m1_inputs = Input(shape=(2,))\n",
    "m1_layer1 = Dense(12, activation='sigmoid')(m1_inputs)\n",
    "m1_layer2 = Dense(4, activation='softmax')(m1_layer1)\n",
    "\n",
    "m2_inputs = Input(shape=(2,))\n",
    "m2_layer1 = Dense(8, activation='relu')(m2_inputs)\n",
    "m2_layer2 = Dense(4, activation='softmax')(m2_layer1)\n",
    "\n",
    "merged = add([m1_layer2, m2_layer2])\n",
    "model = Model(inputs=[m1_inputs, m2_inputs], outputs=merged)\n",
    "print(model.summary())"
   ]
  },
  {
   "cell_type": "markdown",
   "metadata": {},
   "source": [
    "<br>\n",
    "\n",
    "## 2 - Regression problem to predict hourly_wages: \n",
    "- optimizer='adam'"
   ]
  },
  {
   "cell_type": "code",
   "execution_count": 158,
   "metadata": {},
   "outputs": [],
   "source": [
    "df = pd.read_csv('./data/hourly_wages.csv')\n",
    "train_df = df[:int(len(df)*0.9)]\n",
    "test_df = df[int(len(df)*0.9):]\n",
    "\n",
    "train_features_df = train_df.drop('wage_per_hour', axis=1)\n",
    "train_target_df = train_df['wage_per_hour']\n",
    "\n",
    "test_features_df = test_df.drop('wage_per_hour', axis=1)\n",
    "test_target_df = test_df['wage_per_hour']\n",
    "\n",
    "n_features = features_df.shape[1]"
   ]
  },
  {
   "cell_type": "code",
   "execution_count": 160,
   "metadata": {},
   "outputs": [
    {
     "name": "stdout",
     "output_type": "stream",
     "text": [
      "54/54 [==============================] - 0s 200us/step\n",
      "Evaluation score: 5.91\n"
     ]
    }
   ],
   "source": [
    "model = Sequential()\n",
    "model.add(Dense(50, activation='relu', input_shape=(n_features,)))\n",
    "model.add(Dense(32, activation='relu'))\n",
    "model.add(Dense(1))\n",
    "\n",
    "model.compile(optimizer='adam', loss='mean_squared_error')\n",
    "#print(\"Loss function: \" + model.loss)\n",
    "model.fit(train_features_df, train_target_df, epochs=10, validation_split=0.3, verbose=False)\n",
    "score = model.evaluate(test_features_df, test_target_df)\n",
    "\n",
    "print(f\"Evaluation score: {np.sqrt(score):0.2f}\")"
   ]
  },
  {
   "cell_type": "markdown",
   "metadata": {},
   "source": [
    "<br>\n",
    "\n",
    "## 3 - Binary Classification for Titanic survival: \n",
    "- loss='categorical_crossentropy', metrics=['accuracy']\n",
    "- final layer needs one node for each outcome, with softmax activation (ensure predictions add up to one and can be interpreted as probabilities)"
   ]
  },
  {
   "cell_type": "code",
   "execution_count": 161,
   "metadata": {},
   "outputs": [],
   "source": [
    "df = pd.read_csv('./data/titanic_all_numeric.csv')\n",
    "train_df = df[:int(len(df)*0.9)]\n",
    "test_df = df[int(len(df)*0.9):]\n",
    "\n",
    "train_features_df = train_df.drop('survived', axis=1)\n",
    "train_target_df = to_categorical(train_df['survived'])\n",
    "\n",
    "test_features_df = test_df.drop('survived', axis=1)\n",
    "test_target_df = to_categorical(test_df['survived'])\n",
    "\n",
    "n_features = features_df.shape[1]"
   ]
  },
  {
   "cell_type": "markdown",
   "metadata": {},
   "source": [
    "### 3.1 - simple sequential model, fit, evaluate and predict"
   ]
  },
  {
   "cell_type": "code",
   "execution_count": 162,
   "metadata": {},
   "outputs": [
    {
     "name": "stdout",
     "output_type": "stream",
     "text": [
      "90/90 [==============================] - 0s 200us/step\n",
      "Evaluation accuracy: 0.66\n",
      "[0.2000058  0.5054923  0.22789302 0.4535593  0.13145064]\n"
     ]
    }
   ],
   "source": [
    "model = Sequential()\n",
    "model.add(Dense(32, activation='relu', input_shape=(n_cols,)))\n",
    "model.add(Dense(2, activation='softmax'))\n",
    "\n",
    "model.compile(optimizer='sgd', loss='categorical_crossentropy', metrics=['accuracy'])\n",
    "\n",
    "# Fit the model\n",
    "model.fit(train_features_df, train_target_df, epochs=10, verbose=False, validation_split=0.3, \n",
    "          callbacks=[early_stopping_monitor])\n",
    "score = model.evaluate(test_features_df, test_target_df)\n",
    "print(f\"Evaluation accuracy: {score[1]:0.2f}\")\n",
    "\n",
    "model.save('./models/titanic_model.h5')\n",
    "\n",
    "predictions = model.predict(predictors)\n",
    "predicted_prob_true = predictions[:,1]\n",
    "\n",
    "# print predicted_prob_true\n",
    "print(predicted_prob_true[:5])"
   ]
  },
  {
   "cell_type": "markdown",
   "metadata": {},
   "source": [
    "### 3.2 - Learning Rate"
   ]
  },
  {
   "cell_type": "code",
   "execution_count": 163,
   "metadata": {},
   "outputs": [
    {
     "name": "stdout",
     "output_type": "stream",
     "text": [
      "\n",
      "Testing model with learning rate: 0.000001\n",
      "Evaluation accuracy: 0.38\n",
      "\n",
      "Testing model with learning rate: 0.010000\n",
      "Evaluation accuracy: 0.62\n",
      "\n",
      "Testing model with learning rate: 1.000000\n",
      "Evaluation accuracy: 0.62\n"
     ]
    }
   ],
   "source": [
    "def get_new_model(input_shape):\n",
    "\n",
    "    model = Sequential()\n",
    "    model.add(Dense(100, activation='relu', input_shape=input_shape))\n",
    "    model.add(Dense(100, activation='relu'))\n",
    "    model.add(Dense(2, activation='softmax'))\n",
    "    \n",
    "    return (model)\n",
    "\n",
    "lr_to_test = [0.000001, 0.01, 1]\n",
    "\n",
    "# Loop over learning rates\n",
    "for lr in lr_to_test:\n",
    "    print('\\nTesting model with learning rate: %f'%lr )\n",
    "    \n",
    "    model = get_new_model((n_cols,))   \n",
    "    model.compile(optimizer=SGD(lr=lr), loss='categorical_crossentropy', metrics=['accuracy'])    \n",
    "    model.fit(train_features_df, train_target_df, epochs=10, verbose=False, validation_split=0.3, \n",
    "              callbacks=[early_stopping_monitor])\n",
    "    score = model.evaluate(test_features_df, test_target_df, verbose=False)\n",
    "    print(f\"Evaluation accuracy: {score[1]:0.2f}\")\n",
    "    "
   ]
  },
  {
   "cell_type": "markdown",
   "metadata": {},
   "source": [
    "### 3.3 - Validation\n",
    "- k-fold is uncommon because data is very large\n",
    "- earlystopping patience: how many epochs the model can go without imporving before we stop trainning"
   ]
  },
  {
   "cell_type": "code",
   "execution_count": 164,
   "metadata": {},
   "outputs": [
    {
     "name": "stdout",
     "output_type": "stream",
     "text": [
      "Evaluation accuracy model 1: 0.71\n",
      "Evaluation accuracy model 2: 0.74\n"
     ]
    },
    {
     "data": {
      "image/png": "[encoded data removed]",
      "text/plain": [
       "<Figure size 432x288 with 1 Axes>"
      ]
     },
     "metadata": {
      "needs_background": "light"
     },
     "output_type": "display_data"
    }
   ],
   "source": [
    "#model_1\n",
    "model_1 = Sequential()\n",
    "model_1.add(Dense(10, activation='relu', input_shape = (n_cols,)))\n",
    "model_1.add(Dense(10, activation='relu'))\n",
    "model_1.add(Dense(2, activation='softmax'))\n",
    "\n",
    "#model_2\n",
    "model_2 = Sequential()\n",
    "model_2.add(Dense(50, activation='relu', input_shape = (n_cols,)))\n",
    "model_2.add(Dense(50, activation='relu'))\n",
    "model_2.add(Dense(50, activation='relu'))\n",
    "model_2.add(Dense(2, activation='softmax'))\n",
    "\n",
    "\n",
    "model_1.compile(optimizer='adam', loss='categorical_crossentropy', metrics=['accuracy'])\n",
    "model_2.compile(optimizer='adam', loss='categorical_crossentropy', metrics=['accuracy'])\n",
    "\n",
    "model_1_training = model_1.fit(train_features_df, train_target_df, epochs=20, validation_split=0.3, \n",
    "                               callbacks=[early_stopping_monitor], verbose=False)\n",
    "model_2_training = model_2.fit(train_features_df, train_target_df, epochs=20, validation_split=0.3, \n",
    "                               callbacks=[early_stopping_monitor], verbose=False)\n",
    "\n",
    "score = model_1.evaluate(test_features_df, test_target_df, verbose=False)\n",
    "print(f\"Evaluation accuracy model 1: {score[1]:0.2f}\")\n",
    "score = model_2.evaluate(test_features_df, test_target_df, verbose=False)\n",
    "print(f\"Evaluation accuracy model 2: {score[1]:0.2f}\")\n",
    "\n",
    "# Create the plot\n",
    "plt.plot(model_1_training.history['val_loss'], 'r', model_2_training.history['val_loss'], 'b')\n",
    "plt.xlabel('Epochs')\n",
    "plt.ylabel('Validation score')\n",
    "plt.show()"
   ]
  },
  {
   "cell_type": "markdown",
   "metadata": {},
   "source": [
    "<br>\n",
    "\n",
    "## 4 - MultiClassification for Hand written numbers"
   ]
  },
  {
   "cell_type": "code",
   "execution_count": 165,
   "metadata": {},
   "outputs": [],
   "source": [
    "df = pd.read_csv('./data/mnist.csv', header=None)\n",
    "train_df = df[:int(len(df)*0.9)]\n",
    "test_df = df[int(len(df)*0.9):]\n",
    "\n",
    "y_train  = to_categorical(train_df.iloc[:,0])\n",
    "X_train = train_df.iloc[:,1:]\n",
    "\n",
    "y_test  = to_categorical(test_df.iloc[:,0])\n",
    "X_test = test_df.iloc[:,1:]"
   ]
  },
  {
   "cell_type": "code",
   "execution_count": 166,
   "metadata": {},
   "outputs": [
    {
     "name": "stdout",
     "output_type": "stream",
     "text": [
      "Evaluation accuracy model 2: 0.69\n"
     ]
    }
   ],
   "source": [
    "early_stopping_monitor = EarlyStopping(patience=5)\n",
    "\n",
    "model = Sequential()\n",
    "model.add(Dense(20, activation='relu', input_shape=(784,)))\n",
    "model.add(Dense(20, activation='relu', input_shape=(784,)))\n",
    "model.add(Dense(20, activation='relu', input_shape=(784,)))\n",
    "model.add(Dense(20, activation='relu', input_shape=(784,)))\n",
    "model.add(Dense(10, activation='softmax'))\n",
    "\n",
    "# Compile the model\n",
    "model.compile(optimizer='adam', loss='categorical_crossentropy', metrics=['accuracy'])\n",
    "\n",
    "# Fit the model\n",
    "model.fit(X_train,y_train,validation_split=0.3, verbose=False, epochs=50, callbacks=[early_stopping_monitor])\n",
    "score = model.evaluate(X_test, y_test, verbose=False)\n",
    "print(f\"Evaluation accuracy: {score[1]:0.2f}\")"
   ]
  },
  {
   "cell_type": "markdown",
   "metadata": {},
   "source": [
    "<br>\n",
    "\n",
    "## 5 - MultiClassification for 4 signs from sign language\n",
    "- dataset: 2000 sign language images (first column 0 to 3 to represent each of 4 signs), additional 784 columns represent 28x28 pixel image"
   ]
  },
  {
   "cell_type": "code",
   "execution_count": 178,
   "metadata": {},
   "outputs": [],
   "source": [
    "early_stopping_monitor = EarlyStopping(patience=5)\n",
    "\n",
    "df = pd.read_csv('./data/slmnist.csv', header=None, dtype=np.float64)\n",
    "\n",
    "target_df = np.array(pd.get_dummies(df.iloc[:,0]))\n",
    "features_df = df.iloc[:,1:]\n",
    "features_df = pd.DataFrame(MinMaxScaler().fit_transform(features_df), columns=features_df.columns)\n",
    "\n",
    "train_features_df = features_df[:int(len(features_df)*0.9)]\n",
    "train_target_df = target_df[:int(len(target_df)*0.9)]\n",
    "\n",
    "test_features_df = features_df[int(len(features_df)*0.9):]\n",
    "test_target_df = target_df[int(len(target_df)*0.9):]"
   ]
  },
  {
   "cell_type": "code",
   "execution_count": 183,
   "metadata": {},
   "outputs": [
    {
     "name": "stdout",
     "output_type": "stream",
     "text": [
      "Evaluation train accuracy: 0.91\n",
      "Evaluation test accuracy: 0.86\n"
     ]
    }
   ],
   "source": [
    "model = Sequential()\n",
    "model.add(Dense(16, activation='relu', input_shape=(784,)))\n",
    "model.add(Dense(4, activation='softmax'))\n",
    "\n",
    "model.compile('SGD', loss='categorical_crossentropy', metrics=['accuracy'])\n",
    "\n",
    "model.fit(train_features_df, train_target_df, validation_split=0.3, verbose=False, epochs=5, \n",
    "          callbacks=[early_stopping_monitor])\n",
    "\n",
    "score = model.evaluate(test_features_df, test_target_df, verbose=False)\n",
    "print(f\"Evaluation train accuracy: {score[1]:0.2f}\")\n",
    "score = model.evaluate(train_features_df, train_target_df, verbose=False)\n",
    "print(f\"Evaluation test accuracy: {score[1]:0.2f}\")"
   ]
  },
  {
   "cell_type": "code",
   "execution_count": 184,
   "metadata": {},
   "outputs": [
    {
     "name": "stdout",
     "output_type": "stream",
     "text": [
      "Evaluation train accuracy: 0.94\n",
      "Evaluation test accuracy: 0.93\n"
     ]
    }
   ],
   "source": [
    "model = Sequential()\n",
    "model.add(Dense(32, activation='relu', input_shape=(784,)))\n",
    "model.add(Dense(4, activation='softmax'))\n",
    "\n",
    "model.compile('SGD', loss='categorical_crossentropy', metrics=['accuracy'])\n",
    "\n",
    "model.fit(train_features_df, train_target_df, validation_split=0.3, verbose=False, epochs=5, \n",
    "          callbacks=[early_stopping_monitor])\n",
    "\n",
    "score = model.evaluate(test_features_df, test_target_df, verbose=False)\n",
    "print(f\"Evaluation train accuracy: {score[1]:0.2f}\")\n",
    "score = model.evaluate(train_features_df, train_target_df, verbose=False)\n",
    "print(f\"Evaluation test accuracy: {score[1]:0.2f}\")"
   ]
  },
  {
   "cell_type": "code",
   "execution_count": 187,
   "metadata": {},
   "outputs": [
    {
     "name": "stdout",
     "output_type": "stream",
     "text": [
      "Evaluation train accuracy: 0.95\n",
      "Evaluation test accuracy: 0.95\n"
     ]
    }
   ],
   "source": [
    "model = Sequential()\n",
    "model.add(Dense(128, activation='relu', input_shape=(784,)))\n",
    "model.add(Dense(4, activation='softmax'))\n",
    "\n",
    "model.compile('SGD', loss='categorical_crossentropy', metrics=['accuracy'])\n",
    "\n",
    "model.fit(train_features_df, train_target_df, validation_split=0.3, verbose=False, epochs=5, \n",
    "          callbacks=[early_stopping_monitor])\n",
    "\n",
    "score = model.evaluate(test_features_df, test_target_df, verbose=False)\n",
    "print(f\"Evaluation train accuracy: {score[1]:0.2f}\")\n",
    "score = model.evaluate(train_features_df, train_target_df, verbose=False)\n",
    "print(f\"Evaluation test accuracy: {score[1]:0.2f}\")"
   ]
  },
  {
   "cell_type": "code",
   "execution_count": 193,
   "metadata": {},
   "outputs": [
    {
     "name": "stdout",
     "output_type": "stream",
     "text": [
      "Evaluation train accuracy: 0.86\n",
      "Evaluation test accuracy: 0.84\n"
     ]
    }
   ],
   "source": [
    "model = Sequential()\n",
    "model.add(Dense(16, activation='relu', input_shape=(784,)))\n",
    "model.add(Dense(16, activation='relu'))\n",
    "model.add(Dense(16, activation='relu'))\n",
    "model.add(Dense(4, activation='softmax'))\n",
    "\n",
    "model.compile('SGD', loss='categorical_crossentropy', metrics=['accuracy'])\n",
    "\n",
    "model.fit(train_features_df, train_target_df, validation_split=0.3, verbose=False, epochs=5, \n",
    "          callbacks=[early_stopping_monitor])\n",
    "\n",
    "score = model.evaluate(test_features_df, test_target_df, verbose=False)\n",
    "print(f\"Evaluation train accuracy: {score[1]:0.2f}\")\n",
    "score = model.evaluate(train_features_df, train_target_df, verbose=False)\n",
    "print(f\"Evaluation test accuracy: {score[1]:0.2f}\")"
   ]
  },
  {
   "cell_type": "markdown",
   "metadata": {},
   "source": [
    "<br>\n",
    "\n",
    "## 6 - High level Estimators: predict House Prices \n",
    "- high level: Estimators - enforces best practices, faster deployment, less flexibility\n",
    "- mid level: layers, datasets, metrics\n",
    "- low level: python "
   ]
  },
  {
   "cell_type": "code",
   "execution_count": 222,
   "metadata": {},
   "outputs": [],
   "source": [
    "tf.logging.set_verbosity(0)"
   ]
  },
  {
   "cell_type": "code",
   "execution_count": 237,
   "metadata": {},
   "outputs": [],
   "source": [
    "housing = pd.read_csv('./data/kc_house_data.csv')\n",
    "\n",
    "bedrooms = tf.feature_column.numeric_column(\"bedrooms\")\n",
    "bathrooms = tf.feature_column.numeric_column(\"bathrooms\")\n",
    "sqft_living = tf.feature_column.numeric_column(\"sqft_living\")\n",
    "\n",
    "# Define the list of feature columns\n",
    "feature_list = [bedrooms, bathrooms, sqft_living]\n",
    "\n",
    "def input_fn():\n",
    "    labels = np.array(housing['price'])\n",
    "    features = {'bedrooms':np.array(housing['bedrooms']), \n",
    "                'bathrooms':np.array(housing['bathrooms']),\n",
    "                'sqft_living':np.array(housing['sqft_living'])\n",
    "               }\n",
    "    return features, labels"
   ]
  },
  {
   "cell_type": "code",
   "execution_count": 254,
   "metadata": {},
   "outputs": [
    {
     "name": "stdout",
     "output_type": "stream",
     "text": [
      "WARNING:tensorflow:Using temporary folder as model directory: /var/folders/0z/4fv_kbd53yjd5q8jnf62dk0w0000gn/T/tmp8zzyq0m2\n",
      "{'average_loss': 68717790000.0, 'label/mean': 540088.1, 'loss': 1485197500000000.0, 'prediction/mean': 541660.4, 'global_step': 100}\n",
      "Mean error from evaluation: 262140.78\n"
     ]
    }
   ],
   "source": [
    "model = DNNRegressor(feature_columns=feature_list, hidden_units=[4,200])\n",
    "model_trainning = model.train(input_fn, steps=100)\n",
    "score = model.evaluate(input_fn, steps=10)\n",
    "print(score)\n",
    "print(f\"Mean error from evaluation: {np.sqrt(score['average_loss']):0.2f}\")"
   ]
  },
  {
   "cell_type": "code",
   "execution_count": 255,
   "metadata": {},
   "outputs": [
    {
     "name": "stdout",
     "output_type": "stream",
     "text": [
      "WARNING:tensorflow:Using temporary folder as model directory: /var/folders/0z/4fv_kbd53yjd5q8jnf62dk0w0000gn/T/tmp24hg78_8\n",
      "{'average_loss': 403382400000.0, 'label/mean': 540087.25, 'loss': 8718303600000000.0, 'prediction/mean': 17955.258, 'global_step': 500}\n",
      "Mean error from evaluation: 635123.94\n"
     ]
    }
   ],
   "source": [
    "model = tf.estimator.LinearRegressor(feature_columns=feature_list)\n",
    "model_trainning = model.train(input_fn, steps=500)\n",
    "score = model.evaluate(input_fn, steps=500)\n",
    "print(score)\n",
    "print(f\"Mean error from evaluation: {np.sqrt(score['average_loss']):0.2f}\")"
   ]
  },
  {
   "cell_type": "code",
   "execution_count": null,
   "metadata": {},
   "outputs": [],
   "source": []
  }
 ],
 "metadata": {
  "kernelspec": {
   "display_name": "Python 3",
   "language": "python",
   "name": "python3"
  },
  "language_info": {
   "codemirror_mode": {
    "name": "ipython",
    "version": 3
   },
   "file_extension": ".py",
   "mimetype": "text/x-python",
   "name": "python",
   "nbconvert_exporter": "python",
   "pygments_lexer": "ipython3",
   "version": "3.7.3"
  }
 },
 "nbformat": 4,
 "nbformat_minor": 2
}
