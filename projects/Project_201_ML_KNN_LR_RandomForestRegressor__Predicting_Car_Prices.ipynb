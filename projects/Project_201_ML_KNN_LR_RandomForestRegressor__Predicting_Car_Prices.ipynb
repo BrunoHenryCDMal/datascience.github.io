{
 "cells": [
  {
   "cell_type": "markdown",
   "metadata": {
    "collapsed": true
   },
   "source": [
    "# Project: ML - KNN, Multivariate Liner Regression and Random Forest Regressor + NN (Predicting Car Prices)"
   ]
  },
  {
   "cell_type": "markdown",
   "metadata": {},
   "source": [
    "<br>\n",
    "\n",
    "## Problem:\n",
    "- Predict car prices from car technical properties: horsepower, car weight, mpg, acceleration, etc)\n",
    "- Regression using KNN, Multivariate LinearRegression, RandomForestRegressor and Neural Networks"
   ]
  },
  {
   "cell_type": "markdown",
   "metadata": {},
   "source": [
    "<br>\n",
    "\n",
    "## Tools:\n",
    "- Feature Engineering: \n",
    "  - transforming and processing: replace '?' with Nan, convert some to float, drop rows with NaN in target column\n",
    "  - HMD (inputation), Min_max rescaling and reshuffle df\n",
    "  - Selection: one feature at a time, combinations of the best individual features, RFECV \n",
    "- Models: KNN, Multivariate LinearRegression, RandomForestRegressor and Neural Networks\n",
    "- Model validation and hyperparameter search: GridSearchCV, K-fold validation and predictions, Bias vs Variance with cross_val, manual feature selection and hyperparameter optimization for the best KNN model\n",
    "- Error Metrics: R2, explained variance and RMSE"
   ]
  },
  {
   "cell_type": "markdown",
   "metadata": {},
   "source": [
    "<br>\n",
    "\n",
    "### load defaults"
   ]
  },
  {
   "cell_type": "code",
   "execution_count": 81,
   "metadata": {},
   "outputs": [
    {
     "name": "stdout",
     "output_type": "stream",
     "text": [
      "Defaults Loaded\n"
     ]
    }
   ],
   "source": [
    "import numpy as np\n",
    "import pandas as pd\n",
    "import seaborn as sns\n",
    "import re\n",
    "import requests \n",
    "\n",
    "%matplotlib inline\n",
    "import matplotlib.pyplot as plt\n",
    "from matplotlib.ticker import MultipleLocator\n",
    "from matplotlib import rcParams\n",
    "import matplotlib.dates as mdates\n",
    "from datetime import datetime\n",
    "from IPython.display import display, Math\n",
    "\n",
    "from functions import *\n",
    "\n",
    "plt.rcParams.update({'axes.titlepad': 20, 'font.size': 12, 'axes.titlesize':20})\n",
    "\n",
    "colors = [(0/255,107/255,164/255), (255/255, 128/255, 14/255), 'red', 'green', '#9E80BA', '#8EDB8E', '#58517A']\n",
    "Ncolors = 10\n",
    "color_map = plt.cm.Blues_r(np.linspace(0.2, 0.5, Ncolors))\n",
    "#color_map = plt.cm.tab20c_r(np.linspace(0.2, 0.5, Ncolors))\n",
    "\n",
    "\n",
    "#specific to this project\n",
    "from sklearn.feature_selection import RFECV\n",
    "from sklearn.model_selection import GridSearchCV\n",
    "\n",
    "from sklearn.linear_model import LinearRegression\n",
    "from sklearn.ensemble import RandomForestRegressor, GradientBoostingRegressor\n",
    "from sklearn.neighbors import KNeighborsRegressor\n",
    "from sklearn.metrics import mean_squared_error, r2_score\n",
    "from sklearn.model_selection import cross_val_score, KFold, cross_val_predict, train_test_split\n",
    "\n",
    "print(\"Defaults Loaded\")"
   ]
  },
  {
   "cell_type": "markdown",
   "metadata": {},
   "source": [
    "<br>\n",
    "\n",
    "## Dataset: Car properties and price"
   ]
  },
  {
   "cell_type": "code",
   "execution_count": 202,
   "metadata": {},
   "outputs": [
    {
     "data": {
      "text/html": [
       "<div>\n",
       "<style scoped>\n",
       "    .dataframe tbody tr th:only-of-type {\n",
       "        vertical-align: middle;\n",
       "    }\n",
       "\n",
       "    .dataframe tbody tr th {\n",
       "        vertical-align: top;\n",
       "    }\n",
       "\n",
       "    .dataframe thead th {\n",
       "        text-align: right;\n",
       "    }\n",
       "</style>\n",
       "<table border=\"1\" class=\"dataframe\">\n",
       "  <thead>\n",
       "    <tr style=\"text-align: right;\">\n",
       "      <th></th>\n",
       "      <th>symboling</th>\n",
       "      <th>normalized-losses</th>\n",
       "      <th>make</th>\n",
       "      <th>fuel-type</th>\n",
       "      <th>aspiration</th>\n",
       "      <th>num-of-doors</th>\n",
       "      <th>body-style</th>\n",
       "      <th>drive-wheels</th>\n",
       "      <th>engine-location</th>\n",
       "      <th>wheel-base</th>\n",
       "      <th>length</th>\n",
       "      <th>width</th>\n",
       "      <th>height</th>\n",
       "      <th>curb-weight</th>\n",
       "    </tr>\n",
       "  </thead>\n",
       "  <tbody>\n",
       "    <tr>\n",
       "      <th>0</th>\n",
       "      <td>3</td>\n",
       "      <td>?</td>\n",
       "      <td>alfa-romero</td>\n",
       "      <td>gas</td>\n",
       "      <td>std</td>\n",
       "      <td>two</td>\n",
       "      <td>convertible</td>\n",
       "      <td>rwd</td>\n",
       "      <td>front</td>\n",
       "      <td>88.6</td>\n",
       "      <td>168.8</td>\n",
       "      <td>64.1</td>\n",
       "      <td>48.8</td>\n",
       "      <td>2548</td>\n",
       "    </tr>\n",
       "    <tr>\n",
       "      <th>1</th>\n",
       "      <td>3</td>\n",
       "      <td>?</td>\n",
       "      <td>alfa-romero</td>\n",
       "      <td>gas</td>\n",
       "      <td>std</td>\n",
       "      <td>two</td>\n",
       "      <td>convertible</td>\n",
       "      <td>rwd</td>\n",
       "      <td>front</td>\n",
       "      <td>88.6</td>\n",
       "      <td>168.8</td>\n",
       "      <td>64.1</td>\n",
       "      <td>48.8</td>\n",
       "      <td>2548</td>\n",
       "    </tr>\n",
       "    <tr>\n",
       "      <th>2</th>\n",
       "      <td>1</td>\n",
       "      <td>?</td>\n",
       "      <td>alfa-romero</td>\n",
       "      <td>gas</td>\n",
       "      <td>std</td>\n",
       "      <td>two</td>\n",
       "      <td>hatchback</td>\n",
       "      <td>rwd</td>\n",
       "      <td>front</td>\n",
       "      <td>94.5</td>\n",
       "      <td>171.2</td>\n",
       "      <td>65.5</td>\n",
       "      <td>52.4</td>\n",
       "      <td>2823</td>\n",
       "    </tr>\n",
       "  </tbody>\n",
       "</table>\n",
       "</div>"
      ],
      "text/plain": [
       "   symboling normalized-losses         make fuel-type aspiration num-of-doors  \\\n",
       "0          3                 ?  alfa-romero       gas        std          two   \n",
       "1          3                 ?  alfa-romero       gas        std          two   \n",
       "2          1                 ?  alfa-romero       gas        std          two   \n",
       "\n",
       "    body-style drive-wheels engine-location  wheel-base  length  width  \\\n",
       "0  convertible          rwd           front        88.6   168.8   64.1   \n",
       "1  convertible          rwd           front        88.6   168.8   64.1   \n",
       "2    hatchback          rwd           front        94.5   171.2   65.5   \n",
       "\n",
       "   height  curb-weight  \n",
       "0    48.8         2548  \n",
       "1    48.8         2548  \n",
       "2    52.4         2823  "
      ]
     },
     "metadata": {},
     "output_type": "display_data"
    }
   ],
   "source": [
    "cols = ['symboling', 'normalized-losses', 'make', 'fuel-type', 'aspiration', 'num-of-doors', 'body-style', \n",
    "        'drive-wheels', 'engine-location', 'wheel-base', 'length', 'width', 'height', 'curb-weight', \n",
    "        'engine-type', 'num-of-cylinders', 'engine-size', 'fuel-system', 'bore', 'stroke', 'compression-rate', \n",
    "        'horsepower', 'peak-rpm', 'city-mpg', 'highway-mpg', 'price']\n",
    "cars = pd.read_csv(\"./data/imports-85.data\", names=cols)\n",
    "\n",
    "display(cars.iloc[:3,:14])"
   ]
  },
  {
   "cell_type": "markdown",
   "metadata": {},
   "source": [
    "<br>\n",
    "\n",
    "## Analysis:"
   ]
  },
  {
   "cell_type": "markdown",
   "metadata": {},
   "source": [
    "<br>\n",
    "\n",
    "## 1 - Feature Engineering"
   ]
  },
  {
   "cell_type": "markdown",
   "metadata": {},
   "source": [
    "### transforming and processing\n",
    "- identify numeric columns\n",
    "- replace '?' with Nan\n",
    "- convert to float\n",
    "- drop cols with NaN in target column\n",
    "- replace NaNs with mean from other rows\n",
    "- normalize features"
   ]
  },
  {
   "cell_type": "code",
   "execution_count": 203,
   "metadata": {},
   "outputs": [
    {
     "data": {
      "text/html": [
       "<div>\n",
       "<style scoped>\n",
       "    .dataframe tbody tr th:only-of-type {\n",
       "        vertical-align: middle;\n",
       "    }\n",
       "\n",
       "    .dataframe tbody tr th {\n",
       "        vertical-align: top;\n",
       "    }\n",
       "\n",
       "    .dataframe thead th {\n",
       "        text-align: right;\n",
       "    }\n",
       "</style>\n",
       "<table border=\"1\" class=\"dataframe\">\n",
       "  <thead>\n",
       "    <tr style=\"text-align: right;\">\n",
       "      <th></th>\n",
       "      <th>normalized-losses</th>\n",
       "      <th>wheel-base</th>\n",
       "      <th>length</th>\n",
       "      <th>width</th>\n",
       "      <th>height</th>\n",
       "      <th>curb-weight</th>\n",
       "      <th>engine-size</th>\n",
       "      <th>bore</th>\n",
       "      <th>stroke</th>\n",
       "      <th>compression-rate</th>\n",
       "      <th>horsepower</th>\n",
       "      <th>peak-rpm</th>\n",
       "      <th>city-mpg</th>\n",
       "    </tr>\n",
       "  </thead>\n",
       "  <tbody>\n",
       "    <tr>\n",
       "      <th>0</th>\n",
       "      <td>0.298429</td>\n",
       "      <td>0.058309</td>\n",
       "      <td>0.413433</td>\n",
       "      <td>0.324786</td>\n",
       "      <td>0.083333</td>\n",
       "      <td>0.411171</td>\n",
       "      <td>0.260377</td>\n",
       "      <td>0.664286</td>\n",
       "      <td>0.290476</td>\n",
       "      <td>0.125</td>\n",
       "      <td>0.294393</td>\n",
       "      <td>0.346939</td>\n",
       "      <td>0.222222</td>\n",
       "    </tr>\n",
       "    <tr>\n",
       "      <th>1</th>\n",
       "      <td>0.298429</td>\n",
       "      <td>0.058309</td>\n",
       "      <td>0.413433</td>\n",
       "      <td>0.324786</td>\n",
       "      <td>0.083333</td>\n",
       "      <td>0.411171</td>\n",
       "      <td>0.260377</td>\n",
       "      <td>0.664286</td>\n",
       "      <td>0.290476</td>\n",
       "      <td>0.125</td>\n",
       "      <td>0.294393</td>\n",
       "      <td>0.346939</td>\n",
       "      <td>0.222222</td>\n",
       "    </tr>\n",
       "    <tr>\n",
       "      <th>2</th>\n",
       "      <td>0.298429</td>\n",
       "      <td>0.230321</td>\n",
       "      <td>0.449254</td>\n",
       "      <td>0.444444</td>\n",
       "      <td>0.383333</td>\n",
       "      <td>0.517843</td>\n",
       "      <td>0.343396</td>\n",
       "      <td>0.100000</td>\n",
       "      <td>0.666667</td>\n",
       "      <td>0.125</td>\n",
       "      <td>0.495327</td>\n",
       "      <td>0.346939</td>\n",
       "      <td>0.166667</td>\n",
       "    </tr>\n",
       "  </tbody>\n",
       "</table>\n",
       "</div>"
      ],
      "text/plain": [
       "   normalized-losses  wheel-base    length     width    height  curb-weight  \\\n",
       "0           0.298429    0.058309  0.413433  0.324786  0.083333     0.411171   \n",
       "1           0.298429    0.058309  0.413433  0.324786  0.083333     0.411171   \n",
       "2           0.298429    0.230321  0.449254  0.444444  0.383333     0.517843   \n",
       "\n",
       "   engine-size      bore    stroke  compression-rate  horsepower  peak-rpm  \\\n",
       "0     0.260377  0.664286  0.290476             0.125    0.294393  0.346939   \n",
       "1     0.260377  0.664286  0.290476             0.125    0.294393  0.346939   \n",
       "2     0.343396  0.100000  0.666667             0.125    0.495327  0.346939   \n",
       "\n",
       "   city-mpg  \n",
       "0  0.222222  \n",
       "1  0.222222  \n",
       "2  0.166667  "
      ]
     },
     "metadata": {},
     "output_type": "display_data"
    }
   ],
   "source": [
    "continuous_values_cols = ['normalized-losses', 'wheel-base', 'length', 'width', 'height', \n",
    "                          'curb-weight', 'engine-size', 'bore', 'stroke', 'compression-rate', 'horsepower', \n",
    "                          'peak-rpm', 'city-mpg', 'highway-mpg', 'price']\n",
    "\n",
    "numeric_cars = cars[continuous_values_cols].copy()\n",
    "\n",
    "#replace ? with nan \n",
    "numeric_cars.replace('?', np.nan, inplace=True)\n",
    "\n",
    "#convert some columns to float\n",
    "to_convert = ['normalized-losses','bore','stroke','horsepower', 'peak-rpm','price']\n",
    "numeric_cars[to_convert] = numeric_cars[to_convert].astype(float)\n",
    "\n",
    "#drop cols with Nan price\n",
    "numeric_cars = numeric_cars.dropna(subset=['price'])\n",
    "\n",
    "#replace NaN with mean from other rows\n",
    "numeric_cars = numeric_cars.fillna(numeric_cars.mean())\n",
    "\n",
    "#normalize features\n",
    "price = numeric_cars['price']\n",
    "#normalized_cars = (numeric_cars - numeric_cars.mean()) / (numeric_cars.std())\n",
    "numeric_cars = (numeric_cars - numeric_cars.min())/(numeric_cars.max() - numeric_cars.min())\n",
    "numeric_cars['price'] = price\n",
    "\n",
    "display(numeric_cars.iloc[:3,:13])"
   ]
  },
  {
   "cell_type": "markdown",
   "metadata": {},
   "source": [
    "**randomize rows so the neighbours found are not biased**"
   ]
  },
  {
   "cell_type": "code",
   "execution_count": 204,
   "metadata": {},
   "outputs": [
    {
     "data": {
      "text/html": [
       "<div>\n",
       "<style scoped>\n",
       "    .dataframe tbody tr th:only-of-type {\n",
       "        vertical-align: middle;\n",
       "    }\n",
       "\n",
       "    .dataframe tbody tr th {\n",
       "        vertical-align: top;\n",
       "    }\n",
       "\n",
       "    .dataframe thead th {\n",
       "        text-align: right;\n",
       "    }\n",
       "</style>\n",
       "<table border=\"1\" class=\"dataframe\">\n",
       "  <thead>\n",
       "    <tr style=\"text-align: right;\">\n",
       "      <th></th>\n",
       "      <th>normalized-losses</th>\n",
       "      <th>wheel-base</th>\n",
       "      <th>length</th>\n",
       "      <th>width</th>\n",
       "      <th>height</th>\n",
       "      <th>curb-weight</th>\n",
       "      <th>engine-size</th>\n",
       "      <th>bore</th>\n",
       "      <th>stroke</th>\n",
       "      <th>compression-rate</th>\n",
       "      <th>horsepower</th>\n",
       "      <th>peak-rpm</th>\n",
       "      <th>city-mpg</th>\n",
       "    </tr>\n",
       "  </thead>\n",
       "  <tbody>\n",
       "    <tr>\n",
       "      <th>100</th>\n",
       "      <td>0.214660</td>\n",
       "      <td>0.309038</td>\n",
       "      <td>0.482090</td>\n",
       "      <td>0.418803</td>\n",
       "      <td>0.575000</td>\n",
       "      <td>0.315749</td>\n",
       "      <td>0.222642</td>\n",
       "      <td>0.564286</td>\n",
       "      <td>0.666667</td>\n",
       "      <td>0.09375</td>\n",
       "      <td>0.228972</td>\n",
       "      <td>0.428571</td>\n",
       "      <td>0.388889</td>\n",
       "    </tr>\n",
       "    <tr>\n",
       "      <th>120</th>\n",
       "      <td>0.465969</td>\n",
       "      <td>0.206997</td>\n",
       "      <td>0.241791</td>\n",
       "      <td>0.299145</td>\n",
       "      <td>0.233333</td>\n",
       "      <td>0.185803</td>\n",
       "      <td>0.109434</td>\n",
       "      <td>0.307143</td>\n",
       "      <td>0.552381</td>\n",
       "      <td>0.15000</td>\n",
       "      <td>0.093458</td>\n",
       "      <td>0.551020</td>\n",
       "      <td>0.500000</td>\n",
       "    </tr>\n",
       "    <tr>\n",
       "      <th>62</th>\n",
       "      <td>0.261780</td>\n",
       "      <td>0.355685</td>\n",
       "      <td>0.547761</td>\n",
       "      <td>0.529915</td>\n",
       "      <td>0.641667</td>\n",
       "      <td>0.357642</td>\n",
       "      <td>0.230189</td>\n",
       "      <td>0.607143</td>\n",
       "      <td>0.628571</td>\n",
       "      <td>0.10000</td>\n",
       "      <td>0.168224</td>\n",
       "      <td>0.265306</td>\n",
       "      <td>0.361111</td>\n",
       "    </tr>\n",
       "  </tbody>\n",
       "</table>\n",
       "</div>"
      ],
      "text/plain": [
       "     normalized-losses  wheel-base    length     width    height  curb-weight  \\\n",
       "100           0.214660    0.309038  0.482090  0.418803  0.575000     0.315749   \n",
       "120           0.465969    0.206997  0.241791  0.299145  0.233333     0.185803   \n",
       "62            0.261780    0.355685  0.547761  0.529915  0.641667     0.357642   \n",
       "\n",
       "     engine-size      bore    stroke  compression-rate  horsepower  peak-rpm  \\\n",
       "100     0.222642  0.564286  0.666667           0.09375    0.228972  0.428571   \n",
       "120     0.109434  0.307143  0.552381           0.15000    0.093458  0.551020   \n",
       "62      0.230189  0.607143  0.628571           0.10000    0.168224  0.265306   \n",
       "\n",
       "     city-mpg  \n",
       "100  0.388889  \n",
       "120  0.500000  \n",
       "62   0.361111  "
      ]
     },
     "metadata": {},
     "output_type": "display_data"
    }
   ],
   "source": [
    "np.random.seed(1)    \n",
    "numeric_cars = numeric_cars.iloc[np.random.permutation(len(numeric_cars))]\n",
    "display(numeric_cars.iloc[:3,:13])  "
   ]
  },
  {
   "cell_type": "markdown",
   "metadata": {},
   "source": [
    "<br>\n",
    "\n",
    "## 2 - Feature Selection with RFECV\n",
    "- Can only be done for LinearRegression, RandomForest and GradientBoosting"
   ]
  },
  {
   "cell_type": "code",
   "execution_count": 205,
   "metadata": {},
   "outputs": [
    {
     "name": "stdout",
     "output_type": "stream",
     "text": [
      "Best Columns \n",
      "------------\n",
      "['wheel-base', 'length', 'width', 'curb-weight', 'engine-size', 'stroke', 'compression-rate', 'horsepower', 'peak-rpm', 'city-mpg', 'highway-mpg']\n",
      "\n",
      "Best Columns \n",
      "------------\n",
      "['normalized-losses', 'wheel-base', 'length', 'width', 'height', 'curb-weight', 'engine-size', 'bore', 'compression-rate', 'horsepower', 'peak-rpm', 'city-mpg', 'highway-mpg']\n",
      "\n",
      "Best Columns \n",
      "------------\n",
      "['wheel-base', 'length', 'width', 'height', 'curb-weight', 'engine-size', 'compression-rate', 'horsepower', 'city-mpg', 'highway-mpg']\n",
      "\n"
     ]
    }
   ],
   "source": [
    "def select_features(df, target, model):    \n",
    "    #select numeric and drop NaNs\n",
    "    df_new = df.select_dtypes([np.number]).dropna(axis=1)\n",
    "  \n",
    "    all_X = df_new.drop(target, axis=1)\n",
    "    all_y = df_new[target]\n",
    "    \n",
    "    #cv is the number of folds\n",
    "    selector = RFECV(model, cv=10)\n",
    "    selector.fit(all_X, all_y)    \n",
    "    optimized_columns = list(all_X.columns[selector.support_])\n",
    "    \n",
    "    print(\"Best Columns \\n\"+\"-\"*12+\"\\n{}\\n\".format(optimized_columns))\n",
    "    \n",
    "    return optimized_columns\n",
    "\n",
    "target = 'price'\n",
    "\n",
    "model=LinearRegression()\n",
    "optimized_columns_LR = select_features(numeric_cars, target, model)\n",
    "\n",
    "model = RandomForestRegressor(n_estimators=100, random_state=1, min_samples_leaf=2)    \n",
    "optimized_columns_RFR = select_features(numeric_cars, target, model)\n",
    "\n",
    "model = GradientBoostingRegressor(learning_rate=0.01, n_estimators=100,subsample=0.6,random_state=42)  \n",
    "optimized_columns_GBR = select_features(numeric_cars, target, model)"
   ]
  },
  {
   "cell_type": "markdown",
   "metadata": {},
   "source": [
    "<br>\n",
    "\n",
    "## 3 - Model selection with GridSearchCV\n",
    "- Models: LinearRegression, KNeighborsRegressor, RandomForestRegressor"
   ]
  },
  {
   "cell_type": "code",
   "execution_count": 55,
   "metadata": {},
   "outputs": [
    {
     "name": "stdout",
     "output_type": "stream",
     "text": [
      "LinearRegression\n",
      "----------------\n",
      "Explained Variance: 0.818\n",
      "R2: 0.813\n",
      "RMSE: 3320.857\n",
      "Best Parameters: {'fit_intercept': False, 'normalize': True}\n",
      "Best Score: 0.813\n",
      "\n",
      "\n",
      "KNeighborsRegressor\n",
      "-------------------\n",
      "Explained Variance: 0.907\n",
      "R2: 0.894\n",
      "RMSE: 2403.465\n",
      "Best Parameters: {'algorithm': 'ball_tree', 'leaf_size': 91, 'metric': 'manhattan', 'n_neighbors': 5, 'p': 1, 'weights': 'distance'}\n",
      "Best Score: 0.894\n",
      "\n",
      "\n",
      "RandomForestRegressor\n",
      "---------------------\n",
      "Explained Variance: 0.928\n",
      "R2: 0.926\n",
      "RMSE: 2080.005\n",
      "Best Parameters: {'criterion': 'mae', 'max_depth': 10, 'max_features': 'log2', 'min_samples_leaf': 1, 'min_samples_split': 3, 'n_estimators': 100}\n",
      "Best Score: 0.926\n",
      "\n",
      "\n",
      "GradientBoostingRegressor\n",
      "-------------------------\n",
      "Explained Variance: 0.916\n",
      "R2: 0.914\n",
      "RMSE: 2179.396\n",
      "Best Parameters: {'learning_rate': 0.05, 'max_features': 'auto', 'n_estimators': 100, 'random_state': 1, 'subsample': 0.5}\n",
      "Best Score: 0.914\n",
      "\n",
      "\n",
      "model selection finished\n"
     ]
    }
   ],
   "source": [
    "def select_model(df, features_list, target, models_to_fit):\n",
    "    \n",
    "    dicts= [ {\n",
    "               \"name\": \"LinearRegression\",\n",
    "               \"estimator\": LinearRegression(),\n",
    "               \"hyperparameters\": \n",
    "                 {                \n",
    "                   'fit_intercept':[True,False], \n",
    "                   'normalize':[True,False]            \n",
    "                 }\n",
    "             },\n",
    "             {\n",
    "               \"name\": \"KNeighborsRegressor\",\n",
    "               \"estimator\": KNeighborsRegressor(),\n",
    "               \"hyperparameters\": \n",
    "                 {\n",
    "                   \"n_neighbors\": range(1,20,2),\n",
    "                   \"weights\": [\"distance\", \"uniform\"],\n",
    "                   \"algorithm\": [\"ball_tree\", \"kd_tree\", \"brute\"],\n",
    "                   \"leaf_size\": range(1,100,10),\n",
    "                   \"p\": [1,2],\n",
    "                   \"metric\":['manhattan','chebyshev','minkowski']                    \n",
    "                 }\n",
    "             },\n",
    "             {\n",
    "               \"name\": \"RandomForestRegressor\",\n",
    "               \"estimator\": RandomForestRegressor(),\n",
    "               \"hyperparameters\": \n",
    "                 {\n",
    "                   \"n_estimators\": [5, 20, 100],\n",
    "                   \"criterion\": [\"mse\", \"mae\"],\n",
    "                   \"max_depth\": [2, 5, 10],\n",
    "                   \"max_features\": [\"auto\", \"log2\", \"sqrt\"],\n",
    "                   \"min_samples_leaf\": [1, 5, 8],\n",
    "                   \"min_samples_split\": [2, 3, 5]                \n",
    "                 }\n",
    "             }, \n",
    "             {\n",
    "               \"name\": \"GradientBoostingRegressor\",\n",
    "               \"estimator\": GradientBoostingRegressor(),\n",
    "               \"hyperparameters\": \n",
    "                 {\n",
    "                   \"n_estimators\": [5, 20, 100],  \n",
    "                   \"max_features\": [\"auto\", \"log2\", \"sqrt\"],\n",
    "                   \"learning_rate\":[0.01, 0.05, 0.1, 0.5],\n",
    "                   \"subsample\":[0.1, 0.5, 1.0],  \n",
    "                   \"random_state\":[1]     \n",
    "                 }\n",
    "             }]   \n",
    "    scoring = {'Explained Variance': 'explained_variance', 'R2': 'r2', 'MSE':'neg_mean_squared_error'}\n",
    "        \n",
    "    all_y = df[target]\n",
    "    for element in dicts:\n",
    "        if(element['name'] not in models_to_fit):\n",
    "            continue\n",
    "        print(element['name'])\n",
    "        print('-'*len(element['name']))\n",
    "      \n",
    "        all_X = df[features_list[element['name']]]\n",
    "        model = element['estimator']\n",
    "        grid = GridSearchCV(model, element['hyperparameters'], cv=10, scoring=scoring, refit='R2', iid=True)\n",
    "        grid.fit(all_X, all_y)\n",
    "        \n",
    "        element['best_params'] = grid.best_params_\n",
    "        element['best_score'] = grid.best_score_\n",
    "        element['best_estimator'] = grid.best_estimator_          \n",
    "        for scorer in scoring: \n",
    "            if(scorer=='MSE'):\n",
    "                print(f\"RMSE: {np.sqrt(-max(grid.cv_results_['mean_test_'+scorer])):0.3f}\")\n",
    "            else:\n",
    "                print(f\"{scorer}: {max(grid.cv_results_['mean_test_'+scorer]):0.3f}\")\n",
    "        print(\"Best Parameters: {}\".format(grid.best_params_))\n",
    "        print(\"Best Score: {:0.3f}\\n\\n\".format(grid.best_score_))\n",
    "        \n",
    "        \n",
    "        #for scorer in scoring:\n",
    "        #    print(cv_results_'_<scorer_name>')\n",
    "       \n",
    "    return dicts\n",
    "\n",
    "models_to_fit = ['LinearRegression','KNeighborsRegressor','RandomForestRegressor','GradientBoostingRegressor']\n",
    "optimized_columns = {'LinearRegression': optimized_columns_LR, \n",
    "                     'KNeighborsRegressor': optimized_columns_LR, \n",
    "                     'RandomForestRegressor': optimized_columns_RFR, \n",
    "                     'GradientBoostingRegressor': optimized_columns_GBR}\n",
    "target = 'price'\n",
    "model_dicts = select_model(numeric_cars, optimized_columns, target, models_to_fit)\n",
    "\n",
    "print(\"model selection finished\")"
   ]
  },
  {
   "cell_type": "markdown",
   "metadata": {},
   "source": [
    "<br>\n",
    "\n",
    "## 4 - Cross_Val Predictions for best model (RandomForestRegressor)"
   ]
  },
  {
   "cell_type": "code",
   "execution_count": 124,
   "metadata": {},
   "outputs": [
    {
     "data": {
      "image/png": "[encoded data removed]",
      "text/plain": [
       "<Figure size 360x360 with 1 Axes>"
      ]
     },
     "metadata": {
      "needs_background": "light"
     },
     "output_type": "display_data"
    }
   ],
   "source": [
    "kf = KFold(10, shuffle=True, random_state=1)\n",
    "\n",
    "best_model = {'criterion': 'mae', 'max_depth': 10, 'max_features': 'log2', 'min_samples_leaf': 1, \n",
    "         'min_samples_split': 3, 'n_estimators': 100}\n",
    "model = RandomForestRegressor()\n",
    "model.set_params(**best_model)  \n",
    "\n",
    "predictions = cross_val_predict(model, numeric_cars[optimized_columns_RFR], numeric_cars['price'], cv=kf)\n",
    "\n",
    "fig, ax = plt.subplots(figsize=(5,5))\n",
    "lim = [0,50000]\n",
    "ax.set_xlim(lim), ax.set_ylim(lim)\n",
    "\n",
    "# Create a scatter plot with train and test actual vs predictions\n",
    "ax.scatter(predictions, numeric_cars['price'], alpha=0.4, color='b', label='RandomForestModel')\n",
    "\n",
    "# Plot the perfect prediction line\n",
    "xmin, xmax = plt.xlim()\n",
    "ax.plot(np.arange(xmin, xmax, 0.01), np.arange(xmin, xmax, 0.01), c='k', label='perfect prediction')\n",
    "\n",
    "plt.xlabel('predictions')\n",
    "plt.ylabel('actual')\n",
    "plt.legend()\n",
    "plt.show()"
   ]
  },
  {
   "cell_type": "markdown",
   "metadata": {},
   "source": [
    "<br>\n",
    "\n",
    "## 5 - Bias vs Variance, with cross_val, for LinearRegression and RandomForestRegressor"
   ]
  },
  {
   "cell_type": "code",
   "execution_count": 113,
   "metadata": {},
   "outputs": [],
   "source": [
    "def cross_val_bias_variance(features, target, fold, df, model):   \n",
    "    \n",
    "    N_features = []\n",
    "    rmse_mean_list = []\n",
    "    rmse_std_list = []\n",
    "    \n",
    "    for element_x in features:\n",
    "        \n",
    "        N_features.append(len(element_x))    \n",
    "        mean_rmse_mean_all_folds = 0\n",
    "        mean_rmse_std_all_folds = 0\n",
    "        \n",
    "        for element_y in k_folds:            \n",
    "            kf = KFold(element_y, shuffle=True, random_state=1)   \n",
    "            mses = cross_val_score(model, df[element_x], df[target].values.ravel(), \n",
    "                                   scoring=\"neg_mean_squared_error\", cv=kf, error_score='raise')\n",
    "            rmses = np.sqrt(np.absolute(mses))            \n",
    "            mean_rmse_mean_all_folds += np.mean(rmses)/len(k_folds)\n",
    "            mean_rmse_std_all_folds += np.std(rmses)/len(k_folds)  \n",
    "            \n",
    "        rmse_mean_list.append(mean_rmse_mean_all_folds)\n",
    "        rmse_std_list.append(mean_rmse_std_all_folds)  \n",
    "    \n",
    "    return (N_features, rmse_mean_list, rmse_std_list)    "
   ]
  },
  {
   "cell_type": "code",
   "execution_count": 201,
   "metadata": {},
   "outputs": [
    {
     "data": {
      "image/png": "[encoded data removed]",
      "text/plain": [
       "<Figure size 360x360 with 1 Axes>"
      ]
     },
     "metadata": {
      "needs_background": "light"
     },
     "output_type": "display_data"
    }
   ],
   "source": [
    "k_folds = np.arange(2, 100, 10)\n",
    "\n",
    "fig, ax = plt.subplots(figsize=(5,5))\n",
    "\n",
    "features = [['engine-size', 'horsepower'],\n",
    "            ['engine-size', 'horsepower', 'wheel-base'],\n",
    "            ['engine-size', 'horsepower', 'wheel-base', 'curb-weight', 'highway-mpg'],\n",
    "            ['engine-size', 'horsepower', 'wheel-base', 'curb-weight', 'highway-mpg', 'width', 'city-mpg']]\n",
    "\n",
    "#Linear Regression\n",
    "model = LinearRegression()\n",
    "this_features = features + [optimized_columns_LR] + [numeric_cars.columns.drop('price').tolist()]\n",
    "(N_features,rmse_mean,rmse_std)=cross_val_bias_variance(this_features, 'price', k_folds, numeric_cars, model) \n",
    "ax.plot(N_features, np.sqrt(np.array(rmse_mean)**2+np.array(rmse_std)**2), label=\"Linear Regression\")\n",
    "\n",
    "#RandomForestRegressor\n",
    "model = RandomForestRegressor(n_estimators=100, max_depth=10, min_samples_leaf=1, min_samples_split=3)\n",
    "this_features = features + [optimized_columns_RFR] + [numeric_cars.columns.drop('price').tolist()]\n",
    "(N_features,rmse_mean,rmse_std)=cross_val_bias_variance(this_features, 'price', k_folds, numeric_cars, model) \n",
    "ax.plot(N_features, np.sqrt(np.array(rmse_mean)**2+np.array(rmse_std)**2), label=\"Random Forest\")\n",
    "\n",
    "model = KNeighborsRegressor(algorithm='ball_tree', n_neighbors=5, p=1, weights='distance')\n",
    "this_features = features + [optimized_columns_LR] + [numeric_cars.columns.drop('price').tolist()]\n",
    "(N_features,rmse_mean,rmse_std)=cross_val_bias_variance(this_features, 'price', k_folds, numeric_cars, model) \n",
    "ax.plot(N_features, np.sqrt(np.array(rmse_mean)**2+np.array(rmse_std)**2), label=\"KNN\")\n",
    "\n",
    "\n",
    "ax.tick_params(left=False, right=False, top=False, bottom=False)       \n",
    "for key,spine in ax.spines.items():\n",
    "        spine.set_visible(False) \n",
    "ax.set_ylabel(\"$\\sqrt{RMSE_{AVG}^2+RMSE_{STD}^2}$\"), ax.set_xlabel(\"Number of Features\")\n",
    "\n",
    "ax.legend()\n",
    "plt.show()"
   ]
  },
  {
   "cell_type": "markdown",
   "metadata": {},
   "source": [
    "- For Linear Regression and Random Forest, as the model complexity increases, the variance + bias descreases. The trend is reversed in the Linear Regression model for all features (14) because the model starts to overfit\n",
    "- For KNN variance + bias is almost constant with number of features, except when wheel-base is included"
   ]
  },
  {
   "cell_type": "markdown",
   "metadata": {},
   "source": [
    "<br>\n",
    "\n",
    "## 6 - Predict Using Neural Networks"
   ]
  },
  {
   "cell_type": "code",
   "execution_count": 102,
   "metadata": {},
   "outputs": [
    {
     "name": "stdout",
     "output_type": "stream",
     "text": [
      "R^2 train 0.860\n",
      "R^2 test 0.781\n"
     ]
    },
    {
     "data": {
      "image/png": "[encoded data removed]",
      "text/plain": [
       "<Figure size 360x360 with 1 Axes>"
      ]
     },
     "metadata": {
      "needs_background": "light"
     },
     "output_type": "display_data"
    }
   ],
   "source": [
    "def sign_penalty(y_true, y_pred):\n",
    "    penalty = 100.\n",
    "    loss = tf.where(tf.less(y_true * y_pred, 0), \\\n",
    "                     penalty * tf.square(y_true - y_pred), \\\n",
    "                     tf.square(y_true - y_pred))\n",
    "    return tf.reduce_mean(loss, axis=-1) # train on last axis, the one our NN was just trained on\n",
    "\n",
    "keras.losses.sign_penalty = sign_penalty  # enable use of loss with keras\n",
    "\n",
    "\n",
    "# Create model with dropout\n",
    "model_3 = Sequential()\n",
    "model_3.add(Dense(1000, input_dim=train_features.shape[1], activation='relu'))\n",
    "model_3.add(Dropout(0.4))\n",
    "model_3.add(Dense(500, activation='relu'))\n",
    "model_3.add(Dense(300, activation='relu'))\n",
    "model_3.add(Dense(100, activation='relu'))\n",
    "model_3.add(Dense(20, activation='relu'))\n",
    "model_3.add(Dense(1, activation='linear'))\n",
    "\n",
    "# Fit model with mean squared error loss function\n",
    "#model_3.compile(optimizer='adam', loss=sign_penalty)\n",
    "model_3.compile(optimizer='adam', loss='mse')\n",
    "history = model_3.fit(train_features, train_targets, epochs=100, verbose=0)\n",
    "\n",
    "train_preds = model_3.predict(train_features)\n",
    "test_preds = model_3.predict(test_features)\n",
    "print(f\"R^2 train {r2_score(train_targets, train_preds):0.3f}\")\n",
    "print(f\"R^2 test {r2_score(test_targets, test_preds):0.3f}\")\n",
    "\n",
    "\n",
    "fig, ax = plt.subplots(figsize=(5,5))\n",
    "lim = [0,50000]\n",
    "ax.set_xlim(lim), ax.set_ylim(lim)\n",
    "\n",
    "ax.scatter(train_preds, train_targets, alpha=0.4, color='b', label='train')\n",
    "ax.scatter(test_preds, test_targets, alpha=0.4, color='r', label='test')\n",
    "\n",
    "# Plot the perfect prediction line\n",
    "xmin, xmax = plt.xlim()\n",
    "ax.plot(np.arange(xmin, xmax, 0.01), np.arange(xmin, xmax, 0.01), c='k', label='perfect prediction')\n",
    "\n",
    "plt.xlabel('predictions')\n",
    "plt.ylabel('actual')\n",
    "plt.legend()\n",
    "plt.show()"
   ]
  },
  {
   "cell_type": "markdown",
   "metadata": {},
   "source": [
    "<br>\n",
    "\n",
    "## 7 - Manual Feature Selection and Hyperparameter Optimization for the best KNN model"
   ]
  },
  {
   "cell_type": "markdown",
   "metadata": {},
   "source": [
    "### 7.1 - Manual Feature Selection\n",
    "- first one at a time (univariate), then, different combinations of the best individual features\n",
    "- model: KNN, simple train/test validation, R2 as metric"
   ]
  },
  {
   "cell_type": "markdown",
   "metadata": {},
   "source": [
    "**One feature at a time: univariate KNN**"
   ]
  },
  {
   "cell_type": "code",
   "execution_count": 175,
   "metadata": {},
   "outputs": [
    {
     "name": "stdout",
     "output_type": "stream",
     "text": [
      "Feature Name    |    R2 Value\n",
      "engine-size          0.875359\n",
      "wheel-base           0.817487\n",
      "horsepower           0.791940\n",
      "city-mpg             0.737163\n",
      "width                0.737111\n",
      "length               0.691200\n",
      "highway-mpg          0.632455\n",
      "compression-rate     0.608196\n",
      "curb-weight          0.586398\n",
      "peak-rpm             0.297575\n",
      "normalized-losses    0.292478\n",
      "bore                 0.239750\n",
      "stroke               0.223028\n",
      "height               0.177472\n",
      "dtype: float64\n"
     ]
    }
   ],
   "source": [
    "def knn_train_test(feature, target, df, k_value=5):    \n",
    "    train = df[0:int(0.7*len(df))]\n",
    "    test = df[int(0.7*len(df)):] \n",
    "    knn = KNeighborsRegressor(n_neighbors = k_value, algorithm = 'ball_tree', p=2, \n",
    "                              leaf_size=91, metric='manhattan', weights='distance')\n",
    "    knn.fit(train[feature], train[target])\n",
    "    predictions = knn.predict(test[feature])\n",
    "    rmse = np.sqrt(np.absolute(mean_squared_error(test[target], predictions)))\n",
    "    r2 = r2_score(test[target], predictions)\n",
    "    return r2\n",
    "\n",
    "features = continuous_values_cols[:]\n",
    "features.remove('price')\n",
    "\n",
    "r2_dict = {}\n",
    "for element in features:     \n",
    "    r2_dict[element] = knn_train_test([element], ['price'], numeric_cars, k_value=5)\n",
    "    \n",
    "r2_results_series = pd.Series(r2_dict)\n",
    "sorted_features = r2_results_series.sort_values(ascending=False)\n",
    "\n",
    "print(\"Feature Name    |    R2 Value\")\n",
    "print(r2_results_series.sort_values(ascending=False))"
   ]
  },
  {
   "cell_type": "markdown",
   "metadata": {},
   "source": [
    "**Add the best individual features one at a time**"
   ]
  },
  {
   "cell_type": "code",
   "execution_count": 176,
   "metadata": {},
   "outputs": [
    {
     "name": "stdout",
     "output_type": "stream",
     "text": [
      "R2: 0.876 ['engine-size', 'wheel-base']\n",
      "R2: 0.888 ['engine-size', 'wheel-base', 'horsepower']\n",
      "R2: 0.889 ['engine-size', 'wheel-base', 'horsepower', 'city-mpg']\n",
      "R2: 0.866 ['engine-size', 'wheel-base', 'horsepower', 'city-mpg', 'width']\n",
      "R2: 0.863 ['engine-size', 'wheel-base', 'horsepower', 'city-mpg', 'width', 'length']\n"
     ]
    }
   ],
   "source": [
    "#run the model\n",
    "r2 = knn_train_test(sorted_features[:2].index.tolist(), ['price'], numeric_cars, k_value=5)\n",
    "print(f\"R2: {r2:0.3f} {sorted_features[:2].index.tolist()}\")\n",
    "r2 = knn_train_test(sorted_features[:3].index.tolist(), ['price'], numeric_cars, k_value=5)\n",
    "print(f\"R2: {r2:0.3f} {sorted_features[:3].index.tolist()}\")\n",
    "r2 = knn_train_test(sorted_features[:4].index.tolist(), ['price'], numeric_cars, k_value=5)\n",
    "print(f\"R2: {r2:0.3f} {sorted_features[:4].index.tolist()}\")\n",
    "r2 = knn_train_test(sorted_features[:5].index.tolist(), ['price'], numeric_cars, k_value=5)\n",
    "print(f\"R2: {r2:0.3f} {sorted_features[:5].index.tolist()}\")\n",
    "r2 = knn_train_test(sorted_features[:6].index.tolist(), ['price'], numeric_cars, k_value=5)\n",
    "print(f\"R2: {r2:0.3f} {sorted_features[:6].index.tolist()}\")"
   ]
  },
  {
   "cell_type": "markdown",
   "metadata": {},
   "source": [
    "<br>\n",
    "\n",
    "### 7.2 - Manual Hyperparameter Optimization (of the k-value)\n",
    "- for each individual feature and k-value 1 to 15\n",
    "- For the top 3 models in the last step and k-value 1 to 15 "
   ]
  },
  {
   "cell_type": "markdown",
   "metadata": {},
   "source": [
    "**All features individually**"
   ]
  },
  {
   "cell_type": "code",
   "execution_count": 183,
   "metadata": {},
   "outputs": [
    {
     "data": {
      "image/png": "[encoded data removed]",
      "text/plain": [
       "<Figure size 360x360 with 1 Axes>"
      ]
     },
     "metadata": {
      "needs_background": "light"
     },
     "output_type": "display_data"
    }
   ],
   "source": [
    "xlim = [1,20]\n",
    "ylim = [0, 1]\n",
    "fig, ax = plt.subplots(figsize=(5,5))\n",
    "\n",
    "ax.set_ylabel(\"R2\"), ax.set_xlabel(\"k-value\")\n",
    "ax.set_xlim(xlim), ax.set_ylim(ylim)\n",
    "\n",
    "\n",
    "features = sorted_features.index.tolist()\n",
    "k_values = np.arange(1,20)\n",
    "\n",
    "\n",
    "r2_dict = {}\n",
    "for element in features:     \n",
    "    r2 = []\n",
    "    for k_value in k_values:\n",
    "        r2.append(knn_train_test([element], ['price'], numeric_cars, k_value=k_value))\n",
    "        \n",
    "    #plot results\n",
    "    ax.plot(k_values, r2, label=element)\n",
    "\n",
    "   \n",
    "ax.tick_params(left=False, right=False, top=False, bottom=False)    \n",
    "for key,spine in ax.spines.items():\n",
    "        spine.set_visible(False)    \n",
    "\n",
    "ax.legend(loc=[1.05,0.2], frameon=False)\n",
    "plt.show()"
   ]
  },
  {
   "cell_type": "markdown",
   "metadata": {},
   "source": [
    "- Independently of the value of k there are some variables which clearly hold better R2 values\n",
    "- Of those engine-size, wheel-base and horsepower are the best"
   ]
  },
  {
   "cell_type": "markdown",
   "metadata": {},
   "source": [
    "**Combined features (only the three best combinations from before)**"
   ]
  },
  {
   "cell_type": "code",
   "execution_count": 192,
   "metadata": {},
   "outputs": [
    {
     "data": {
      "image/png": "[encoded data removed]",
      "text/plain": [
       "<Figure size 360x360 with 1 Axes>"
      ]
     },
     "metadata": {
      "needs_background": "light"
     },
     "output_type": "display_data"
    }
   ],
   "source": [
    "xlim = [1,15]\n",
    "ylim = [0.7, 1]\n",
    "\n",
    "fig, ax = plt.subplots(figsize=(5,5))\n",
    "ax.set_ylabel(\"RMSE\"), ax.set_xlabel(\"k-value\")\n",
    "ax.set_xlim(xlim), ax.set_ylim(ylim)\n",
    "\n",
    "\n",
    "features = [['engine-size', 'wheel-base'],\n",
    "            ['engine-size', 'wheel-base', 'horsepower', 'curb-weight'],\n",
    "            ['engine-size', 'wheel-base', 'horsepower', 'curb-weight', 'highway-mpg']]\n",
    "\n",
    "k_values = np.arange(1,15)\n",
    "\n",
    "r2_dict = {}\n",
    "for element in features:     \n",
    "    r2 = []\n",
    "    for k_value in k_values:\n",
    "        r2.append(knn_train_test(element, ['price'], numeric_cars, k_value=k_value))\n",
    "        \n",
    "    #plot results\n",
    "    ax.plot(k_values, r2, label=str(len(element))+' Features')\n",
    "    \n",
    "ax.tick_params(left=False, right=False, top=False, bottom=False)    \n",
    "for key,spine in ax.spines.items():\n",
    "        spine.set_visible(False) \n",
    "\n",
    "ax.legend(loc='best', frameon=False)\n",
    "plt.show()"
   ]
  },
  {
   "cell_type": "markdown",
   "metadata": {},
   "source": [
    "Best model: 5 features, k-value =1"
   ]
  }
 ],
 "metadata": {
  "kernelspec": {
   "display_name": "Python 3",
   "language": "python",
   "name": "python3"
  },
  "language_info": {
   "codemirror_mode": {
    "name": "ipython",
    "version": 3
   },
   "file_extension": ".py",
   "mimetype": "text/x-python",
   "name": "python",
   "nbconvert_exporter": "python",
   "pygments_lexer": "ipython3",
   "version": "3.6.6"
  }
 },
 "nbformat": 4,
 "nbformat_minor": 2
}
