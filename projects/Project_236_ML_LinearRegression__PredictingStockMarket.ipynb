{
 "cells": [
  {
   "cell_type": "markdown",
   "metadata": {},
   "source": [
    "# Project: ML - Linear Regression (Predicting Stock Market values)"
   ]
  },
  {
   "cell_type": "markdown",
   "metadata": {},
   "source": [
    "<br>\n",
    "\n",
    "## Questions to address:\n",
    "- Predict stock value from historical data"
   ]
  },
  {
   "cell_type": "markdown",
   "metadata": {},
   "source": [
    "<br>\n",
    "\n",
    "## Tools:\n",
    "- Models:\n",
    "  - Linear Regression \n",
    "- Error Metric: MSE and MAE\n",
    "- Holdout Validation "
   ]
  },
  {
   "cell_type": "markdown",
   "metadata": {},
   "source": [
    "<br>\n",
    "\n",
    "### load defaults"
   ]
  },
  {
   "cell_type": "code",
   "execution_count": 13,
   "metadata": {},
   "outputs": [
    {
     "name": "stdout",
     "output_type": "stream",
     "text": [
      "Defaults Loaded\n"
     ]
    }
   ],
   "source": [
    "import numpy as np\n",
    "import pandas as pd\n",
    "import seaborn as sns\n",
    "import re\n",
    "import requests \n",
    "\n",
    "%matplotlib inline\n",
    "import matplotlib.pyplot as plt\n",
    "from matplotlib.ticker import MultipleLocator\n",
    "from matplotlib import rcParams\n",
    "import matplotlib.dates as mdates\n",
    "from datetime import datetime\n",
    "from IPython.display import display, Math\n",
    "\n",
    "from functions import *\n",
    "\n",
    "plt.rcParams.update({'axes.titlepad': 20, 'font.size': 12, 'axes.titlesize':20})\n",
    "\n",
    "colors = [(0/255,107/255,164/255), (255/255, 128/255, 14/255), 'red', 'green', '#9E80BA', '#8EDB8E', '#58517A']\n",
    "Ncolors = 10\n",
    "color_map = plt.cm.Blues_r(np.linspace(0.2, 0.5, Ncolors))\n",
    "#color_map = plt.cm.tab20c_r(np.linspace(0.2, 0.5, Ncolors))\n",
    "\n",
    "\n",
    "#specific to this project\n",
    "from sklearn.linear_model import LinearRegression\n",
    "from sklearn.metrics import mean_squared_error, mean_absolute_error\n",
    "\n",
    "print(\"Defaults Loaded\")"
   ]
  },
  {
   "cell_type": "markdown",
   "metadata": {},
   "source": [
    "<br>\n",
    "\n",
    "## Dataset: Historical data for a stock index"
   ]
  },
  {
   "cell_type": "code",
   "execution_count": 10,
   "metadata": {},
   "outputs": [
    {
     "data": {
      "text/html": [
       "<div>\n",
       "<style scoped>\n",
       "    .dataframe tbody tr th:only-of-type {\n",
       "        vertical-align: middle;\n",
       "    }\n",
       "\n",
       "    .dataframe tbody tr th {\n",
       "        vertical-align: top;\n",
       "    }\n",
       "\n",
       "    .dataframe thead th {\n",
       "        text-align: right;\n",
       "    }\n",
       "</style>\n",
       "<table border=\"1\" class=\"dataframe\">\n",
       "  <thead>\n",
       "    <tr style=\"text-align: right;\">\n",
       "      <th></th>\n",
       "      <th>Date</th>\n",
       "      <th>Open</th>\n",
       "      <th>High</th>\n",
       "      <th>Low</th>\n",
       "      <th>Close</th>\n",
       "      <th>Volume</th>\n",
       "      <th>Adj Close</th>\n",
       "    </tr>\n",
       "  </thead>\n",
       "  <tbody>\n",
       "    <tr>\n",
       "      <th>16565</th>\n",
       "      <td>2015-11-02</td>\n",
       "      <td>2080.760010</td>\n",
       "      <td>2106.199951</td>\n",
       "      <td>2080.760010</td>\n",
       "      <td>2104.050049</td>\n",
       "      <td>3.760020e+09</td>\n",
       "      <td>2104.050049</td>\n",
       "    </tr>\n",
       "    <tr>\n",
       "      <th>16566</th>\n",
       "      <td>2015-11-03</td>\n",
       "      <td>2102.629883</td>\n",
       "      <td>2116.479980</td>\n",
       "      <td>2097.510010</td>\n",
       "      <td>2109.790039</td>\n",
       "      <td>4.272060e+09</td>\n",
       "      <td>2109.790039</td>\n",
       "    </tr>\n",
       "    <tr>\n",
       "      <th>16567</th>\n",
       "      <td>2015-11-04</td>\n",
       "      <td>2110.600098</td>\n",
       "      <td>2114.590088</td>\n",
       "      <td>2096.979980</td>\n",
       "      <td>2102.310059</td>\n",
       "      <td>4.078870e+09</td>\n",
       "      <td>2102.310059</td>\n",
       "    </tr>\n",
       "    <tr>\n",
       "      <th>16568</th>\n",
       "      <td>2015-11-05</td>\n",
       "      <td>2101.679932</td>\n",
       "      <td>2108.780029</td>\n",
       "      <td>2090.409912</td>\n",
       "      <td>2099.929932</td>\n",
       "      <td>4.051890e+09</td>\n",
       "      <td>2099.929932</td>\n",
       "    </tr>\n",
       "    <tr>\n",
       "      <th>16569</th>\n",
       "      <td>2015-11-06</td>\n",
       "      <td>2098.600098</td>\n",
       "      <td>2101.909912</td>\n",
       "      <td>2083.739990</td>\n",
       "      <td>2099.199951</td>\n",
       "      <td>4.369020e+09</td>\n",
       "      <td>2099.199951</td>\n",
       "    </tr>\n",
       "  </tbody>\n",
       "</table>\n",
       "</div>"
      ],
      "text/plain": [
       "            Date         Open         High          Low        Close  \\\n",
       "16565 2015-11-02  2080.760010  2106.199951  2080.760010  2104.050049   \n",
       "16566 2015-11-03  2102.629883  2116.479980  2097.510010  2109.790039   \n",
       "16567 2015-11-04  2110.600098  2114.590088  2096.979980  2102.310059   \n",
       "16568 2015-11-05  2101.679932  2108.780029  2090.409912  2099.929932   \n",
       "16569 2015-11-06  2098.600098  2101.909912  2083.739990  2099.199951   \n",
       "\n",
       "             Volume    Adj Close  \n",
       "16565  3.760020e+09  2104.050049  \n",
       "16566  4.272060e+09  2109.790039  \n",
       "16567  4.078870e+09  2102.310059  \n",
       "16568  4.051890e+09  2099.929932  \n",
       "16569  4.369020e+09  2099.199951  "
      ]
     },
     "metadata": {},
     "output_type": "display_data"
    }
   ],
   "source": [
    "df = pd.read_csv('./data/sphist.csv')\n",
    "\n",
    "#covert date to datetime object\n",
    "df['Date'] = pd.to_datetime(df['Date'])\n",
    "#sort df by date in ascending order\n",
    "df.sort_values('Date', ascending=True, inplace=True)\n",
    "#re-index\n",
    "df = df.reset_index(drop=True)\n",
    "\n",
    "display(df[df['Date']>datetime(year=2015, month=11, day=1)].iloc[:5])"
   ]
  },
  {
   "cell_type": "markdown",
   "metadata": {},
   "source": [
    "- data on stocks is not independent (depends on previous values)\n",
    "- extra careful to not inject future knowledge into past rows (algorithm will look very good on trainning set, but fail on test)\n",
    "- we can create indicators to make the model more accurate (e.g. average price for the last 10 trades): information from multiple rows"
   ]
  },
  {
   "cell_type": "markdown",
   "metadata": {},
   "source": [
    "- interesting indicators:\n",
    "  - 5 day average, 30 day average, 365 day average\n",
    "  - 5 day average / 365 day average\n",
    "  - std(5 day average), std(365 day average)\n",
    "  - std(5 day average) / std(365 day average)\n",
    "- price is the close column"
   ]
  },
  {
   "cell_type": "code",
   "execution_count": 11,
   "metadata": {},
   "outputs": [
    {
     "name": "stdout",
     "output_type": "stream",
     "text": [
      "Len with Nans: 16590\n",
      "Len without Nans: 16225\n"
     ]
    }
   ],
   "source": [
    "#for idx, row in df.iterrows():\n",
    "#    df['day_5'].iloc[idx] = pd.rolling_mean(df['Close'], 5)\n",
    "      \n",
    "#rolling mean uses the current day price so we need to roll forward\n",
    "df['avg_5'] = df['Close'].rolling(window=5, center=False).mean().shift(1)\n",
    "df['avg_30'] = df['Close'].rolling(window=30, center=False).mean().shift(1)\n",
    "df['avg_365'] = df['Close'].rolling(window=365, center=False).mean().shift(1)\n",
    "df['avg_5_over_365'] = df['Close'].rolling(window=5, center=False).mean().shift(1)/df['Close'].rolling(window=365, center=False).mean().shift(1)\n",
    "df['std_5'] = df['Close'].rolling(window=5, center=False).std().shift(1)\n",
    "df['std_365'] = df['Close'].rolling(window=365, center=False).std().shift(1)\n",
    "df['std_5_over_365'] = df['Close'].rolling(window=5, center=False).std().shift(1)/df['Close'].rolling(window=365, center=False).std().shift(1)\n",
    "#print(df.iloc[365])\n",
    "\n",
    "#remove NaN, rows where the index could not be calculated \n",
    "#(in the first year, there are not enough rows to compute year average)\n",
    "print(\"Len with Nans: {:d}\".format(len(df)))\n",
    "df.dropna(how='any', inplace=True, axis=0)\n",
    "print(\"Len without Nans: {:d}\".format(len(df)))"
   ]
  },
  {
   "cell_type": "code",
   "execution_count": 12,
   "metadata": {},
   "outputs": [
    {
     "name": "stdout",
     "output_type": "stream",
     "text": [
      "15486 739\n"
     ]
    }
   ],
   "source": [
    "#create train and test (train everything before 2013-01-01)\n",
    "train = df[df['Date']<datetime(year=2013, month=1, day=1)]\n",
    "test = df[df['Date']>=datetime(year=2013, month=1, day=1)]\n",
    "print(len(train), len(test))"
   ]
  },
  {
   "cell_type": "markdown",
   "metadata": {},
   "source": [
    "<br>\n",
    "\n",
    "### Error metric: MAE (easier to interpret) or MSE (better, but harder to intuitively know how far the model is)"
   ]
  },
  {
   "cell_type": "code",
   "execution_count": 14,
   "metadata": {},
   "outputs": [
    {
     "name": "stdout",
     "output_type": "stream",
     "text": [
      "16.267878754475266\n"
     ]
    },
    {
     "data": {
      "image/png": "[encoded data removed]",
      "text/plain": [
       "<Figure size 432x288 with 1 Axes>"
      ]
     },
     "metadata": {
      "needs_background": "light"
     },
     "output_type": "display_data"
    },
    {
     "data": {
      "image/png": "[encoded data removed]",
      "text/plain": [
       "<Figure size 432x288 with 1 Axes>"
      ]
     },
     "metadata": {
      "needs_background": "light"
     },
     "output_type": "display_data"
    }
   ],
   "source": [
    "error_metric = 'MAE'\n",
    "cols = ['avg_5', 'avg_30', 'avg_365']\n",
    "cols = ['avg_5']\n",
    "#cols = ['avg_5', 'avg_30', 'avg_365', 'avg_5_over_365', 'std_5', 'std_365', 'std_5_over_365']\n",
    "\n",
    "model = LinearRegression()\n",
    "model.fit(train[cols], train['Close'])\n",
    "predictions = model.predict(test[cols])\n",
    "\n",
    "if(error_metric == 'MAE'):\n",
    "    error = mean_absolute_error(test['Close'], predictions)\n",
    "else:\n",
    "    error = mean_squared_error(test['Close'], predictions)\n",
    "    \n",
    "print(error)\n",
    "\n",
    "#plt.scatter(test['Close'], np.abs(predictions-test['Close']))\n",
    "plt.plot(test['Date'], test['Close'])\n",
    "plt.plot(test['Date'], predictions)\n",
    "\n",
    "plt.show()\n",
    "\n",
    "plt.scatter(test['Close'], np.abs(predictions-test['Close']))\n",
    "plt.xlabel('Price'), plt.ylabel('Error')\n",
    "plt.show()"
   ]
  },
  {
   "cell_type": "markdown",
   "metadata": {},
   "source": [
    "Accuracy would improve greatly by making predictions only one day ahead. "
   ]
  },
  {
   "cell_type": "code",
   "execution_count": 15,
   "metadata": {},
   "outputs": [
    {
     "data": {
      "image/png": "[encoded data removed]",
      "text/plain": [
       "<Figure size 432x288 with 1 Axes>"
      ]
     },
     "metadata": {
      "needs_background": "light"
     },
     "output_type": "display_data"
    }
   ],
   "source": [
    "date_init = datetime(year=2013, month=1, day=2)\n",
    "#create train and test (train everything before 2013-01-01)\n",
    "train = df[df['Date']<date_init]\n",
    "\n",
    "cols = ['avg_5', 'avg_30', 'avg_365']\n",
    "#cols = ['avg_5']\n",
    "cols = ['avg_5', 'avg_30', 'avg_365', 'avg_5_over_365', 'std_5', 'std_365', 'std_5_over_365']\n",
    "\n",
    "predictions_list = []\n",
    "days_list = []\n",
    "\n",
    "N_days = 10\n",
    "for i_day in range(0,N_days): \n",
    "    test = df.loc[df[df['Date']==date_init].index+i_day]\n",
    "    days_list.append(test['Date'].values)\n",
    "    \n",
    "    model = LinearRegression()\n",
    "    model.fit(train[cols], train['Close'])\n",
    "    predictions_list.append(model.predict(test[cols]))\n",
    "\n",
    "\n",
    "#plt.scatter(test['Close'], np.abs(predictions-test['Close']))\n",
    "#plt.plot(test['Date'], test['Close'])\n",
    "plt.plot(days_list, predictions_list, color='blue')\n",
    "\n",
    "Past_Days = 100\n",
    "loc = df[df['Date']==date_init].index\n",
    "plt.plot(df['Date'].loc[loc[0]-Past_Days:loc[0]+N_days], df['Close'].loc[loc[0]-Past_Days:loc[0]+N_days], color='orange')\n",
    "plt.xticks(rotation=90)\n",
    "plt.show()"
   ]
  },
  {
   "cell_type": "code",
   "execution_count": 16,
   "metadata": {},
   "outputs": [
    {
     "ename": "TypeError",
     "evalue": "invalid type promotion",
     "output_type": "error",
     "traceback": [
      "\u001b[0;31m---------------------------------------------------------------------------\u001b[0m",
      "\u001b[0;31mTypeError\u001b[0m                                 Traceback (most recent call last)",
      "\u001b[0;32m<ipython-input-16-ffc81fab299b>\u001b[0m in \u001b[0;36m<module>\u001b[0;34m\u001b[0m\n\u001b[1;32m     51\u001b[0m \u001b[0;34m\u001b[0m\u001b[0m\n\u001b[1;32m     52\u001b[0m \u001b[0mup\u001b[0m \u001b[0;34m=\u001b[0m \u001b[0mturn_df\u001b[0m\u001b[0;34m[\u001b[0m\u001b[0mturn_df\u001b[0m\u001b[0;34m[\u001b[0m\u001b[0;34m'Turn'\u001b[0m\u001b[0;34m]\u001b[0m\u001b[0;34m==\u001b[0m\u001b[0;34m'up'\u001b[0m\u001b[0;34m]\u001b[0m\u001b[0;34m\u001b[0m\u001b[0m\n\u001b[0;32m---> 53\u001b[0;31m \u001b[0mplt\u001b[0m\u001b[0;34m.\u001b[0m\u001b[0mscatter\u001b[0m\u001b[0;34m(\u001b[0m\u001b[0mup\u001b[0m\u001b[0;34m[\u001b[0m\u001b[0;34m'Date'\u001b[0m\u001b[0;34m]\u001b[0m\u001b[0;34m.\u001b[0m\u001b[0mvalues\u001b[0m\u001b[0;34m,\u001b[0m\u001b[0mup\u001b[0m\u001b[0;34m[\u001b[0m\u001b[0;34m'Close'\u001b[0m\u001b[0;34m]\u001b[0m\u001b[0;34m,\u001b[0m \u001b[0mcolor\u001b[0m\u001b[0;34m=\u001b[0m\u001b[0;34m'blue'\u001b[0m\u001b[0;34m,\u001b[0m \u001b[0ms\u001b[0m\u001b[0;34m=\u001b[0m\u001b[0;36m20\u001b[0m\u001b[0;34m)\u001b[0m\u001b[0;34m\u001b[0m\u001b[0m\n\u001b[0m\u001b[1;32m     54\u001b[0m \u001b[0mdown\u001b[0m \u001b[0;34m=\u001b[0m \u001b[0mturn_df\u001b[0m\u001b[0;34m[\u001b[0m\u001b[0mturn_df\u001b[0m\u001b[0;34m[\u001b[0m\u001b[0;34m'Turn'\u001b[0m\u001b[0;34m]\u001b[0m\u001b[0;34m==\u001b[0m\u001b[0;34m'down'\u001b[0m\u001b[0;34m]\u001b[0m\u001b[0;34m\u001b[0m\u001b[0m\n\u001b[1;32m     55\u001b[0m \u001b[0mplt\u001b[0m\u001b[0;34m.\u001b[0m\u001b[0mscatter\u001b[0m\u001b[0;34m(\u001b[0m\u001b[0mdown\u001b[0m\u001b[0;34m[\u001b[0m\u001b[0;34m'Date'\u001b[0m\u001b[0;34m]\u001b[0m\u001b[0;34m.\u001b[0m\u001b[0mvalues\u001b[0m\u001b[0;34m,\u001b[0m\u001b[0mdown\u001b[0m\u001b[0;34m[\u001b[0m\u001b[0;34m'Close'\u001b[0m\u001b[0;34m]\u001b[0m\u001b[0;34m,\u001b[0m \u001b[0mcolor\u001b[0m\u001b[0;34m=\u001b[0m\u001b[0;34m'red'\u001b[0m\u001b[0;34m,\u001b[0m \u001b[0ms\u001b[0m\u001b[0;34m=\u001b[0m\u001b[0;36m20\u001b[0m\u001b[0;34m)\u001b[0m\u001b[0;34m\u001b[0m\u001b[0m\n",
      "\u001b[0;32m~/anaconda3/lib/python3.6/site-packages/matplotlib/pyplot.py\u001b[0m in \u001b[0;36mscatter\u001b[0;34m(x, y, s, c, marker, cmap, norm, vmin, vmax, alpha, linewidths, verts, edgecolors, data, **kwargs)\u001b[0m\n\u001b[1;32m   2791\u001b[0m         \u001b[0mx\u001b[0m\u001b[0;34m=\u001b[0m\u001b[0mx\u001b[0m\u001b[0;34m,\u001b[0m \u001b[0my\u001b[0m\u001b[0;34m=\u001b[0m\u001b[0my\u001b[0m\u001b[0;34m,\u001b[0m \u001b[0ms\u001b[0m\u001b[0;34m=\u001b[0m\u001b[0ms\u001b[0m\u001b[0;34m,\u001b[0m \u001b[0mc\u001b[0m\u001b[0;34m=\u001b[0m\u001b[0mc\u001b[0m\u001b[0;34m,\u001b[0m \u001b[0mmarker\u001b[0m\u001b[0;34m=\u001b[0m\u001b[0mmarker\u001b[0m\u001b[0;34m,\u001b[0m \u001b[0mcmap\u001b[0m\u001b[0;34m=\u001b[0m\u001b[0mcmap\u001b[0m\u001b[0;34m,\u001b[0m \u001b[0mnorm\u001b[0m\u001b[0;34m=\u001b[0m\u001b[0mnorm\u001b[0m\u001b[0;34m,\u001b[0m\u001b[0;34m\u001b[0m\u001b[0m\n\u001b[1;32m   2792\u001b[0m         \u001b[0mvmin\u001b[0m\u001b[0;34m=\u001b[0m\u001b[0mvmin\u001b[0m\u001b[0;34m,\u001b[0m \u001b[0mvmax\u001b[0m\u001b[0;34m=\u001b[0m\u001b[0mvmax\u001b[0m\u001b[0;34m,\u001b[0m \u001b[0malpha\u001b[0m\u001b[0;34m=\u001b[0m\u001b[0malpha\u001b[0m\u001b[0;34m,\u001b[0m \u001b[0mlinewidths\u001b[0m\u001b[0;34m=\u001b[0m\u001b[0mlinewidths\u001b[0m\u001b[0;34m,\u001b[0m\u001b[0;34m\u001b[0m\u001b[0m\n\u001b[0;32m-> 2793\u001b[0;31m         verts=verts, edgecolors=edgecolors, data=data, **kwargs)\n\u001b[0m\u001b[1;32m   2794\u001b[0m     \u001b[0msci\u001b[0m\u001b[0;34m(\u001b[0m\u001b[0m__ret\u001b[0m\u001b[0;34m)\u001b[0m\u001b[0;34m\u001b[0m\u001b[0m\n\u001b[1;32m   2795\u001b[0m     \u001b[0;32mreturn\u001b[0m \u001b[0m__ret\u001b[0m\u001b[0;34m\u001b[0m\u001b[0m\n",
      "\u001b[0;32m~/anaconda3/lib/python3.6/site-packages/matplotlib/__init__.py\u001b[0m in \u001b[0;36minner\u001b[0;34m(ax, data, *args, **kwargs)\u001b[0m\n\u001b[1;32m   1783\u001b[0m                         \u001b[0;34m\"the Matplotlib list!)\"\u001b[0m \u001b[0;34m%\u001b[0m \u001b[0;34m(\u001b[0m\u001b[0mlabel_namer\u001b[0m\u001b[0;34m,\u001b[0m \u001b[0mfunc\u001b[0m\u001b[0;34m.\u001b[0m\u001b[0m__name__\u001b[0m\u001b[0;34m)\u001b[0m\u001b[0;34m,\u001b[0m\u001b[0;34m\u001b[0m\u001b[0m\n\u001b[1;32m   1784\u001b[0m                         RuntimeWarning, stacklevel=2)\n\u001b[0;32m-> 1785\u001b[0;31m             \u001b[0;32mreturn\u001b[0m \u001b[0mfunc\u001b[0m\u001b[0;34m(\u001b[0m\u001b[0max\u001b[0m\u001b[0;34m,\u001b[0m \u001b[0;34m*\u001b[0m\u001b[0margs\u001b[0m\u001b[0;34m,\u001b[0m \u001b[0;34m**\u001b[0m\u001b[0mkwargs\u001b[0m\u001b[0;34m)\u001b[0m\u001b[0;34m\u001b[0m\u001b[0m\n\u001b[0m\u001b[1;32m   1786\u001b[0m \u001b[0;34m\u001b[0m\u001b[0m\n\u001b[1;32m   1787\u001b[0m         inner.__doc__ = _add_data_doc(inner.__doc__,\n",
      "\u001b[0;32m~/anaconda3/lib/python3.6/site-packages/matplotlib/axes/_axes.py\u001b[0m in \u001b[0;36mscatter\u001b[0;34m(self, x, y, s, c, marker, cmap, norm, vmin, vmax, alpha, linewidths, verts, edgecolors, **kwargs)\u001b[0m\n\u001b[1;32m   4264\u001b[0m             \u001b[0mlinewidths\u001b[0m \u001b[0;34m=\u001b[0m \u001b[0mrcParams\u001b[0m\u001b[0;34m[\u001b[0m\u001b[0;34m'lines.linewidth'\u001b[0m\u001b[0;34m]\u001b[0m\u001b[0;34m\u001b[0m\u001b[0m\n\u001b[1;32m   4265\u001b[0m \u001b[0;34m\u001b[0m\u001b[0m\n\u001b[0;32m-> 4266\u001b[0;31m         \u001b[0moffsets\u001b[0m \u001b[0;34m=\u001b[0m \u001b[0mnp\u001b[0m\u001b[0;34m.\u001b[0m\u001b[0mcolumn_stack\u001b[0m\u001b[0;34m(\u001b[0m\u001b[0;34m[\u001b[0m\u001b[0mx\u001b[0m\u001b[0;34m,\u001b[0m \u001b[0my\u001b[0m\u001b[0;34m]\u001b[0m\u001b[0;34m)\u001b[0m\u001b[0;34m\u001b[0m\u001b[0m\n\u001b[0m\u001b[1;32m   4267\u001b[0m \u001b[0;34m\u001b[0m\u001b[0m\n\u001b[1;32m   4268\u001b[0m         collection = mcoll.PathCollection(\n",
      "\u001b[0;32m~/anaconda3/lib/python3.6/site-packages/numpy/lib/shape_base.py\u001b[0m in \u001b[0;36mcolumn_stack\u001b[0;34m(tup)\u001b[0m\n\u001b[1;32m    592\u001b[0m             \u001b[0marr\u001b[0m \u001b[0;34m=\u001b[0m \u001b[0marray\u001b[0m\u001b[0;34m(\u001b[0m\u001b[0marr\u001b[0m\u001b[0;34m,\u001b[0m \u001b[0mcopy\u001b[0m\u001b[0;34m=\u001b[0m\u001b[0;32mFalse\u001b[0m\u001b[0;34m,\u001b[0m \u001b[0msubok\u001b[0m\u001b[0;34m=\u001b[0m\u001b[0;32mTrue\u001b[0m\u001b[0;34m,\u001b[0m \u001b[0mndmin\u001b[0m\u001b[0;34m=\u001b[0m\u001b[0;36m2\u001b[0m\u001b[0;34m)\u001b[0m\u001b[0;34m.\u001b[0m\u001b[0mT\u001b[0m\u001b[0;34m\u001b[0m\u001b[0m\n\u001b[1;32m    593\u001b[0m         \u001b[0marrays\u001b[0m\u001b[0;34m.\u001b[0m\u001b[0mappend\u001b[0m\u001b[0;34m(\u001b[0m\u001b[0marr\u001b[0m\u001b[0;34m)\u001b[0m\u001b[0;34m\u001b[0m\u001b[0m\n\u001b[0;32m--> 594\u001b[0;31m     \u001b[0;32mreturn\u001b[0m \u001b[0m_nx\u001b[0m\u001b[0;34m.\u001b[0m\u001b[0mconcatenate\u001b[0m\u001b[0;34m(\u001b[0m\u001b[0marrays\u001b[0m\u001b[0;34m,\u001b[0m \u001b[0;36m1\u001b[0m\u001b[0;34m)\u001b[0m\u001b[0;34m\u001b[0m\u001b[0m\n\u001b[0m\u001b[1;32m    595\u001b[0m \u001b[0;34m\u001b[0m\u001b[0m\n\u001b[1;32m    596\u001b[0m \u001b[0;32mdef\u001b[0m \u001b[0mdstack\u001b[0m\u001b[0;34m(\u001b[0m\u001b[0mtup\u001b[0m\u001b[0;34m)\u001b[0m\u001b[0;34m:\u001b[0m\u001b[0;34m\u001b[0m\u001b[0m\n",
      "\u001b[0;31mTypeError\u001b[0m: invalid type promotion"
     ]
    },
    {
     "data": {
      "image/png": "[encoded data removed]",
      "text/plain": [
       "<Figure size 432x288 with 1 Axes>"
      ]
     },
     "metadata": {
      "needs_background": "light"
     },
     "output_type": "display_data"
    }
   ],
   "source": [
    "#look at turning points\n",
    "\n",
    "date_init = datetime(year=2006, month=1, day=6)\n",
    "#create train and test (train everything before 2013-01-01)\n",
    "\n",
    "turn_df = pd.DataFrame({'Date' : [], 'Close' : [], 'Turn' : []})\n",
    "turn_current_df = pd.DataFrame({'Date' : [], 'Close' : [], 'Turn' : []})\n",
    "\n",
    "#invert if 30 days average is going down\n",
    "\n",
    "N_days = 1200\n",
    "#N_days = 100\n",
    "for i_day in range(0,N_days): \n",
    "    current_day = df.loc[df[df['Date']==date_init].index+i_day]\n",
    "    day_minus_1 = df.loc[df[df['Date']==date_init].index+i_day-1]\n",
    "    day_minus_2 = df.loc[df[df['Date']==date_init].index+i_day-2]\n",
    "    day_minus_3 = df.loc[df[df['Date']==date_init].index+i_day-3]\n",
    "    \n",
    "    index_start = df[df['Date']==date_init].index[0]+i_day    \n",
    "    mean_past_200 = np.mean(df['Close'].loc[index_start-200:index_start+i_day])\n",
    "    mean_past_100 = np.mean(df['Close'].loc[index_start-100:index_start+i_day])\n",
    "    \n",
    "    #mean_past_200 = 10\n",
    "    #mean_past_100 = 20\n",
    "    \n",
    "    if(mean_past_100>=mean_past_200):\n",
    "        if((day_minus_1['Close'].values>=day_minus_2['Close'].values) & \n",
    "           (current_day['Close'].values<day_minus_1['Close'].values)):             \n",
    "            turn_df.loc[i_day] = [current_day['Close'].iloc[0],current_day['Date'].iloc[0],'down']\n",
    "        \n",
    "        elif((day_minus_1['Close'].values<=day_minus_2['Close'].values) & \n",
    "             (current_day['Close'].values>day_minus_1['Close'].values)):               \n",
    "            turn_df.loc[i_day] = [current_day['Close'].iloc[0],current_day['Date'].iloc[0],'up']\n",
    "    else:\n",
    "         if((day_minus_1['Close'].values>=day_minus_2['Close'].values) & \n",
    "           (current_day['Close'].values<day_minus_1['Close'].values)):                   \n",
    "            turn_df.loc[i_day] = [current_day['Close'].iloc[0],current_day['Date'].iloc[0],'up']\n",
    "        \n",
    "         elif((day_minus_1['Close'].values<=day_minus_2['Close'].values) & \n",
    "             (current_day['Close'].values>day_minus_1['Close'].values)):               \n",
    "            turn_df.loc[i_day] = [current_day['Close'].iloc[0],current_day['Date'].iloc[0],'down']\n",
    "\n",
    "turn_df = turn_df.reset_index(drop=True)\n",
    "#print(turn_df)\n",
    "\n",
    "Past_Days = 10\n",
    "loc = df[df['Date']==date_init].index\n",
    "plt.plot(df['Date'].loc[loc[0]-Past_Days:loc[0]+N_days], df['Close'].loc[loc[0]-Past_Days:loc[0]+N_days], color='orange')\n",
    "\n",
    "\n",
    "\n",
    "up = turn_df[turn_df['Turn']=='up']\n",
    "plt.scatter(up['Date'].values,up['Close'], color='blue', s=20)\n",
    "down = turn_df[turn_df['Turn']=='down']\n",
    "plt.scatter(down['Date'].values,down['Close'], color='red', s=20)\n",
    "\n",
    "print(turn_current_df)\n",
    "\n",
    "money = 10000\n",
    "for idx, row in turn_df.iterrows():\n",
    "    #print(idx)    \n",
    "    if((idx==0) & (row['Turn']=='down')):\n",
    "        continue\n",
    "    else:        \n",
    "        if(row['Turn']=='up'):\n",
    "            N_shares = int(money/row['Close'])        \n",
    "            money = money % row['Close']\n",
    "        elif(row['Turn']=='down'):\n",
    "            money = money + N_shares*row['Close']\n",
    "            N_shares = 0        \n",
    "    #print(N_shares, money)\n",
    "        \n",
    "money += N_shares*row['Close']\n",
    "print(money)\n",
    "print((money/10000.-1)*100/(N_days/365.))\n",
    "\n",
    "loc = df[df['Date']==date_init].index\n",
    "money = 10000*df['Close'].loc[loc[0]+N_days]/df['Close'].loc[loc[0]]\n",
    "print(money)\n",
    "print((money/10000.-1)*100/(N_days/365.))\n",
    "\n",
    "        \n",
    "        \n",
    "    \n",
    "    \n",
    "\n",
    "plt.xticks(rotation=90)\n",
    "plt.show()\n",
    "\n",
    "\n"
   ]
  },
  {
   "cell_type": "markdown",
   "metadata": {},
   "source": [
    "Additional features to include:\n",
    "- The average volume over the past five days.\n",
    "- The average volume over the past year.\n",
    "- The ratio between the average volume for the past five days, and the average volume for the past year.\n",
    "- The standard deviation of the average volume over the past five days.\n",
    "- The standard deviation of the average volume over the past year.\n",
    "- The ratio between the standard deviation of the average volume for the past five days, and the standard deviation of - the average volume for the past year.\n",
    "- The year component of the date.\n",
    "- The ratio between the lowest price in the past year and the current price.\n",
    "- The ratio between the highest price in the past year and the current price.\n",
    "- The year component of the date.\n",
    "- The month component of the date.\n",
    "- The day of week.\n",
    "- The day component of the date.\n",
    "- The number of holidays in the prior month."
   ]
  },
  {
   "cell_type": "markdown",
   "metadata": {},
   "source": [
    "Additional steps:\n",
    "- Try other techniques, like a random forest.\n",
    "- You can also incorporate outside data, such as the weather in New York City (where most trading happens) the day before, and the amount of Twitter activity around certain stocks.\n",
    "- make the system real-time by writing an automated script to download the latest data when the market closes, and make predictions for the next day.\n",
    "- Finally, you can make the system \"higher-resolution\". You're currently making daily predictions, but you could make hourly, minute-by-minute, or second by second predictions. This will require obtaining more data, though. You could also make predictions for individual stocks instead of the S&P500."
   ]
  },
  {
   "cell_type": "code",
   "execution_count": null,
   "metadata": {
    "collapsed": true
   },
   "outputs": [],
   "source": []
  }
 ],
 "metadata": {
  "kernelspec": {
   "display_name": "Python 3",
   "language": "python",
   "name": "python3"
  },
  "language_info": {
   "codemirror_mode": {
    "name": "ipython",
    "version": 3
   },
   "file_extension": ".py",
   "mimetype": "text/x-python",
   "name": "python",
   "nbconvert_exporter": "python",
   "pygments_lexer": "ipython3",
   "version": "3.6.6"
  }
 },
 "nbformat": 4,
 "nbformat_minor": 2
}
