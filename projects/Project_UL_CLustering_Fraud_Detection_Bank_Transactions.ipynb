{
 "cells": [
  {
   "cell_type": "markdown",
   "metadata": {},
   "source": [
    "# Project: Unsupervised Learning - Clustering for Fraud Detection on Bank Transactions"
   ]
  },
  {
   "cell_type": "markdown",
   "metadata": {},
   "source": [
    "<br>\n",
    "\n",
    "### Problem:\n",
    "- Identify fraud cases from amount and type (e.g. leisure, food, etc) of bank transactions\n",
    "- Unsupervised Learning using clustering (igonre labels for fraud or non-fraud) using KMeans and DBSCAN"
   ]
  },
  {
   "cell_type": "markdown",
   "metadata": {},
   "source": [
    "<br>\n",
    "\n",
    "### Tools:\n",
    "- pre-processing: MinMaxScaler\n",
    "- Models: MiniBatchKMeans (efficient KMeans), DBSCAN\n",
    "- Model validation and hyperparameter search: elbow curve, train_test_split\n",
    "- Error Metrics: homogeneity_score, silhouette_score, classification_report, confusion_matrix, r2_score, roc_auc_score "
   ]
  },
  {
   "cell_type": "markdown",
   "metadata": {},
   "source": [
    "<br>\n",
    "\n",
    "### load defaults"
   ]
  },
  {
   "cell_type": "code",
   "execution_count": 10,
   "metadata": {},
   "outputs": [],
   "source": [
    "import pandas as pd\n",
    "import numpy as np\n",
    "\n",
    "%matplotlib inline\n",
    "import matplotlib.pyplot as plt\n",
    "\n",
    "import myML_functions as myML_functions\n",
    "\n",
    "from sklearn.preprocessing import MinMaxScaler\n",
    "from sklearn.cluster import KMeans, MiniBatchKMeans, DBSCAN\n",
    "\n",
    "from sklearn.model_selection import train_test_split\n",
    "from sklearn.metrics import classification_report, confusion_matrix, r2_score, roc_auc_score \n",
    "from sklearn.metrics import homogeneity_score, silhouette_score "
   ]
  },
  {
   "cell_type": "markdown",
   "metadata": {},
   "source": [
    "<br>\n",
    "\n",
    "## 1 - Destinguish between normal and abnormal behavior with EDA\n",
    "- very large transactions or many transactions in a short period of time\n",
    "- is data homogeneous or do different types of clients display very different behaviour?\n",
    "- segment data: find groups with similar behaviour to define normal and abnormal behaviour"
   ]
  },
  {
   "cell_type": "code",
   "execution_count": 30,
   "metadata": {},
   "outputs": [
    {
     "name": "stdout",
     "output_type": "stream",
     "text": [
      "                          Unnamed: 0      amount     fraud\n",
      "category                                                  \n",
      "es_barsandrestaurants  267372.707865   43.841793  0.022472\n",
      "es_contents            335906.153846   55.170000  0.000000\n",
      "es_fashion             286952.226804   59.780769  0.020619\n",
      "es_food                334978.976190   35.216050  0.000000\n",
      "es_health              335355.176955  126.604704  0.242798\n",
      "es_home                248312.583333  120.688317  0.208333\n",
      "es_hotelservices       280138.548387  172.756245  0.548387\n",
      "es_hyper               244440.712500   46.788180  0.125000\n",
      "es_leisure             186541.307692  229.757600  1.000000\n",
      "es_otherservices       241279.000000  149.648960  0.600000\n",
      "es_sportsandtoys       238775.539474  157.251737  0.657895\n",
      "es_tech                310473.948718  132.852862  0.179487\n",
      "es_transportation      295733.881674   27.422014  0.000000\n",
      "es_travel              338897.777778  231.818656  0.944444\n",
      "es_wellnessandbeauty   275085.979798   66.167078  0.060606\n"
     ]
    }
   ],
   "source": [
    "df = pd.read_csv('./data/Fraud/chapter_3/banksim.csv')\n",
    "print(df.groupby('category').mean())"
   ]
  },
  {
   "cell_type": "markdown",
   "metadata": {},
   "source": [
    "leisure and travel related transactions have high rates of fraud"
   ]
  },
  {
   "cell_type": "code",
   "execution_count": 4,
   "metadata": {},
   "outputs": [
    {
     "name": "stdout",
     "output_type": "stream",
     "text": [
      "        amount     fraud\n",
      "age                     \n",
      "0    49.468935  0.050000\n",
      "1    35.622829  0.026648\n",
      "2    37.228665  0.028718\n",
      "3    37.279338  0.023283\n",
      "4    36.197985  0.035966\n",
      "5    37.547521  0.023990\n",
      "6    36.700852  0.022293\n"
     ]
    }
   ],
   "source": [
    "df = pd.read_csv('./data/Fraud/chapter_3/banksim_adj.csv')\n",
    "print(df[['age','amount','fraud']].groupby('age').mean())"
   ]
  },
  {
   "cell_type": "markdown",
   "metadata": {},
   "source": [
    "no particular trend with age"
   ]
  },
  {
   "cell_type": "code",
   "execution_count": 5,
   "metadata": {},
   "outputs": [
    {
     "data": {
      "image/png": "[encoded data removed]",
      "text/plain": [
       "<Figure size 432x288 with 1 Axes>"
      ]
     },
     "metadata": {
      "needs_background": "light"
     },
     "output_type": "display_data"
    }
   ],
   "source": [
    "df_fraud = df.loc[df['fraud'] == 1] \n",
    "df_non_fraud = df.loc[df['fraud'] == 0]\n",
    "\n",
    "# Plot histograms of the amounts in fraud and non-fraud data \n",
    "plt.hist(df_fraud['amount'], alpha=0.5, label='fraud')\n",
    "plt.hist(df_non_fraud['amount'], alpha=0.5, label='nonfraud')\n",
    "plt.legend()\n",
    "plt.show()"
   ]
  },
  {
   "cell_type": "markdown",
   "metadata": {},
   "source": [
    "fraud transactions tend to be for large amounts"
   ]
  },
  {
   "cell_type": "markdown",
   "metadata": {},
   "source": [
    "### 1.1 - Print Results Functons and MinMaxScaler"
   ]
  },
  {
   "cell_type": "code",
   "execution_count": 12,
   "metadata": {},
   "outputs": [],
   "source": [
    "def print_model_result(y_true, y_predicted):\n",
    "    \n",
    "    print(f\"R2: {r2_score(y_true, y_predicted):0.3f}\")\n",
    "    print(f\"Roc_Auc: {roc_auc_score(y_true, y_predicted):0.3f}\\n\")\n",
    "    \n",
    "    print('Classifcation report:\\n', classification_report(y_true, y_predicted))\n",
    "    #conf_mat = confusion_matrix(y_test, predicted)\n",
    "    #print('Confusion matrix:\\n', conf_mat)\n",
    "    class_names = np.array(['Non-Fraud', 'Fraud'])\n",
    "    myML_functions.plot_confusion_matrix(y_true, y_predicted, classes=class_names)\n",
    "    plt.show()"
   ]
  },
  {
   "cell_type": "markdown",
   "metadata": {},
   "source": [
    "MinMaxScaler"
   ]
  },
  {
   "cell_type": "code",
   "execution_count": 6,
   "metadata": {},
   "outputs": [],
   "source": [
    "df = pd.read_csv('./data/Fraud/chapter_3/banksim_adj.csv')\n",
    "y = df['fraud']\n",
    "df.drop('fraud', axis=1)\n",
    "X = np.array(df).astype(np.float)\n",
    "scaler = MinMaxScaler()\n",
    "X_scaled = scaler.fit_transform(X)"
   ]
  },
  {
   "cell_type": "markdown",
   "metadata": {},
   "source": [
    "<br>\n",
    "\n",
    "## 2 - Detect Fraud with K-means clustering (cluster outliers)\n",
    "- choose number of clusters with Elbow curve"
   ]
  },
  {
   "cell_type": "code",
   "execution_count": 7,
   "metadata": {},
   "outputs": [
    {
     "data": {
      "image/png": "[encoded data removed]",
      "text/plain": [
       "<Figure size 432x288 with 1 Axes>"
      ]
     },
     "metadata": {
      "needs_background": "light"
     },
     "output_type": "display_data"
    }
   ],
   "source": [
    "clustno = range(1, 10)\n",
    "\n",
    "kmeans = [MiniBatchKMeans(n_clusters=i) for i in clustno]\n",
    "score = [kmeans[i].fit(X_scaled).score(X_scaled) for i in range(len(kmeans))]\n",
    "\n",
    "plt.plot(clustno, score)\n",
    "plt.xlabel('Number of Clusters')\n",
    "plt.ylabel('Score')\n",
    "plt.title('Elbow Curve')\n",
    "plt.show()"
   ]
  },
  {
   "cell_type": "markdown",
   "metadata": {},
   "source": [
    "**use 4 clusters**"
   ]
  },
  {
   "cell_type": "markdown",
   "metadata": {},
   "source": [
    "### 2.1 - Assigning fraud versus non-fraud using distance from cluster centroid\n",
    "- assign centroids, compute distances to cluster centroid, define a percentile for the distance distribution and remove anything with distance larger than that"
   ]
  },
  {
   "cell_type": "code",
   "execution_count": 13,
   "metadata": {},
   "outputs": [
    {
     "name": "stdout",
     "output_type": "stream",
     "text": [
      "R2: 0.114\n",
      "Roc_Auc: 0.988\n",
      "\n",
      "Classifcation report:\n",
      "               precision    recall  f1-score   support\n",
      "\n",
      "           0       1.00      0.98      0.99      2099\n",
      "           1       0.54      1.00      0.70        58\n",
      "\n",
      "   micro avg       0.98      0.98      0.98      2157\n",
      "   macro avg       0.77      0.99      0.84      2157\n",
      "weighted avg       0.99      0.98      0.98      2157\n",
      "\n",
      "Confusion matrix, without normalization\n"
     ]
    },
    {
     "data": {
      "image/png": "[encoded data removed]",
      "text/plain": [
       "<Figure size 432x288 with 2 Axes>"
      ]
     },
     "metadata": {
      "needs_background": "light"
     },
     "output_type": "display_data"
    }
   ],
   "source": [
    "X_train, X_test, y_train, y_test = train_test_split(X_scaled, y, test_size=0.3, random_state=0)\n",
    "\n",
    "kmeans = MiniBatchKMeans(n_clusters=4, random_state=42).fit(X_train)\n",
    "\n",
    "# Obtain predictions and calculate distance from cluster centroid\n",
    "X_test_clusters = kmeans.predict(X_test)\n",
    "X_test_clusters_centers = kmeans.cluster_centers_\n",
    "dist = [np.linalg.norm(x-y) for x, y in zip(X_test, X_test_clusters_centers[X_test_clusters])]\n",
    "\n",
    "# Create fraud predictions based on outliers on clusters \n",
    "km_y_pred = np.array(dist)\n",
    "km_y_pred[dist >= np.percentile(dist, 95)] = 1\n",
    "km_y_pred[dist < np.percentile(dist, 95)] = 0\n",
    "\n",
    "print_model_result(y_test, km_y_pred)"
   ]
  },
  {
   "cell_type": "markdown",
   "metadata": {},
   "source": [
    "<br>\n",
    "\n",
    "## 3 - Detect Fraud with DBSCAN clustering (smallest clusters)\n",
    "<img src='./img/clustering.png' align='left' width='400px'>"
   ]
  },
  {
   "cell_type": "code",
   "execution_count": 22,
   "metadata": {},
   "outputs": [
    {
     "name": "stdout",
     "output_type": "stream",
     "text": [
      "Estimated number of clusters: 20\n",
      "Homogeneity: 0.862\n",
      "Silhouette Coefficient: 0.556\n"
     ]
    }
   ],
   "source": [
    "X_train, X_test, y_train, y_test = train_test_split(X_scaled, y, test_size=0.3, random_state=0)\n",
    "\n",
    "db = DBSCAN(eps=0.9, min_samples=10, n_jobs=-1).fit(X_train)\n",
    "\n",
    "pred_labels = db.labels_\n",
    "n_clusters = len(set(pred_labels)) - (1 if -1 in y else 0)\n",
    "\n",
    "print('Estimated number of clusters: %d' % n_clusters)\n",
    "print(\"Homogeneity: %0.3f\" % homogeneity_score(y_train, pred_labels))\n",
    "print(\"Silhouette Coefficient: %0.3f\" % silhouette_score(X_train, pred_labels))"
   ]
  },
  {
   "cell_type": "code",
   "execution_count": 23,
   "metadata": {},
   "outputs": [],
   "source": [
    "def dbscan_predict(model, X):\n",
    "    nr_samples = X.shape[0]\n",
    "\n",
    "    y_new = np.ones(shape=nr_samples, dtype=int) * -1\n",
    "\n",
    "    for i in range(nr_samples):\n",
    "        diff = model.components_ - X[i, :]  # NumPy broadcasting\n",
    "\n",
    "        dist = np.linalg.norm(diff, axis=1)  # Euclidean distance\n",
    "\n",
    "        shortest_dist_idx = np.argmin(dist)\n",
    "\n",
    "        if dist[shortest_dist_idx] < model.eps:\n",
    "            y_new[i] = model.labels_[model.core_sample_indices_[shortest_dist_idx]]\n",
    "\n",
    "    return y_new"
   ]
  },
  {
   "cell_type": "markdown",
   "metadata": {},
   "source": [
    "Predict new labels on test dataset"
   ]
  },
  {
   "cell_type": "code",
   "execution_count": 24,
   "metadata": {},
   "outputs": [
    {
     "name": "stdout",
     "output_type": "stream",
     "text": [
      "Estimated number of clusters: 20\n",
      "Homogeneity: 0.868\n",
      "Silhouette Coefficient: 0.559\n"
     ]
    }
   ],
   "source": [
    "pred_labels = dbscan_predict(db, X_test)\n",
    "n_clusters = len(set(pred_labels)) - (1 if -1 in y else 0)\n",
    "\n",
    "print('Estimated number of clusters: %d' % n_clusters)\n",
    "print(\"Homogeneity: %0.3f\" % homogeneity_score(y_test, pred_labels))\n",
    "print(\"Silhouette Coefficient: %0.3f\" % silhouette_score(X_test, pred_labels))"
   ]
  },
  {
   "cell_type": "markdown",
   "metadata": {},
   "source": [
    "find the smallest clusters to identify as fraud"
   ]
  },
  {
   "cell_type": "code",
   "execution_count": 35,
   "metadata": {},
   "outputs": [
    {
     "name": "stdout",
     "output_type": "stream",
     "text": [
      "[845  27  13 927  20  39  36  12  26  12  19  30  53  16   7   7   4   4\n",
      "   9]\n",
      "The smallest clusters are clusters:\n",
      "[16 17 15 14 18  7  9  2 13 10]\n",
      "Their counts are:\n",
      "[ 4  4  7  7  9 12 12 13 16 19]\n"
     ]
    }
   ],
   "source": [
    "counts = np.bincount(pred_labels[pred_labels>=0])\n",
    "print(counts)\n",
    "\n",
    "# Sort the sample counts of the clusters and take the smallest clusters\n",
    "smallest_clusters = np.argsort(counts)[:10]\n",
    "\n",
    "print(\"The smallest clusters are clusters:\")      \n",
    "print(smallest_clusters)\n",
    "\n",
    "print(\"Their counts are:\")      \n",
    "print(counts[smallest_clusters])"
   ]
  },
  {
   "cell_type": "markdown",
   "metadata": {},
   "source": [
    "test fraud detection accuracy with DBSCAN"
   ]
  },
  {
   "cell_type": "code",
   "execution_count": 36,
   "metadata": {},
   "outputs": [
    {
     "name": "stdout",
     "output_type": "stream",
     "text": [
      "R2: -0.719\n",
      "Roc_Auc: 0.759\n",
      "\n",
      "Classifcation report:\n",
      "               precision    recall  f1-score   support\n",
      "\n",
      "           0       0.99      0.97      0.98      2099\n",
      "           1       0.31      0.55      0.40        58\n",
      "\n",
      "   micro avg       0.96      0.96      0.96      2157\n",
      "   macro avg       0.65      0.76      0.69      2157\n",
      "weighted avg       0.97      0.96      0.96      2157\n",
      "\n",
      "Confusion matrix, without normalization\n"
     ]
    },
    {
     "data": {
      "image/png": "[encoded data removed]",
      "text/plain": [
       "<Figure size 432x288 with 2 Axes>"
      ]
     },
     "metadata": {
      "needs_background": "light"
     },
     "output_type": "display_data"
    }
   ],
   "source": [
    "db_df = pd.DataFrame({'clusternr':pred_labels, 'fraud':y_test})\n",
    "\n",
    "db_df['predicted_fraud'] = 0\n",
    "for cluster in smallest_clusters:\n",
    "    db_df['predicted_fraud'].loc[db_df['clusternr']==cluster] = 1\n",
    "    \n",
    "#db_df['predicted_fraud'] = np.where((db_df['clusternr']==21) | (db_df['clusternr']==9),1 , 0)\n",
    "\n",
    "print_model_result(db_df['fraud'], db_df['predicted_fraud'])"
   ]
  },
  {
   "cell_type": "code",
   "execution_count": null,
   "metadata": {},
   "outputs": [],
   "source": []
  }
 ],
 "metadata": {
  "kernelspec": {
   "display_name": "Python 3",
   "language": "python",
   "name": "python3"
  },
  "language_info": {
   "codemirror_mode": {
    "name": "ipython",
    "version": 3
   },
   "file_extension": ".py",
   "mimetype": "text/x-python",
   "name": "python",
   "nbconvert_exporter": "python",
   "pygments_lexer": "ipython3",
   "version": "3.7.3"
  }
 },
 "nbformat": 4,
 "nbformat_minor": 2
}
