{
 "cells": [
  {
   "cell_type": "markdown",
   "metadata": {},
   "source": [
    "# Project: Deep Learning with Convolution Neural Networks  (classify images of Zalando fashion articles) "
   ]
  },
  {
   "cell_type": "markdown",
   "metadata": {},
   "source": [
    "<br>\n",
    "\n",
    "## Problem:\n",
    "- Classify images of Zalando clothing articles: 'T-shirt/top', 'Trouser', 'Pullover', 'Dress', 'Coat', 'Sandal', 'Shirt', 'Sneaker', 'Bag', 'Ankle boot'. \n",
    "- Multiclass classification of images with deep learning and Convolution Neural Networks"
   ]
  },
  {
   "cell_type": "markdown",
   "metadata": {},
   "source": [
    "<br>\n",
    "\n",
    "## Tools:\n",
    "- Tensorflow Sequential models\n",
    "- Keras Conv2D, BatchNormalization, Dropout and MaxPool2D layers\n",
    "- sklearn kfold validation and predictions"
   ]
  },
  {
   "cell_type": "code",
   "execution_count": 236,
   "metadata": {},
   "outputs": [],
   "source": [
    "import numpy as np\n",
    "import pandas as pd\n",
    "%matplotlib inline\n",
    "import matplotlib.pyplot as plt\n",
    "import matplotlib.gridspec as gridspec\n",
    "\n",
    "import myML_functions as myML_functions\n",
    "\n",
    "import tensorflow as tf\n",
    "from keras import metrics\n",
    "from keras.models import Sequential\n",
    "from keras.layers import Dense, Conv2D, Flatten, MaxPool2D, Dropout, BatchNormalization\n",
    "from keras.utils import to_categorical\n",
    "from keras.callbacks import ModelCheckpoint\n",
    "\n",
    "from keras.wrappers.scikit_learn import KerasClassifier\n",
    "from sklearn.model_selection import cross_val_score, cross_validate, cross_val_predict\n",
    "from sklearn.model_selection import KFold\n",
    "\n",
    "from sklearn.metrics import classification_report, confusion_matrix\n",
    "from sklearn.metrics import make_scorer, f1_score, recall_score, precision_score, accuracy_score"
   ]
  },
  {
   "cell_type": "markdown",
   "metadata": {},
   "source": [
    "## 1 - Load data"
   ]
  },
  {
   "cell_type": "code",
   "execution_count": 117,
   "metadata": {},
   "outputs": [
    {
     "name": "stdout",
     "output_type": "stream",
     "text": [
      "reading done\n"
     ]
    }
   ],
   "source": [
    "labels = ['T-shirt', 'Trouser', 'Pullover', 'Dress', 'Coat', 'Sandal', 'Shirt', 'Sneaker', \n",
    "          'Bag', 'boot'] \n",
    "train_data = pd.read_csv('./data/fashion-mnist_train.csv')\n",
    "train_data = train_data\n",
    "\n",
    "test_data = pd.read_csv('./data/fashion-mnist_test.csv')\n",
    "\n",
    "train_features = np.array(train_data.iloc[:,1:])\n",
    "train_features = np.reshape(train_features,(len(train_data),28,28,1))\n",
    "train_target = to_categorical(train_data.iloc[:,0])\n",
    "\n",
    "test_features = np.array(test_data.iloc[:,1:])\n",
    "test_features = np.reshape(test_features,(len(test_data),28,28,1))\n",
    "test_target = to_categorical(test_data.iloc[:,0])\n",
    "\n",
    "img_rows = train_features.shape[1]\n",
    "img_cols = train_features.shape[2]\n",
    "print('reading done')"
   ]
  },
  {
   "cell_type": "markdown",
   "metadata": {},
   "source": [
    "## 2 - Build Model"
   ]
  },
  {
   "cell_type": "markdown",
   "metadata": {},
   "source": [
    "when metrics = 'accuracy', keras automatically chooses one of: binary accuracy, categorial accuracy or sparse categorial accuracy, depending on the types of inputs"
   ]
  },
  {
   "cell_type": "code",
   "execution_count": 211,
   "metadata": {},
   "outputs": [
    {
     "name": "stdout",
     "output_type": "stream",
     "text": [
      "Train on 48000 samples, validate on 12000 samples\n",
      "Epoch 1/20\n",
      " - 115s - loss: 0.6896 - acc: 0.7644 - val_loss: 0.4333 - val_acc: 0.8507\n",
      "Epoch 2/20\n",
      " - 85s - loss: 0.3868 - acc: 0.8624 - val_loss: 0.3703 - val_acc: 0.8702\n",
      "Epoch 3/20\n",
      " - 94s - loss: 0.3237 - acc: 0.8855 - val_loss: 0.3369 - val_acc: 0.8808\n",
      "Epoch 4/20\n",
      " - 90s - loss: 0.2867 - acc: 0.8969 - val_loss: 0.3029 - val_acc: 0.8928\n",
      "Epoch 5/20\n",
      " - 81s - loss: 0.2564 - acc: 0.9081 - val_loss: 0.2976 - val_acc: 0.8950\n",
      "Epoch 6/20\n",
      " - 81s - loss: 0.2311 - acc: 0.9173 - val_loss: 0.3079 - val_acc: 0.8873\n",
      "Epoch 7/20\n",
      " - 93s - loss: 0.2169 - acc: 0.9225 - val_loss: 0.2856 - val_acc: 0.9003\n",
      "Epoch 8/20\n",
      " - 91s - loss: 0.1957 - acc: 0.9297 - val_loss: 0.2759 - val_acc: 0.9046\n",
      "Epoch 9/20\n",
      " - 93s - loss: 0.1813 - acc: 0.9351 - val_loss: 0.2930 - val_acc: 0.8988\n",
      "Epoch 10/20\n",
      " - 93s - loss: 0.1703 - acc: 0.9407 - val_loss: 0.2720 - val_acc: 0.9082\n",
      "Epoch 11/20\n",
      " - 93s - loss: 0.1537 - acc: 0.9467 - val_loss: 0.2770 - val_acc: 0.9065\n",
      "Epoch 12/20\n",
      " - 97s - loss: 0.1423 - acc: 0.9512 - val_loss: 0.2890 - val_acc: 0.9031\n",
      "Epoch 13/20\n",
      " - 95s - loss: 0.1381 - acc: 0.9510 - val_loss: 0.2851 - val_acc: 0.9044\n",
      "Epoch 14/20\n",
      " - 93s - loss: 0.1249 - acc: 0.9571 - val_loss: 0.2805 - val_acc: 0.9091\n",
      "Epoch 15/20\n",
      " - 87s - loss: 0.1201 - acc: 0.9583 - val_loss: 0.2904 - val_acc: 0.9068\n",
      "Epoch 16/20\n",
      " - 94s - loss: 0.1144 - acc: 0.9594 - val_loss: 0.2976 - val_acc: 0.9021\n",
      "Epoch 17/20\n",
      " - 94s - loss: 0.1050 - acc: 0.9639 - val_loss: 0.3015 - val_acc: 0.9070\n",
      "Epoch 18/20\n",
      " - 109s - loss: 0.0939 - acc: 0.9685 - val_loss: 0.3148 - val_acc: 0.9036\n",
      "Epoch 19/20\n",
      " - 93s - loss: 0.0904 - acc: 0.9697 - val_loss: 0.3099 - val_acc: 0.9059\n",
      "Epoch 20/20\n",
      " - 96s - loss: 0.0856 - acc: 0.9694 - val_loss: 0.3238 - val_acc: 0.9037\n"
     ]
    },
    {
     "data": {
      "text/plain": [
       "<keras.callbacks.History at 0x191849be0>"
      ]
     },
     "execution_count": 211,
     "metadata": {},
     "output_type": "execute_result"
    }
   ],
   "source": [
    "model = Sequential()\n",
    "model.add(Conv2D(100, kernel_size=3, activation='relu', input_shape=(28, 28, 1),  \n",
    "                 padding='same', strides=2, dilation_rate=1))\n",
    "#model.add(Dropout(0.1))\n",
    "model.add(BatchNormalization())\n",
    "#model.add(MaxPool2D(2))\n",
    "model.add(Conv2D(100, kernel_size=3, activation='relu',  \n",
    "                 padding='same', strides=2, dilation_rate=1))\n",
    "model.add(Dropout(0.1))\n",
    "model.add(Conv2D(30, kernel_size=3, activation='relu',  \n",
    "                 padding='same', strides=2, dilation_rate=1))\n",
    "#model.add(Dropout(0.1))\n",
    "model.add(BatchNormalization())\n",
    "#model.add(MaxPool2D(2))\n",
    "model.add(Flatten())\n",
    "model.add(Dense(10, activation='softmax'))\n",
    "\n",
    "checkpoint = ModelCheckpoint('cnn_weights.hdf5', monitor='val_loss', save_best_only=True)\n",
    "\n",
    "model.compile(optimizer='adam', loss='categorical_crossentropy', metrics=['accuracy'])\n",
    "callbacks_list = [checkpoint]\n",
    "model.fit(train_features, train_target, validation_split=0.2, epochs=20, batch_size=1000, verbose=2,\n",
    "          callbacks=callbacks_list)"
   ]
  },
  {
   "cell_type": "markdown",
   "metadata": {},
   "source": [
    "## 3 - Evaluate"
   ]
  },
  {
   "cell_type": "code",
   "execution_count": 233,
   "metadata": {},
   "outputs": [
    {
     "name": "stdout",
     "output_type": "stream",
     "text": [
      "10000/10000 [==============================] - 9s 872us/step\n",
      "Evaluation test accuracy: 0.91\n",
      "accuracy: 0.908, precision: 0.908, recall: 0.908, f1: 0.908\n",
      "\n",
      "              precision    recall  f1-score   support\n",
      "\n",
      "     T-shirt       0.85      0.87      0.86      1000\n",
      "     Trouser       0.99      0.98      0.98      1000\n",
      "    Pullover       0.86      0.86      0.86      1000\n",
      "       Dress       0.92      0.92      0.92      1000\n",
      "        Coat       0.87      0.86      0.87      1000\n",
      "      Sandal       0.99      0.95      0.97      1000\n",
      "       Shirt       0.76      0.75      0.76      1000\n",
      "     Sneaker       0.93      0.95      0.94      1000\n",
      "         Bag       0.97      0.98      0.97      1000\n",
      "        boot       0.95      0.96      0.95      1000\n",
      "\n",
      "   micro avg       0.91      0.91      0.91     10000\n",
      "   macro avg       0.91      0.91      0.91     10000\n",
      "weighted avg       0.91      0.91      0.91     10000\n",
      "\n",
      "   true / pred  T-shirt  Trouser Pullover    Dress     Coat   Sandal    Shirt  Sneaker      Bag     boot \n",
      "       T-shirt    867.0      3.0     16.0     12.0      1.0      1.0     87.0      0.0     13.0      0.0 \n",
      "       Trouser      5.0    981.0      0.0      7.0      1.0      0.0      3.0      0.0      3.0      0.0 \n",
      "      Pullover     16.0      0.0    857.0     12.0     64.0      0.0     49.0      0.0      2.0      0.0 \n",
      "         Dress     17.0      4.0      8.0    921.0     20.0      0.0     29.0      0.0      1.0      0.0 \n",
      "          Coat      2.0      0.0     54.0     20.0    863.0      0.0     59.0      0.0      2.0      0.0 \n",
      "        Sandal      0.0      1.0      0.0      0.0      0.0    947.0      0.0     37.0      3.0     12.0 \n",
      "         Shirt    114.0      2.0     60.0     23.0     40.0      0.0    754.0      0.0      7.0      0.0 \n",
      "       Sneaker      0.0      0.0      0.0      0.0      0.0      8.0      0.0    948.0      0.0     44.0 \n",
      "           Bag      2.0      2.0      3.0      1.0      1.0      2.0      6.0      3.0    980.0      0.0 \n",
      "          boot      0.0      0.0      0.0      0.0      0.0      3.0      0.0     34.0      0.0    963.0 \n"
     ]
    }
   ],
   "source": [
    "model.load_weights('cnn_weights.hdf5')\n",
    "score = model.evaluate(test_features, test_target, batch_size=10)\n",
    "print(f\"Evaluation test accuracy: {score[1]:0.2f}\")\n",
    "\n",
    "predictions = model.predict_classes(test_features)\n",
    "test_decoded = np.argmax(test_target, axis=1)\n",
    "\n",
    "accuracy = accuracy_score(test_decoded, predictions)\n",
    "precision = precision_score(test_decoded, predictions, average='weighted')\n",
    "recall = recall_score(test_decoded, predictions,  average='weighted')\n",
    "f1 = f1_score(test_decoded, predictions,  average='weighted')\n",
    "print(f\"accuracy: {accuracy:0.3f}, precision: {precision:0.3f}, recall: {recall:0.3f}, f1: {f1:0.3f}\\n\")\n",
    "\n",
    "print(classification_report(test_decoded, predictions, target_names=labels))\n",
    "cm = confusion_matrix(test_decoded, predictions, labels=list(range(0,len(labels))))\n",
    "myML_functions.print_cm(cm, labels=labels)"
   ]
  },
  {
   "cell_type": "code",
   "execution_count": 261,
   "metadata": {},
   "outputs": [
    {
     "data": {
      "text/plain": [
       "<function matplotlib.pyplot.show(*args, **kw)>"
      ]
     },
     "execution_count": 261,
     "metadata": {},
     "output_type": "execute_result"
    },
    {
     "data": {
      "image/png": "[encoded data removed]",
      "text/plain": [
       "<Figure size 1152x360 with 16 Axes>"
      ]
     },
     "metadata": {
      "needs_background": "light"
     },
     "output_type": "display_data"
    }
   ],
   "source": [
    "fig, ax = plt.subplots(figsize=(16,5))\n",
    "grid = gridspec.GridSpec(2,8)\n",
    "grid.update(wspace=0.3)\n",
    "\n",
    "for idx in range(0,16):\n",
    "    subplot = plt.subplot(grid[idx])\n",
    "    subplot.imshow(test_features[idx, :, :, 0])\n",
    "    subplot.set_title(labels[predictions[idx]])\n",
    "\n",
    "plt.show"
   ]
  },
  {
   "cell_type": "markdown",
   "metadata": {},
   "source": [
    "## 4 - Validation with SKlearn"
   ]
  },
  {
   "cell_type": "markdown",
   "metadata": {},
   "source": [
    "### 4.1 - Cross Validation with Kfold"
   ]
  },
  {
   "cell_type": "code",
   "execution_count": null,
   "metadata": {},
   "outputs": [],
   "source": [
    "def baseline_model():\n",
    "    model = Sequential()\n",
    "    model.add(Conv2D(10, kernel_size=3, activation='relu', input_shape=(28, 28, 1),  \n",
    "                     padding='same', strides=2, dilation_rate=1))\n",
    "    #model.add(Dropout(0.1))\n",
    "    model.add(BatchNormalization())\n",
    "    #model.add(MaxPool2D(2))\n",
    "    \n",
    "    model.add(Conv2D(10, kernel_size=3, activation='relu',  \n",
    "                     padding='same', strides=2, dilation_rate=1))\n",
    "    #model.add(Dropout(0.1))\n",
    "    model.add(BatchNormalization())\n",
    "    #model.add(MaxPool2D(2))\n",
    "    model.add(Flatten())\n",
    "    model.add(Dense(10, activation='softmax'))\n",
    "    checkpoint = ModelCheckpoint('weights.hdf5', monitor='val_loss', save_best_only=True)\n",
    "\n",
    "    model.compile(optimizer='adam', loss='categorical_crossentropy', \n",
    "                  metrics=['accuracy'])\n",
    "    return model"
   ]
  },
  {
   "cell_type": "code",
   "execution_count": 195,
   "metadata": {},
   "outputs": [
    {
     "name": "stdout",
     "output_type": "stream",
     "text": [
      "Train on 24000 samples, validate on 6000 samples\n",
      "Epoch 1/1\n",
      "24000/24000 [==============================] - 45s 2ms/step - loss: 0.5349 - acc: 0.8087 - val_loss: 0.4376 - val_acc: 0.8422\n",
      "30000/30000 [==============================] - 22s 745us/step\n",
      "Train on 24000 samples, validate on 6000 samples\n",
      "Epoch 1/1\n",
      "24000/24000 [==============================] - 47s 2ms/step - loss: 0.5237 - acc: 0.8168 - val_loss: 0.4179 - val_acc: 0.8523\n",
      "30000/30000 [==============================] - 30s 991us/step\n",
      "Baseline: 85.14% (0.33%)\n"
     ]
    }
   ],
   "source": [
    "estimator = KerasClassifier(build_fn=baseline_model, epochs=1, batch_size=5, verbose=True, validation_split=0.2)\n",
    "seed = 1\n",
    "kfold = KFold(n_splits=2, shuffle=True, random_state=seed)\n",
    "results = cross_val_score(estimator, train_features, train_target, cv=kfold)\n",
    "print(\"Baseline: %.2f%% (%.2f%%)\" % (results.mean()*100, results.std()*100))"
   ]
  },
  {
   "cell_type": "markdown",
   "metadata": {},
   "source": [
    "### 4.2 - cross_val_predict and sklearn metrics"
   ]
  },
  {
   "cell_type": "code",
   "execution_count": 200,
   "metadata": {},
   "outputs": [
    {
     "name": "stdout",
     "output_type": "stream",
     "text": [
      "Train on 24000 samples, validate on 6000 samples\n",
      "Epoch 1/1\n",
      "24000/24000 [==============================] - 53s 2ms/step - loss: 0.5316 - acc: 0.8100 - val_loss: 0.4546 - val_acc: 0.8360\n",
      "30000/30000 [==============================] - 34s 1ms/step\n",
      "Train on 24000 samples, validate on 6000 samples\n",
      "Epoch 1/1\n",
      "24000/24000 [==============================] - 52s 2ms/step - loss: 0.5286 - acc: 0.8107 - val_loss: 0.4359 - val_acc: 0.8417\n",
      "30000/30000 [==============================] - 21s 691us/step\n"
     ]
    }
   ],
   "source": [
    "kfold = KFold(n_splits=2, shuffle=True, random_state=seed)\n",
    "predictions = cross_val_predict(estimator, train_features, train_target, cv=kfold)"
   ]
  },
  {
   "cell_type": "code",
   "execution_count": 201,
   "metadata": {},
   "outputs": [
    {
     "name": "stdout",
     "output_type": "stream",
     "text": [
      "accuracy: 0.844, precision: 0.848, recall: 0.844, f1: 0.845\n"
     ]
    }
   ],
   "source": [
    "target_decoded = np.argmax(train_target, axis=1)\n",
    "accuracy = accuracy_score(target_decoded, predictions)\n",
    "precision = precision_score(target_decoded, predictions, average='weighted')\n",
    "recall = recall_score(target_decoded, predictions,  average='weighted')\n",
    "f1 = f1_score(target_decoded, predictions,  average='weighted')\n",
    "print(f\"accuracy: {accuracy:0.3f}, precision: {precision:0.3f}, recall: {recall:0.3f}, f1: {f1:0.3f}\")"
   ]
  },
  {
   "cell_type": "markdown",
   "metadata": {},
   "source": [
    "## 5 - Inspect Kernels"
   ]
  },
  {
   "cell_type": "code",
   "execution_count": 136,
   "metadata": {},
   "outputs": [
    {
     "name": "stdout",
     "output_type": "stream",
     "text": [
      "kernel size, kernel size, Number of channels (colours), number of kernels in this layer\n",
      "(3, 3, 1, 100)\n",
      "(3, 3)\n"
     ]
    },
    {
     "data": {
      "text/plain": [
       "<matplotlib.image.AxesImage at 0x1400730b8>"
      ]
     },
     "execution_count": 136,
     "metadata": {},
     "output_type": "execute_result"
    },
    {
     "data": {
      "image/png": "[encoded data removed]",
      "text/plain": [
       "<Figure size 432x288 with 1 Axes>"
      ]
     },
     "metadata": {
      "needs_background": "light"
     },
     "output_type": "display_data"
    }
   ],
   "source": [
    "conv1 = model.layers[0]\n",
    "weights1 = conv1.get_weights()\n",
    "conv2 = model.layers[2]\n",
    "weights2 = conv2.get_weights()\n",
    "conv3 = model.layers[4]\n",
    "weights3 = conv3.get_weights()\n",
    "\n",
    "\n",
    "#first element is an array fo weights for the kernel\n",
    "kernel1 = weights1[0]\n",
    "kernel2 = weights2[0]\n",
    "kernel3 = weights3[0]\n",
    "print(\"kernel size, kernel size, Number of channels (colours), number of kernels in this layer\")\n",
    "print(weights1[0].shape)\n",
    "\n",
    "# Pull out the first channel of the first kernel in the first layer\n",
    "kernel1_1 = weights1[0][:,:,0, 0]\n",
    "kernel2_1 = weights2[0][:,:,0, 0]\n",
    "kernel3_1 = weights3[0][:,:,0, 0]\n",
    "print(kernel1_1.shape)\n",
    "\n",
    "plt.imshow(kernel1_1)\n",
    "plt.imshow(kernel2_1)"
   ]
  },
  {
   "cell_type": "code",
   "execution_count": 139,
   "metadata": {},
   "outputs": [
    {
     "data": {
      "text/plain": [
       "<matplotlib.image.AxesImage at 0x1402b44a8>"
      ]
     },
     "execution_count": 139,
     "metadata": {},
     "output_type": "execute_result"
    },
    {
     "data": {
      "image/png": "[encoded data removed]",
      "text/plain": [
       "<Figure size 432x288 with 1 Axes>"
      ]
     },
     "metadata": {
      "needs_background": "light"
     },
     "output_type": "display_data"
    }
   ],
   "source": [
    "def convolution(im, kernel):\n",
    "    result = np.zeros((im.shape[0], im.shape[1]))\n",
    "    for ii in range(im.shape[0] - kernel.shape[0]):\n",
    "        for jj in range(im.shape[1] - kernel.shape[1]):\n",
    "            result[ii, jj] = (im[ii:ii+kernel.shape[0], jj:jj+kernel.shape[1]] * kernel).sum()\n",
    "    return result\n",
    "\n",
    "test_image = test_features[0, :, :, 0]\n",
    "plt.imshow(test_image)\n",
    "filtered_image = convolution(test_image,kernel3_1)\n",
    "plt.imshow(filtered_image)"
   ]
  },
  {
   "cell_type": "markdown",
   "metadata": {},
   "source": [
    "## 6 - Custom metrics"
   ]
  },
  {
   "cell_type": "code",
   "execution_count": 147,
   "metadata": {},
   "outputs": [],
   "source": [
    "import keras.backend as K\n",
    "\n",
    "def c1_c2_c3(y_true, y_pred):\n",
    "    # Count positive samples.\n",
    "    c1 = K.sum(K.round(K.clip(y_true * y_pred, 0, 1)))\n",
    "    c2 = K.sum(K.round(K.clip(y_pred, 0, 1)))\n",
    "    c3 = K.sum(K.round(K.clip(y_true, 0, 1)))\n",
    "    \n",
    "    return(c1,c2,c3)\n",
    "\n",
    "def f1_score(y_true, y_pred):\n",
    "\n",
    "    (c1,c2,c3) = c1_c2_c3(y_true, y_pred)\n",
    "\n",
    "    # If there are no true samples, fix the F1 score at 0.\n",
    "    if c3 == 0:\n",
    "        return 0\n",
    "\n",
    "    # How many selected items are relevant?\n",
    "    precision = c1 / c2\n",
    "\n",
    "    # How many relevant items are selected?\n",
    "    recall = c1 / c3\n",
    "\n",
    "    # Calculate f1_score\n",
    "    f1_score = 2 * (precision * recall) / (precision + recall)\n",
    "    return f1_score\n",
    "\n",
    "def precision(y_true, y_pred):\n",
    "    \n",
    "    (c1,c2,c3) = c1_c2_c3(y_true, y_pred)\n",
    "\n",
    "    return c1 / c2\n",
    "\n",
    "def recall(y_true, y_pred):\n",
    "    \n",
    "    (c1,c2,c3) = c1_c2_c3(y_true, y_pred)\n",
    "    \n",
    "    # If there are no true samples, fix the F1 score at 0.\n",
    "    if c3 == 0:\n",
    "        return 0\n",
    "    \n",
    "    return c1 / c3"
   ]
  },
  {
   "cell_type": "code",
   "execution_count": null,
   "metadata": {},
   "outputs": [],
   "source": [
    "def my_metric(y_true, y_pred):\n",
    "\n",
    "    g = tf.subtract(tf.expand_dims(y_pred, -1), y_pred)\n",
    "    g = tf.cast(g == 0.0, tf.float32) * 0.5 + tf.cast(g > 0.0, tf.float32)\n",
    "\n",
    "    f = tf.subtract(tf.expand_dims(y_true, -1), y_true) > 0.0\n",
    "    f = tf.matrix_band_part(tf.cast(f, tf.float32), -1, 0)\n",
    "\n",
    "    g = tf.reduce_sum(tf.multiply(g, f))\n",
    "    f = tf.reduce_sum(f)\n",
    "\n",
    "    return tf.where(tf.equal(g, 0), 0.0, g/f) #select"
   ]
  }
 ],
 "metadata": {
  "kernelspec": {
   "display_name": "Python 3",
   "language": "python",
   "name": "python3"
  },
  "language_info": {
   "codemirror_mode": {
    "name": "ipython",
    "version": 3
   },
   "file_extension": ".py",
   "mimetype": "text/x-python",
   "name": "python",
   "nbconvert_exporter": "python",
   "pygments_lexer": "ipython3",
   "version": "3.7.3"
  }
 },
 "nbformat": 4,
 "nbformat_minor": 2
}
