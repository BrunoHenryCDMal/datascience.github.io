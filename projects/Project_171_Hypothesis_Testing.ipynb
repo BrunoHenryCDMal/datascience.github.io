{
 "cells": [
  {
   "cell_type": "markdown",
   "metadata": {},
   "source": [
    "# Project: Exercises on Hypothesis Testing"
   ]
  },
  {
   "cell_type": "markdown",
   "metadata": {},
   "source": [
    "<br>\n",
    "\n",
    "## Questions to address:\n",
    "- First Study: check if weight loss was significant in a study using a control group\n",
    "- Check whether the number of Males and Females in a subset of data is different than expected\n",
    "- Same as before but with two categories: numbers and income\n",
    "- Same as before but with gender and race (multiple categories)"
   ]
  },
  {
   "cell_type": "markdown",
   "metadata": {},
   "source": [
    "<br>\n",
    "\n",
    "## Tools:\n",
    "- Mean Difference and Permutation test\n",
    "- Chi-Square and Permutation test\n",
    "- 2-category chi-square\n",
    "  - scipy.stats.chisquare\n",
    "- Multi-category chi-square test\n",
    "  - pd.crosstab\n",
    "  - scipy.stats.chi2_contingency: chi-square on multiple variables"
   ]
  },
  {
   "cell_type": "markdown",
   "metadata": {},
   "source": [
    "<br>\n",
    "\n",
    "### load defaults"
   ]
  },
  {
   "cell_type": "code",
   "execution_count": 1,
   "metadata": {},
   "outputs": [],
   "source": [
    "import pandas as pd\n",
    "import re\n",
    "import numpy as np\n",
    "import requests \n",
    "\n",
    "%matplotlib inline\n",
    "import matplotlib.pyplot as plt\n",
    "from matplotlib.ticker import MultipleLocator\n",
    "from matplotlib import rcParams\n",
    "import matplotlib.dates as mdates\n",
    "\n",
    "from functions import *\n",
    "\n",
    "plt.rcParams.update({'axes.titlepad': 20, 'font.size': 12, 'axes.titlesize':20})\n",
    "\n",
    "colors = [(0/255,107/255,164/255), (255/255, 128/255, 14/255), 'red', 'green', '#9E80BA', '#8EDB8E', '#58517A']\n",
    "Ncolors = 10\n",
    "color_map = plt.cm.Blues_r(np.linspace(0.2, 0.5, Ncolors))\n",
    "#color_map = plt.cm.tab20c_r(np.linspace(0.2, 0.5, Ncolors))"
   ]
  },
  {
   "cell_type": "markdown",
   "metadata": {},
   "source": [
    "<br>\n",
    "\n",
    "# First Study:"
   ]
  },
  {
   "cell_type": "markdown",
   "metadata": {},
   "source": [
    "To determine if a weight loss pill was effective, we conducted a study with 100 volunteers, split randomly into 2 groups. One group was given a placebo, the other the pill. \n",
    "\n",
    "- Null hypothesis: participants who consumed the weight loss pills lost the same amount of weight as those who didn't take the pill.\n",
    "- Alternative hypothesis: participants who consumed the weight loss pills lost more weight than those who didn't take the pill."
   ]
  },
  {
   "cell_type": "markdown",
   "metadata": {},
   "source": [
    "### Q1:  Compare the distribution of eight losses for the two groups"
   ]
  },
  {
   "cell_type": "code",
   "execution_count": 10,
   "metadata": {},
   "outputs": [
    {
     "name": "stdout",
     "output_type": "stream",
     "text": [
      "2.82\n",
      "5.34\n"
     ]
    },
    {
     "data": {
      "image/png": "[encoded data removed]",
      "text/plain": [
       "<Figure size 432x288 with 1 Axes>"
      ]
     },
     "metadata": {
      "needs_background": "light"
     },
     "output_type": "display_data"
    }
   ],
   "source": [
    "import numpy as np\n",
    "import pandas as pd\n",
    "import matplotlib.pyplot as plt\n",
    "\n",
    "weight = pd.read_csv('./data/weight_loss.csv', header=None)\n",
    "\n",
    "weight_lost_a = weight.iloc[:,0]\n",
    "weight_lost_b = weight.iloc[:,1]\n",
    "\n",
    "mean_group_a = np.mean(weight_lost_a)\n",
    "print(mean_group_a)\n",
    "mean_group_b = np.mean(weight_lost_b)\n",
    "print(mean_group_b)\n",
    "plt.hist(weight_lost_a, label=\"group A\")\n",
    "plt.hist(weight_lost_b, label=\"group B\")\n",
    "plt.xlabel(\"Weight Loss in Kgs\"), plt.ylabel(\"Number of ppl\")\n",
    "plt.legend()\n",
    "plt.show()"
   ]
  },
  {
   "cell_type": "code",
   "execution_count": 44,
   "metadata": {},
   "outputs": [
    {
     "name": "stdout",
     "output_type": "stream",
     "text": [
      "2.52\n"
     ]
    }
   ],
   "source": [
    "mean_difference = mean_group_b - mean_group_a\n",
    "print(mean_difference)"
   ]
  },
  {
   "cell_type": "markdown",
   "metadata": {},
   "source": [
    "- There is a difference in weight loss between the two groups. Is it signficant? "
   ]
  },
  {
   "cell_type": "markdown",
   "metadata": {},
   "source": [
    "<br>\n",
    "\n",
    "### Q2: Permutation test to check if mean_difference is significant"
   ]
  },
  {
   "cell_type": "markdown",
   "metadata": {},
   "source": [
    "The permutation test involves simulating rerunning the study many times and check the distribution of a test statistics over these many iterations. This sampling distribution approximates the full range of possible test statistics under the null hypothesis. We can then check how likely it is to observe our mean difference under the null hypothesis (in the sampling distribution). \n",
    "\n",
    "- To simulate rerunning the study under the null hipothesis, we keep re-randomizing the groups that the weight loss values belong to.\n",
    "\n",
    "- Ideally, the number of times we re-randomize the groups that each data point belongs to matches the total number of possible permutations. "
   ]
  },
  {
   "cell_type": "code",
   "execution_count": 11,
   "metadata": {},
   "outputs": [
    {
     "data": {
      "image/png": "[encoded data removed]",
      "text/plain": [
       "<Figure size 432x288 with 1 Axes>"
      ]
     },
     "metadata": {
      "needs_background": "light"
     },
     "output_type": "display_data"
    }
   ],
   "source": [
    "#assign random values to a or b, 1000 times, see the distribution of mean_b-mean_a\n",
    "\n",
    "all_values = pd.concat([weight_lost_a,weight_lost_b])\n",
    "\n",
    "mean_differences = []\n",
    "\n",
    "for ii in range(1000):\n",
    "    group_a = []\n",
    "    group_b = []\n",
    "    for element in all_values:\n",
    "        if(np.random.rand(1)>=0.5):\n",
    "            group_a.append(element)\n",
    "        else:\n",
    "            group_b.append(element)\n",
    "    iteration_mean_difference = np.mean(group_b) - np.mean(group_a)\n",
    "    mean_differences.append(iteration_mean_difference)\n",
    "    \n",
    "#print(mean_differences)    \n",
    "plt.hist(mean_differences)\n",
    "plt.xlabel(\"Mean Difference\"), plt.ylabel(\"Frequency\")\n",
    "plt.show()"
   ]
  },
  {
   "cell_type": "markdown",
   "metadata": {},
   "source": [
    "### Create a frequency table for how many times different value of the test statistic (mean difference) appear in the sampling distribution (same as previous plot)"
   ]
  },
  {
   "cell_type": "code",
   "execution_count": 8,
   "metadata": {},
   "outputs": [],
   "source": [
    "sampling_distribution = {}\n",
    "\n",
    "for element in mean_differences:\n",
    "    if sampling_distribution.get(element, False):\n",
    "        val = sampling_distribution.get(element)        \n",
    "        sampling_distribution[element] = val + 1\n",
    "    else:\n",
    "        sampling_distribution[element] = 1\n",
    "        \n",
    "#print(sampling_distribution)"
   ]
  },
  {
   "cell_type": "markdown",
   "metadata": {},
   "source": [
    "### p-value: how many times our mean difference appeared in the randomized sampling distribution"
   ]
  },
  {
   "cell_type": "code",
   "execution_count": 52,
   "metadata": {},
   "outputs": [
    {
     "name": "stdout",
     "output_type": "stream",
     "text": [
      "0.0\n"
     ]
    }
   ],
   "source": [
    "frequencies = []\n",
    "\n",
    "for key, element in sampling_distribution.items():\n",
    "    if(key>=2.52):\n",
    "        frequencies.append(element)\n",
    "        \n",
    "p_value = np.sum(frequencies)/1000.\n",
    "print(p_value)"
   ]
  },
  {
   "cell_type": "markdown",
   "metadata": {},
   "source": [
    "- Since the p value is less than 5%, we conclude that the difference in weight lost can't be attributed to random chance alone. "
   ]
  },
  {
   "cell_type": "markdown",
   "metadata": {},
   "source": [
    "<br>\n",
    "<br>\n",
    "<br>\n",
    "\n",
    "## Second Study\n",
    "\n",
    "Looking at a subset of data from US income and demographics we see that of the 32561 rows, 10771 are Female and 21790 are Male. Since the full census has about 50-50, these numbers seem a bit off (should be 16280.5 each)."
   ]
  },
  {
   "cell_type": "markdown",
   "metadata": {},
   "source": [
    "<br>\n",
    "\n",
    "### Q1: Calculate Chi-Squared values between expected and observed numbers of Males and Females"
   ]
  },
  {
   "cell_type": "code",
   "execution_count": 55,
   "metadata": {},
   "outputs": [
    {
     "name": "stdout",
     "output_type": "stream",
     "text": [
      "3728.950615767329\n"
     ]
    }
   ],
   "source": [
    "obs_females = 10771\n",
    "exp_females = 16280.5\n",
    "female_diff = (obs_females - exp_females)**2/exp_females\n",
    "\n",
    "obs_males = 21790\n",
    "exp_males = 16280.5\n",
    "male_diff = (obs_males - exp_males)**2/exp_males\n",
    "\n",
    "gender_chisq = female_diff + male_diff\n",
    "print(gender_chisq)"
   ]
  },
  {
   "cell_type": "markdown",
   "metadata": {},
   "source": [
    "<br>\n",
    "\n",
    "### Q2: Permuation Test"
   ]
  },
  {
   "cell_type": "markdown",
   "metadata": {},
   "source": [
    "We can translate a chi-squared value into a statistical significance value using a chi-squared sampling distribution and a p-value. If we repeatedly generate random samples that contain 32561 samples, and graph the chi-squared value of each sample, we'll be able to generate a distribution. "
   ]
  },
  {
   "cell_type": "code",
   "execution_count": 13,
   "metadata": {},
   "outputs": [
    {
     "data": {
      "image/png": "[encoded data removed]",
      "text/plain": [
       "<Figure size 432x288 with 1 Axes>"
      ]
     },
     "metadata": {
      "needs_background": "light"
     },
     "output_type": "display_data"
    }
   ],
   "source": [
    "chi_squared_values = []\n",
    "\n",
    "expected_male = 16280.5\n",
    "expected_female = 16280.5\n",
    "\n",
    "for ii in range(1000):\n",
    "    #random between 0 and 1\n",
    "    result = np.random.random(32561)\n",
    "    obs_male = len(result[result<0.5]) \n",
    "    obs_female = len(result[result>=0.5]) \n",
    "    male_diff = (obs_male - expected_male)**2/expected_male\n",
    "    female_diff = (obs_female - expected_female)**2/expected_female\n",
    "    chi_squared_values.append(male_diff+female_diff)\n",
    "    \n",
    "plt.hist(chi_squared_values)\n",
    "plt.xlabel(\"Chi-Square\"), plt.ylabel(\"Frequency\")\n",
    "plt.show()"
   ]
  },
  {
   "cell_type": "markdown",
   "metadata": {},
   "source": [
    "- The chi-squared value we calculated was 3728.95. The highest value in the chi-squared sampling distribution was about 12. This means that our chi-squared value is higher than 100% of all the values in the sampling distribution, so we get a p-value of 0. This means that there is a 0% chance that we could get such a result randomly."
   ]
  },
  {
   "cell_type": "markdown",
   "metadata": {},
   "source": [
    "<br>\n",
    "<br>\n",
    "<br>\n",
    "\n",
    "# Third Study"
   ]
  },
  {
   "cell_type": "markdown",
   "metadata": {},
   "source": [
    "Same as before but also including income: multi-category chi-square.\n",
    "\n",
    "<img src=\"./img/gender_income_prop.png\" align=\"left\" style=\"width:350px;height:220px;\">\n",
    "<br>\n",
    "<br>\n",
    "<br>\n",
    "<br>\n",
    "<br>\n",
    "<br>\n",
    "<br>\n",
    "<br>\n",
    "<br>\n",
    "<br>\n",
    "<br>\n",
    "<br>\n",
    "\n",
    "- 20.5% of Males in the whole data set earn >50k in income.\n",
    "- 33.1% of the whole dataset is Female\n",
    "- 75.9% of the whole dataset earns <=50k.\n",
    "\n",
    "We can use our total proportions to calculate expected values. 24.1% of people earn >50k, 33.1% of people are Female, so we expect .241 * .331 = .0799771 female that earn >50k to be (observed proportion is .036)"
   ]
  },
  {
   "cell_type": "markdown",
   "metadata": {},
   "source": [
    "<br>\n",
    "\n",
    "### Q1: Calculate Chi-Square"
   ]
  },
  {
   "cell_type": "code",
   "execution_count": 17,
   "metadata": {},
   "outputs": [
    {
     "name": "stdout",
     "output_type": "stream",
     "text": [
      "Chi-Square: 1517.60, p_value: 0.00\n"
     ]
    }
   ],
   "source": [
    "from scipy.stats import chisquare\n",
    "\n",
    "males = 0.669\n",
    "females = 0.331\n",
    "over_50k =  0.241\n",
    "under_50k = 0.759\n",
    "total = 32561\n",
    "\n",
    "males_over50k = males*over_50k*total\n",
    "males_under50k = males*under_50k*total\n",
    "females_over50k = females*over_50k*total\n",
    "females_under50k = females*under_50k*total\n",
    "\n",
    "observed = np.array([6662, 15128, 1179, 9592])\n",
    "expected = np.array([males_over50k, males_under50k, females_over50k, females_under50k])\n",
    "chisq_gender_income, p_value = chisquare(observed, expected)\n",
    "\n",
    "print(\"Chi-Square: %0.2f, p_value: %0.2f\" % (chisq_gender_income, p_value))"
   ]
  },
  {
   "cell_type": "markdown",
   "metadata": {},
   "source": [
    "<br>\n",
    "\n",
    "### Q2: Look and Gender + Race, multiple categories (crosstab to visualize, chi2_contingency to compute chi-squre)"
   ]
  },
  {
   "cell_type": "markdown",
   "metadata": {},
   "source": [
    "- The crosstab function will print a table that shows frequency counts for two or more columns. "
   ]
  },
  {
   "cell_type": "code",
   "execution_count": 18,
   "metadata": {},
   "outputs": [
    {
     "name": "stdout",
     "output_type": "stream",
     "text": [
      "race      Amer-Indian-Eskimo   Asian-Pac-Islander   Black   Other   White\n",
      "sex                                                                      \n",
      " Female                  119                  346    1555     109    8642\n",
      " Male                    192                  693    1569     162   19174\n"
     ]
    }
   ],
   "source": [
    "import pandas as pd\n",
    "income = pd.read_csv('./data/income.csv')\n",
    "\n",
    "table = pd.crosstab(income[\"sex\"],[income[\"race\"]])\n",
    "print(table)"
   ]
  },
  {
   "cell_type": "markdown",
   "metadata": {},
   "source": [
    "- the scipy.stats.chi2_contingency takes in a cross table of observed counts, and returns the chi-squared value, the p-value, the degrees of freedom, and the expected frequencies. "
   ]
  },
  {
   "cell_type": "code",
   "execution_count": 20,
   "metadata": {},
   "outputs": [
    {
     "name": "stdout",
     "output_type": "stream",
     "text": [
      "Chi-Square: 454.27, p_value: 0.00\n",
      "\n",
      "Expect counts:\n",
      "[[  102.87709223   343.69549461  1033.40204539    89.64531188\n",
      "   9201.3800559 ]\n",
      " [  208.12290777   695.30450539  2090.59795461   181.35468812\n",
      "  18614.6199441 ]]\n"
     ]
    }
   ],
   "source": [
    "from scipy.stats import chi2_contingency\n",
    "\n",
    "observed = pd.crosstab(income['sex'],[income['race']])\n",
    "\n",
    "chisq_value_gender_race, pvalue_gender_race, df, expected = chi2_contingency(observed)\n",
    "\n",
    "print(\"Chi-Square: %0.2f, p_value: %0.2f\" % (chisq_value_gender_race, pvalue_gender_race))\n",
    "\n",
    "print(\"\\nExpect counts:\") \n",
    "print(expected)"
   ]
  }
 ],
 "metadata": {
  "kernelspec": {
   "display_name": "Python 3",
   "language": "python",
   "name": "python3"
  },
  "language_info": {
   "codemirror_mode": {
    "name": "ipython",
    "version": 3
   },
   "file_extension": ".py",
   "mimetype": "text/x-python",
   "name": "python",
   "nbconvert_exporter": "python",
   "pygments_lexer": "ipython3",
   "version": "3.6.6"
  }
 },
 "nbformat": 4,
 "nbformat_minor": 2
}
