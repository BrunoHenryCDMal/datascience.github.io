{
 "cells": [
  {
   "cell_type": "markdown",
   "metadata": {},
   "source": [
    "# Project: ML - Deatailed Multivariate Liner Regression, Random Forest and GradientBoosting (Predict Bike Rentals)"
   ]
  },
  {
   "cell_type": "markdown",
   "metadata": {},
   "source": [
    "<br>\n",
    "\n",
    "## Problem:\n",
    "- Predict how many people rented bikes per hour from data on: time of day, season, wind, temperature, workday, etc)\n",
    "- Regression with multivariate LinearRegression, RandomForestRegressor and GradientBoostingRegressor\n",
    "- Full analysis of LinearRegression output including Pvalues"
   ]
  },
  {
   "cell_type": "markdown",
   "metadata": {},
   "source": [
    "<br>\n",
    "\n",
    "## Tools:\n",
    "- Feature Engineering: .corr(), heatmap & RFECV\n",
    "- Models: multivariate LinearRegression, RandomForestRegressor and GradientBoostingRegressor\n",
    "- Model validation and hyperparameter search: GriSearchCV + K-fold validation and predictions\n",
    "- Error Metrics: R^2, explained variance, RMSE and MAE"
   ]
  },
  {
   "cell_type": "markdown",
   "metadata": {},
   "source": [
    "<br>\n",
    "\n",
    "### load defaults"
   ]
  },
  {
   "cell_type": "code",
   "execution_count": 2,
   "metadata": {},
   "outputs": [
    {
     "name": "stdout",
     "output_type": "stream",
     "text": [
      "Defaults Loaded\n"
     ]
    }
   ],
   "source": [
    "import numpy as np\n",
    "import pandas as pd\n",
    "import seaborn as sns\n",
    "import re\n",
    "import requests \n",
    "\n",
    "%matplotlib inline\n",
    "import matplotlib.pyplot as plt\n",
    "from matplotlib.ticker import MultipleLocator\n",
    "from matplotlib import rcParams\n",
    "import matplotlib.dates as mdates\n",
    "from datetime import datetime\n",
    "from IPython.display import display, Math\n",
    "\n",
    "from functions import *\n",
    "\n",
    "#plt.style.use('seaborn')\n",
    "plt.rcParams.update({'axes.titlepad': 20, 'font.size': 12, 'axes.titlesize':20})\n",
    "plt.rcParams.update({'xtick.direction': 'in', 'ytick.direction': 'in'})\n",
    "plt.rcParams.update({'xtick.top': 'on', 'ytick.right': 'on'})\n",
    "\n",
    "colors = [(0/255,107/255,164/255), (255/255, 128/255, 14/255), 'red', 'green', '#9E80BA', '#8EDB8E', '#58517A']\n",
    "Ncolors = 10\n",
    "color_map = plt.cm.Blues_r(np.linspace(0.2, 0.5, Ncolors))\n",
    "#color_map = plt.cm.tab20c_r(np.linspace(0.2, 0.5, Ncolors))\n",
    "\n",
    "\n",
    "#specific to this project\n",
    "import scipy.stats as stats\n",
    "import statsmodels.api as sm\n",
    "import myML_functions as myML_functions\n",
    "\n",
    "from sklearn.linear_model import LinearRegression\n",
    "from sklearn.ensemble import RandomForestRegressor, GradientBoostingRegressor\n",
    "\n",
    "from sklearn.metrics import mean_squared_error, mean_absolute_error, r2_score, explained_variance_score\n",
    "from sklearn.model_selection import cross_val_score, KFold, cross_val_predict, GridSearchCV\n",
    "\n",
    "print(\"Defaults Loaded\")"
   ]
  },
  {
   "cell_type": "markdown",
   "metadata": {},
   "source": [
    "<br>\n",
    "\n",
    "## Dataset: Bike Rentals, predict number of people renting a bike in a given hour"
   ]
  },
  {
   "cell_type": "code",
   "execution_count": 11,
   "metadata": {},
   "outputs": [
    {
     "data": {
      "text/html": [
       "<div>\n",
       "<style scoped>\n",
       "    .dataframe tbody tr th:only-of-type {\n",
       "        vertical-align: middle;\n",
       "    }\n",
       "\n",
       "    .dataframe tbody tr th {\n",
       "        vertical-align: top;\n",
       "    }\n",
       "\n",
       "    .dataframe thead th {\n",
       "        text-align: right;\n",
       "    }\n",
       "</style>\n",
       "<table border=\"1\" class=\"dataframe\">\n",
       "  <thead>\n",
       "    <tr style=\"text-align: right;\">\n",
       "      <th></th>\n",
       "      <th>instant</th>\n",
       "      <th>dteday</th>\n",
       "      <th>season</th>\n",
       "      <th>yr</th>\n",
       "      <th>mnth</th>\n",
       "      <th>hr</th>\n",
       "      <th>holiday</th>\n",
       "      <th>weekday</th>\n",
       "      <th>workingday</th>\n",
       "      <th>weathersit</th>\n",
       "      <th>temp</th>\n",
       "      <th>atemp</th>\n",
       "      <th>hum</th>\n",
       "      <th>windspeed</th>\n",
       "      <th>casual</th>\n",
       "      <th>registered</th>\n",
       "      <th>cnt</th>\n",
       "    </tr>\n",
       "  </thead>\n",
       "  <tbody>\n",
       "    <tr>\n",
       "      <th>0</th>\n",
       "      <td>1</td>\n",
       "      <td>2011-01-01</td>\n",
       "      <td>1</td>\n",
       "      <td>0</td>\n",
       "      <td>1</td>\n",
       "      <td>0</td>\n",
       "      <td>0</td>\n",
       "      <td>6</td>\n",
       "      <td>0</td>\n",
       "      <td>1</td>\n",
       "      <td>0.24</td>\n",
       "      <td>0.2879</td>\n",
       "      <td>0.81</td>\n",
       "      <td>0.0</td>\n",
       "      <td>3</td>\n",
       "      <td>13</td>\n",
       "      <td>16</td>\n",
       "    </tr>\n",
       "    <tr>\n",
       "      <th>1</th>\n",
       "      <td>2</td>\n",
       "      <td>2011-01-01</td>\n",
       "      <td>1</td>\n",
       "      <td>0</td>\n",
       "      <td>1</td>\n",
       "      <td>1</td>\n",
       "      <td>0</td>\n",
       "      <td>6</td>\n",
       "      <td>0</td>\n",
       "      <td>1</td>\n",
       "      <td>0.22</td>\n",
       "      <td>0.2727</td>\n",
       "      <td>0.80</td>\n",
       "      <td>0.0</td>\n",
       "      <td>8</td>\n",
       "      <td>32</td>\n",
       "      <td>40</td>\n",
       "    </tr>\n",
       "    <tr>\n",
       "      <th>2</th>\n",
       "      <td>3</td>\n",
       "      <td>2011-01-01</td>\n",
       "      <td>1</td>\n",
       "      <td>0</td>\n",
       "      <td>1</td>\n",
       "      <td>2</td>\n",
       "      <td>0</td>\n",
       "      <td>6</td>\n",
       "      <td>0</td>\n",
       "      <td>1</td>\n",
       "      <td>0.22</td>\n",
       "      <td>0.2727</td>\n",
       "      <td>0.80</td>\n",
       "      <td>0.0</td>\n",
       "      <td>5</td>\n",
       "      <td>27</td>\n",
       "      <td>32</td>\n",
       "    </tr>\n",
       "  </tbody>\n",
       "</table>\n",
       "</div>"
      ],
      "text/plain": [
       "   instant      dteday  season  yr  mnth  hr  holiday  weekday  workingday  \\\n",
       "0        1  2011-01-01       1   0     1   0        0        6           0   \n",
       "1        2  2011-01-01       1   0     1   1        0        6           0   \n",
       "2        3  2011-01-01       1   0     1   2        0        6           0   \n",
       "\n",
       "   weathersit  temp   atemp   hum  windspeed  casual  registered  cnt  \n",
       "0           1  0.24  0.2879  0.81        0.0       3          13   16  \n",
       "1           1  0.22  0.2727  0.80        0.0       8          32   40  \n",
       "2           1  0.22  0.2727  0.80        0.0       5          27   32  "
      ]
     },
     "metadata": {},
     "output_type": "display_data"
    },
    {
     "data": {
      "image/png": "[encoded data removed]",
      "text/plain": [
       "<Figure size 432x288 with 1 Axes>"
      ]
     },
     "metadata": {
      "needs_background": "light"
     },
     "output_type": "display_data"
    }
   ],
   "source": [
    "bike_rentals = pd.read_csv('./data/bike_rental_hour.csv')\n",
    "display(bike_rentals[:3])\n",
    "\n",
    "bike_rentals['cnt'].hist()\n",
    "plt.show()"
   ]
  },
  {
   "cell_type": "markdown",
   "metadata": {},
   "source": [
    "create new label for the hours in which bikes were rented"
   ]
  },
  {
   "cell_type": "code",
   "execution_count": 12,
   "metadata": {},
   "outputs": [],
   "source": [
    "def assign_label(hour):    \n",
    "    if((hour>=6) & (hour<12)):\n",
    "        return 1\n",
    "    elif((hour>=12) & (hour<18)):\n",
    "        return 2\n",
    "    elif((hour>=18) & (hour<24)):\n",
    "        return 3\n",
    "    elif((hour>=0) & (hour<6)):\n",
    "        return 4\n",
    "    \n",
    "bike_rentals['time_label'] = bike_rentals['hr'].apply(lambda x: assign_label(x))\n",
    "#print(bike_rentals[0:19])"
   ]
  },
  {
   "cell_type": "markdown",
   "metadata": {},
   "source": [
    "**drop leaky columns**"
   ]
  },
  {
   "cell_type": "code",
   "execution_count": 13,
   "metadata": {},
   "outputs": [],
   "source": [
    "bike_rentals.drop(['instant', 'casual', 'dteday', 'registered'], axis=1, inplace=True)\n",
    "df_clean = bike_rentals\n",
    "target = 'cnt'\n",
    "target_df = df_clean[target]"
   ]
  },
  {
   "cell_type": "markdown",
   "metadata": {},
   "source": [
    "<br>\n",
    "\n",
    "## 2 - Linear Regression model\n",
    "\n",
    "We will start our analysis by fitting a Linear Regression model and looking at a number of statsitics available for this type of model"
   ]
  },
  {
   "cell_type": "markdown",
   "metadata": {},
   "source": [
    "### 2.1 - Fit model and cross_val_predict"
   ]
  },
  {
   "cell_type": "code",
   "execution_count": 5,
   "metadata": {},
   "outputs": [
    {
     "name": "stdout",
     "output_type": "stream",
     "text": [
      "Time taken to build models: 2.00s\n"
     ]
    }
   ],
   "source": [
    "import time\n",
    "start = time.time()\n",
    "     \n",
    "columns = df_clean.columns.drop(['cnt'])\n",
    "\n",
    "kf = KFold(10, shuffle=True, random_state=1)\n",
    "\n",
    "model = LinearRegression(fit_intercept=True, normalize=False) \n",
    "predictions = cross_val_predict(model, df_clean[columns], df_clean['cnt'], cv=kf, n_jobs=-1)\n",
    "\n",
    "X = df_clean[columns]\n",
    "target_df = df_clean[target]\n",
    "model.fit(X, target_df)\n",
    "\n",
    "print(f\"Time taken to build models: {time.time() - start:0.2f}s\")"
   ]
  },
  {
   "cell_type": "markdown",
   "metadata": {},
   "source": [
    "\n",
    "### 2.2 - Plot Predictions vs target"
   ]
  },
  {
   "cell_type": "code",
   "execution_count": 6,
   "metadata": {},
   "outputs": [
    {
     "data": {
      "image/png": "[encoded data removed]",
      "text/plain": [
       "<Figure size 504x504 with 1 Axes>"
      ]
     },
     "metadata": {},
     "output_type": "display_data"
    }
   ],
   "source": [
    "fig, ax = plt.subplots(figsize=(7,7))\n",
    "lim = [0,1000]\n",
    "ax.set_xlim(lim), ax.set_ylim(lim)\n",
    "\n",
    "# Plot the perfect prediction line\n",
    "xmin, xmax = plt.xlim()\n",
    "bin = int((xmax-xmin)/10)\n",
    "ax.plot(np.arange(xmin, xmax, bin), np.arange(xmin, xmax, bin), c='k', label='perfect prediction', zorder=-1)\n",
    "\n",
    "# Create a scatter plot with train and test actual vs predictions\n",
    "\n",
    "rand_index = np.random.randint(0, high=len(predictions), size=1000).tolist()\n",
    "ax.scatter(predictions[rand_index], target_df[rand_index], alpha=0.3, label='LinearRegressionModel', \n",
    "           marker='o', s=10)\n",
    "\n",
    "for key, spine in ax.spines.items():\n",
    "    spine.set_visible(False)\n",
    "ax.tick_params(top=False, right=False)\n",
    "\n",
    "#ax.yaxis.set_major_locator(MultipleLocator(200000))    \n",
    "#ax.xaxis.set_major_locator(MultipleLocator(200000))    \n",
    "\n",
    "plt.xlabel('predictions')\n",
    "plt.ylabel('actual')\n",
    "plt.title('Linear Regression Model')\n",
    "plt.legend()\n",
    "plt.show()"
   ]
  },
  {
   "cell_type": "markdown",
   "metadata": {},
   "source": [
    "the linear regression model is particularly bad for high counts, never predicting more than ~450 when true values reach >800"
   ]
  },
  {
   "cell_type": "markdown",
   "metadata": {},
   "source": [
    "### 2.3 - Calculate Error Metrics & Check significance of individual coefficients"
   ]
  },
  {
   "cell_type": "code",
   "execution_count": 7,
   "metadata": {},
   "outputs": [
    {
     "name": "stdout",
     "output_type": "stream",
     "text": [
      "-----------------------------------------------------------------\n",
      "                Summary of Regression model stats                \n",
      "=================================================================\n",
      "RMSE:              132.30         RMSE (in % of y_mean):   69.83%\n",
      "MAE:                99.43         MAE (in % of y_mean):    52.48%\n",
      "R2:                 0.468 \n",
      "R2_score:           0.468\n",
      "Explained Var:      0.468\n",
      "=================================================================\n",
      "Features        coef   std err    t    P>|t| \n",
      "-----------------------------------------------------------------\n",
      "   constant  103.9845   7.058  14.733  0.000\n",
      "     season   20.2764   1.697  11.948  0.000\n",
      "         yr   82.6244   2.020  40.906  0.000\n",
      "       mnth   -0.3281   0.529  -0.620  0.535\n",
      "         hr    6.6052   0.155  42.536  0.000\n",
      "    holiday  -21.9687   6.246  -3.517  0.000\n",
      "    weekday    2.0670   0.505   4.097  0.000\n",
      " workingday    4.2739   2.235   1.912  0.056\n",
      " weathersit  -11.4426   1.784  -6.414  0.000\n",
      "       temp   84.6942  34.484   2.456  0.014\n",
      "      atemp  212.2490  38.741   5.479  0.000\n",
      "        hum -161.9035   6.467 -25.036  0.000\n",
      "  windspeed   18.0120   8.996   2.002  0.045\n",
      " time_label  -47.3520   0.927 -51.072  0.000\n",
      "=================================================================\n"
     ]
    }
   ],
   "source": [
    "myML_functions.regression_report(X, target_df, predictions, model)"
   ]
  },
  {
   "cell_type": "markdown",
   "metadata": {},
   "source": [
    "**similar metrics using statsmodels**"
   ]
  },
  {
   "cell_type": "code",
   "execution_count": 9,
   "metadata": {},
   "outputs": [
    {
     "name": "stdout",
     "output_type": "stream",
     "text": [
      "                            OLS Regression Results                            \n",
      "==============================================================================\n",
      "Dep. Variable:                    cnt   R-squared:                       0.469\n",
      "Model:                            OLS   Adj. R-squared:                  0.468\n",
      "Method:                 Least Squares   F-statistic:                     1179.\n",
      "Date:                Sat, 27 Apr 2019   Prob (F-statistic):               0.00\n",
      "Time:                        14:27:28   Log-Likelihood:            -1.0954e+05\n",
      "No. Observations:               17379   AIC:                         2.191e+05\n",
      "Df Residuals:                   17365   BIC:                         2.192e+05\n",
      "Df Model:                          13                                         \n",
      "Covariance Type:            nonrobust                                         \n",
      "==============================================================================\n",
      "                 coef    std err          t      P>|t|      [0.025      0.975]\n",
      "------------------------------------------------------------------------------\n",
      "const        103.9845      7.052     14.745      0.000      90.161     117.808\n",
      "season        20.2764      1.696     11.957      0.000      16.953      23.600\n",
      "yr            82.6244      2.018     40.938      0.000      78.668      86.580\n",
      "mnth          -0.3281      0.529     -0.620      0.535      -1.365       0.708\n",
      "hr             6.6052      0.155     42.569      0.000       6.301       6.909\n",
      "holiday      -21.9687      6.241     -3.520      0.000     -34.203      -9.735\n",
      "weekday        2.0670      0.504      4.100      0.000       1.079       3.055\n",
      "workingday     4.2739      2.234      1.913      0.056      -0.104       8.652\n",
      "weathersit   -11.4426      1.783     -6.419      0.000     -14.937      -7.948\n",
      "temp          84.6942     34.457      2.458      0.014      17.154     152.234\n",
      "atemp        212.2490     38.711      5.483      0.000     136.372     288.126\n",
      "hum         -161.9035      6.462    -25.056      0.000    -174.569    -149.238\n",
      "windspeed     18.0120      8.989      2.004      0.045       0.393      35.631\n",
      "time_label   -47.3520      0.926    -51.112      0.000     -49.168     -45.536\n",
      "==============================================================================\n",
      "Omnibus:                     3439.818   Durbin-Watson:                   0.674\n",
      "Prob(Omnibus):                  0.000   Jarque-Bera (JB):             6950.348\n",
      "Skew:                           1.185   Prob(JB):                         0.00\n",
      "Kurtosis:                       4.995   Cond. No.                         795.\n",
      "==============================================================================\n",
      "\n",
      "Warnings:\n",
      "[1] Standard Errors assume that the covariance matrix of the errors is correctly specified.\n"
     ]
    },
    {
     "name": "stderr",
     "output_type": "stream",
     "text": [
      "/home/brunohe/.local/lib/python3.6/site-packages/numpy/core/fromnumeric.py:2389: FutureWarning: Method .ptp is deprecated and will be removed in a future version. Use numpy.ptp instead.\n",
      "  return ptp(axis=axis, out=out, **kwargs)\n"
     ]
    }
   ],
   "source": [
    "newX = sm.add_constant(X) \n",
    "linear = sm.OLS(target_df, newX)\n",
    "linearfit = linear.fit()\n",
    "print(linearfit.summary())"
   ]
  },
  {
   "cell_type": "markdown",
   "metadata": {},
   "source": [
    "- **t statistic**: is the coefficient divided by its standard deviation (precision of the regression coefficient measurement). This is then compared with values in the Student's t distribution to determine the P value. The Student's t distribution describes how the mean of a sample with a certain number of observations is expected to behave.\n",
    "\n",
    "- **p-value**: If 95% of the t distribution is closer to the mean than the t-value on the coefficient, then P-value = 5%. The P value is the probability of seeing a t value equally large in a collection of random data in which the variable had no effect (95% probability of variable having some effect, assuming model is specified correctly).\n",
    "\n",
    "- **P-value for the entire correlation**: Because independent variables may be correlated, a condition known as multicollinearity, the coefficients on individual variables may be insignificant when the regression as a whole is significant. Intuitively, this is because highly correlated independent variables are explaining the same part of the variation in the dependent variable, so their explanatory power and the significance of their coefficients is \"divided up\" between them.\n",
    "\n",
    "- **95% confidence interval**: If a value of 0 for the coefficient is not in the confidence interval, there is a 95% probability of the coefficeint being non zero: P value <= .05.\n",
    "\n",
    "- the size of the P-value for a coefficient says nothing about the size of the effect that variable is having on a dependent variable - it is possible to have a highly significant result (very small P-value) for a miniscule effect.\n",
    "\n",
    "- **Coefficients**: the size of coefficients for each independent variable gives the size of the effect that the variable is having on the dependent variable, and the sign gives the direction of the effect. The coefficient represents how much the dependent variable is expected to increase when that independent variable increases by one, holding all the other independent variables constant. \n",
    "\n",
    "- **R-Squared and overall significance of the regression**: fraction of the variation in the dependent variable that is accounted for by the independent variables (in univariate regression is the same as the square of the correlation between the dependent and independent variables). The R-squared is only critical when the main concern is to make accurate predictions. "
   ]
  },
  {
   "cell_type": "markdown",
   "metadata": {},
   "source": [
    "<br>\n",
    "\n",
    "### 2.4 - Remove coefficients with high pvalues"
   ]
  },
  {
   "cell_type": "code",
   "execution_count": 10,
   "metadata": {},
   "outputs": [
    {
     "name": "stdout",
     "output_type": "stream",
     "text": [
      "-----------------------------------------------------------------\n",
      "                Summary of Regression model stats                \n",
      "=================================================================\n",
      "RMSE:              132.33         RMSE (in % of y_mean):   69.85%\n",
      "MAE:                99.32         MAE (in % of y_mean):    52.42%\n",
      "R2:                 0.468 \n",
      "R2_score:           0.468\n",
      "Explained Var:      0.468\n",
      "=================================================================\n",
      "Features        coef   std err    t    P>|t| \n",
      "-----------------------------------------------------------------\n",
      "   constant  110.5502  6.161  17.945  0.0\n",
      "     season   19.2449  0.974  19.750  0.0\n",
      "         yr   82.4797  2.019  40.857  0.0\n",
      "         hr    6.6133  0.155  42.655  0.0\n",
      "    holiday  -24.7211  6.043  -4.091  0.0\n",
      "    weekday    2.1189  0.504   4.205  0.0\n",
      " weathersit  -10.4547  1.762  -5.934  0.0\n",
      "      atemp  306.4619  6.281  48.791  0.0\n",
      "        hum -167.9148  6.179 -27.176  0.0\n",
      " time_label  -47.4545  0.926 -51.249  0.0\n",
      "=================================================================\n",
      "Time taken to build models: 1.68s\n"
     ]
    }
   ],
   "source": [
    "import time\n",
    "start = time.time()\n",
    "     \n",
    "columns = df_clean.columns.drop(['cnt', 'mnth', 'workingday', 'windspeed', 'temp'])\n",
    "\n",
    "kf = KFold(10, shuffle=True, random_state=1)\n",
    "\n",
    "model = LinearRegression(fit_intercept=True, normalize=False) \n",
    "predictions = cross_val_predict(model, df_clean[columns], df_clean['cnt'], cv=kf, n_jobs=-1)\n",
    "\n",
    "X = df_clean[columns]\n",
    "target_df = df_clean['cnt']\n",
    "model.fit(X, target_df)\n",
    "\n",
    "myML_functions.regression_report(X, target_df, predictions, model)\n",
    "print(f\"Time taken to build models: {time.time() - start:0.2f}s\")"
   ]
  },
  {
   "cell_type": "markdown",
   "metadata": {},
   "source": [
    "no improvement on metrics"
   ]
  },
  {
   "cell_type": "markdown",
   "metadata": {},
   "source": [
    "<br>\n",
    "\n",
    "## 3 - Feature Selection"
   ]
  },
  {
   "cell_type": "markdown",
   "metadata": {},
   "source": [
    "### 3.1 Feature Selection with .corr() & Heatmap"
   ]
  },
  {
   "cell_type": "code",
   "execution_count": 11,
   "metadata": {},
   "outputs": [
    {
     "name": "stdout",
     "output_type": "stream",
     "text": [
      "['cnt', 'temp', 'atemp', 'hr', 'time_label', 'hum', 'yr']\n",
      "cnt           1.000000\n",
      "temp          0.404772\n",
      "atemp         0.400929\n",
      "hr            0.394071\n",
      "time_label    0.378318\n",
      "hum           0.322911\n",
      "yr            0.250495\n",
      "Name: cnt, dtype: float64\n"
     ]
    },
    {
     "data": {
      "image/png": "[encoded data removed]",
      "text/plain": [
       "<Figure size 720x432 with 2 Axes>"
      ]
     },
     "metadata": {},
     "output_type": "display_data"
    }
   ],
   "source": [
    "num_cols = df_clean.select_dtypes(include=['int64','float64']).columns  \n",
    "corrmat = df_clean[num_cols].corr()\n",
    "sorted_corrs = corrmat[target].abs().sort_values(ascending=False)\n",
    "strong_corrs = sorted_corrs[sorted_corrs>0.25].index.tolist()\n",
    "print(strong_corrs)\n",
    "print(sorted_corrs[sorted_corrs>0.25])\n",
    "\n",
    "plt.figure(figsize=(10,6))\n",
    "sns.heatmap(df_clean[strong_corrs].corr().abs())\n",
    "plt.show()"
   ]
  },
  {
   "cell_type": "code",
   "execution_count": 12,
   "metadata": {},
   "outputs": [],
   "source": [
    "selected_features_manual = ['temp', 'atemp', 'hr', 'time_label', 'hum', 'yr']"
   ]
  },
  {
   "cell_type": "markdown",
   "metadata": {},
   "source": [
    "<br>\n",
    "\n",
    "### 3.2 - Feature selection with RFECV"
   ]
  },
  {
   "cell_type": "code",
   "execution_count": 15,
   "metadata": {},
   "outputs": [
    {
     "name": "stdout",
     "output_type": "stream",
     "text": [
      "Best Columns, LinearRegression model: ['season', 'yr', 'hr', 'holiday', 'weekday', 'workingday', 'weathersit', 'temp', 'atemp', 'hum', 'windspeed', 'time_label']\n",
      "\n",
      "----------------------------------------------------\n",
      "\n",
      "Best Columns, RandomForestRegressor model: ['season', 'yr', 'mnth', 'hr', 'weekday', 'workingday', 'weathersit', 'temp', 'atemp', 'hum']\n",
      "\n",
      "----------------------------------------------------\n",
      "\n",
      "Best Columns, GradientBoostingRegressor model: ['yr', 'hr', 'temp']\n",
      "\n",
      "----------------------------------------------------\n",
      "\n"
     ]
    }
   ],
   "source": [
    "from importlib import reload\n",
    "reload(myML_functions)\n",
    "\n",
    "model=LinearRegression()\n",
    "optimized_columns_LR = myML_functions.select_features_RFECV(df_clean, target, model)\n",
    "\n",
    "model = RandomForestRegressor(n_estimators=50, random_state=1, min_samples_leaf=2, n_jobs=-1)    \n",
    "optimized_columns_RFR = myML_functions.select_features_RFECV(df_clean, target, model)\n",
    "\n",
    "model = GradientBoostingRegressor(learning_rate=0.01, n_estimators=50,subsample=0.6,random_state=42)\n",
    "optimized_columns_GBR = myML_functions.select_features_RFECV(df_clean, target, model)"
   ]
  },
  {
   "cell_type": "markdown",
   "metadata": {},
   "source": [
    "<br>\n",
    "\n",
    "## 4 - Model Selection with GridSearchCV"
   ]
  },
  {
   "cell_type": "code",
   "execution_count": 17,
   "metadata": {},
   "outputs": [
    {
     "name": "stdout",
     "output_type": "stream",
     "text": [
      "LinearRegression\n",
      "----------------\n",
      "Explained Variance: 0.271\n",
      "R2: 0.249\n",
      "RMSE: 134.948\n",
      "Best Parameters: {'fit_intercept': True, 'normalize': False}\n",
      "Best Score: 0.249\n",
      "\n",
      "Time elapsed: 0.01 mins\n",
      "\n",
      "\n",
      "RandomForestRegressor_1\n",
      "-----------------------\n",
      "Explained Variance: 0.815\n",
      "R2: 0.783\n",
      "RMSE: 65.744\n",
      "Best Parameters: {'criterion': 'mse', 'max_depth': 10, 'max_features': 'auto', 'min_samples_leaf': 1, 'min_samples_split': 2, 'n_estimators': 20}\n",
      "Best Score: 0.783\n",
      "\n",
      "Time elapsed: 1393.07 mins\n",
      "\n",
      "\n",
      "RandomForestRegressor_2\n",
      "-----------------------\n",
      "Explained Variance: 0.646\n",
      "R2: 0.579\n",
      "RMSE: 96.632\n",
      "Best Parameters: {'criterion': 'mae', 'max_depth': 10, 'max_features': 'auto', 'min_samples_leaf': 8, 'min_samples_split': 2, 'n_estimators': 20}\n",
      "Best Score: 0.579\n",
      "\n",
      "Time elapsed: 960.85 mins\n",
      "\n",
      "\n",
      "GradientBoostingRegressor\n",
      "-------------------------\n",
      "Explained Variance: 0.641\n",
      "R2: 0.602\n",
      "RMSE: 97.222\n",
      "Best Parameters: {'learning_rate': 0.1, 'max_features': 'auto', 'n_estimators': 100, 'random_state': 1, 'subsample': 0.5}\n",
      "Best Score: 0.602\n",
      "\n",
      "Time elapsed: 1.34 mins\n",
      "\n",
      "\n",
      "model selection finished\n"
     ]
    }
   ],
   "source": [
    "import time\n",
    "                  \n",
    "models_to_fit = {'LinearRegression': ['LinearRegression', optimized_columns_LR],                    \n",
    "                 'RandomForestRegressor_1': ['RandomForestRegressor', optimized_columns_RFR],\n",
    "                 'RandomForestRegressor_2': ['RandomForestRegressor', selected_features_manual],\n",
    "                 'GradientBoostingRegressor': ['GradientBoostingRegressor', optimized_columns_GBR]}\n",
    "\n",
    "#print(int(len(df_clean)/10.))\n",
    "model_dicts = myML_functions.select_model_GridSearchCV(df_clean[:int(len(df_clean))],target,models_to_fit)\n",
    "\n",
    "print(\"model selection finished\")"
   ]
  },
  {
   "cell_type": "markdown",
   "metadata": {},
   "source": [
    "<br>\n",
    "\n",
    "## 5 - Cross_Val Predictions for best models (RandomForest & GradientBoosting)"
   ]
  },
  {
   "cell_type": "code",
   "execution_count": 6,
   "metadata": {},
   "outputs": [],
   "source": [
    "optimized_columns_RFR = ['season', 'yr', 'mnth', 'hr', 'weekday', 'workingday', 'weathersit', 'temp', 'atemp', 'hum']\n",
    "optimized_columns_GBR = ['yr', 'hr', 'temp']"
   ]
  },
  {
   "cell_type": "code",
   "execution_count": 7,
   "metadata": {},
   "outputs": [
    {
     "name": "stdout",
     "output_type": "stream",
     "text": [
      "Time taken to build models: 6.49 mins\n"
     ]
    }
   ],
   "source": [
    "import time\n",
    "start = time.time()\n",
    "     \n",
    "kf = KFold(10, shuffle=True, random_state=1)\n",
    "\n",
    "best_model = {'criterion': 'mae', 'max_depth': 10, 'max_features': 'auto', 'min_samples_leaf': 1, \n",
    "              'min_samples_split': 2, 'n_estimators': 20, 'n_jobs': -1}\n",
    "model = RandomForestRegressor()\n",
    "model.set_params(**best_model)  \n",
    "pred_1 = cross_val_predict(model, df_clean[optimized_columns_RFR], df_clean[target], cv=kf, n_jobs=-1)\n",
    "\n",
    "best_model = {'learning_rate': 0.1, 'max_features': 'auto', 'n_estimators': 100, 'random_state': 1,\n",
    "              'subsample': 0.5}\n",
    "model = GradientBoostingRegressor()\n",
    "model.set_params(**best_model)  \n",
    "pred_2 = cross_val_predict(model, df_clean[optimized_columns_GBR], df_clean[target], cv=kf, n_jobs=-1)\n",
    "\n",
    "print(f\"Time taken to build models: {(time.time() - start)/60.:0.2f} mins\")"
   ]
  },
  {
   "cell_type": "code",
   "execution_count": 14,
   "metadata": {},
   "outputs": [
    {
     "data": {
      "image/png": "[encoded data removed]",
      "text/plain": [
       "<Figure size 504x504 with 1 Axes>"
      ]
     },
     "metadata": {
      "needs_background": "light"
     },
     "output_type": "display_data"
    }
   ],
   "source": [
    "fig, ax = plt.subplots(figsize=(7,7))\n",
    "lim = [0,1000]\n",
    "ax.set_xlim(lim), ax.set_ylim(lim)\n",
    "\n",
    "# Plot the perfect prediction line\n",
    "xmin, xmax = ax.get_xlim()\n",
    "bin = int((xmax-xmin)/100)\n",
    "ax.plot(np.arange(xmin, xmax, bin), np.arange(xmin, xmax, bin), c='k', label='perfect prediction', zorder=-1)\n",
    "\n",
    "# Create a scatter plot with train and test actual vs predictions\n",
    "rand_index = np.random.randint(0, high=len(pred_1), size=1000).tolist()\n",
    "ax.scatter(pred_1[rand_index], target_df[rand_index], alpha=0.3, label='RandomForestReg', marker='o', s=10)\n",
    "ax.scatter(pred_2[rand_index], target_df[rand_index], alpha=0.3, label='GradientBoostingReg', marker='o',s=10)\n",
    "\n",
    "for key, spine in ax.spines.items():\n",
    "    spine.set_visible(False)\n",
    "ax.tick_params(top=False, right=False)\n",
    "\n",
    "ax.yaxis.set_major_locator(MultipleLocator(200000))    \n",
    "ax.xaxis.set_major_locator(MultipleLocator(200000))    \n",
    "\n",
    "plt.xlabel('predictions')\n",
    "plt.ylabel('actual')\n",
    "plt.title('Predictions for best models')\n",
    "plt.legend()\n",
    "plt.show()"
   ]
  }
 ],
 "metadata": {
  "kernelspec": {
   "display_name": "Python 3",
   "language": "python",
   "name": "python3"
  },
  "language_info": {
   "codemirror_mode": {
    "name": "ipython",
    "version": 3
   },
   "file_extension": ".py",
   "mimetype": "text/x-python",
   "name": "python",
   "nbconvert_exporter": "python",
   "pygments_lexer": "ipython3",
   "version": "3.7.3"
  }
 },
 "nbformat": 4,
 "nbformat_minor": 1
}
