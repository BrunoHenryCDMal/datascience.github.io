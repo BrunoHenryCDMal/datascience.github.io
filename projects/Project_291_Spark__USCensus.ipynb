{
 "cells": [
  {
   "cell_type": "markdown",
   "metadata": {},
   "source": [
    "# Project: Spark (USCensus)"
   ]
  },
  {
   "cell_type": "markdown",
   "metadata": {},
   "source": [
    "<br>\n",
    "\n",
    "## Questions to address:\n",
    "- "
   ]
  },
  {
   "cell_type": "markdown",
   "metadata": {},
   "source": [
    "<br>\n",
    "\n",
    "## Tools:\n",
    "- "
   ]
  },
  {
   "cell_type": "markdown",
   "metadata": {},
   "source": [
    "<br>\n",
    "\n",
    "### load defaults"
   ]
  },
  {
   "cell_type": "code",
   "execution_count": 1,
   "metadata": {},
   "outputs": [
    {
     "name": "stdout",
     "output_type": "stream",
     "text": [
      "Defaults Loaded\n"
     ]
    }
   ],
   "source": [
    "import numpy as np\n",
    "import pandas as pd\n",
    "import seaborn as sns\n",
    "import re\n",
    "import requests \n",
    "\n",
    "%matplotlib inline\n",
    "import matplotlib.pyplot as plt\n",
    "from matplotlib.ticker import MultipleLocator\n",
    "from matplotlib import rcParams\n",
    "import matplotlib.dates as mdates\n",
    "from datetime import datetime\n",
    "from IPython.display import display, Math\n",
    "\n",
    "from functions import *\n",
    "\n",
    "plt.rcParams.update({'axes.titlepad': 20, 'font.size': 12, 'axes.titlesize':20})\n",
    "\n",
    "colors = [(0/255,107/255,164/255), (255/255, 128/255, 14/255), 'red', 'green', '#9E80BA', '#8EDB8E', '#58517A']\n",
    "Ncolors = 10\n",
    "color_map = plt.cm.Blues_r(np.linspace(0.2, 0.5, Ncolors))\n",
    "#color_map = plt.cm.tab20c_r(np.linspace(0.2, 0.5, Ncolors))\n",
    "\n",
    "\n",
    "#specific to this project\n",
    "import pyspark\n",
    "from pyspark.sql import SQLContext\n",
    "\n",
    "print(\"Defaults Loaded\")"
   ]
  },
  {
   "cell_type": "code",
   "execution_count": 4,
   "metadata": {},
   "outputs": [
    {
     "name": "stdout",
     "output_type": "stream",
     "text": [
      "['census1980', 'census1990', 'census2000', 'census2010']\n"
     ]
    }
   ],
   "source": [
    "sc.stop()\n",
    "sc = pyspark.SparkContext()\n",
    "sqlContext = SQLContext(sc)\n",
    "\n",
    "df = sqlContext.read.json(\"./data/census_2010.json\")\n",
    "df.registerTempTable('census2010')\n",
    "df = sqlContext.read.json('./data/census_1980.json')\n",
    "df.registerTempTable('census1980')\n",
    "df = sqlContext.read.json('./data/census_1990.json')\n",
    "df.registerTempTable('census1990')\n",
    "df = sqlContext.read.json('./data/census_2000.json')\n",
    "df.registerTempTable('census2000')\n",
    "\n",
    "tables = sqlContext.tableNames()\n",
    "print(tables)"
   ]
  },
  {
   "cell_type": "code",
   "execution_count": 6,
   "metadata": {},
   "outputs": [
    {
     "name": "stdout",
     "output_type": "stream",
     "text": [
      "+---+-------+-------+-------+----+\n",
      "|age|females|  males|  total|year|\n",
      "+---+-------+-------+-------+----+\n",
      "|  0|1994141|2085528|4079669|2010|\n",
      "|  1|1997991|2087350|4085341|2010|\n",
      "|  2|2000746|2088549|4089295|2010|\n",
      "|  3|2002756|2089465|4092221|2010|\n",
      "|  4|2004366|2090436|4094802|2010|\n",
      "+---+-------+-------+-------+----+\n",
      "only showing top 5 rows\n",
      "\n"
     ]
    }
   ],
   "source": [
    "query = 'select * from census2010'\n",
    "df = sqlContext.sql(query)\n",
    "df.show(5)"
   ]
  },
  {
   "cell_type": "code",
   "execution_count": 5,
   "metadata": {},
   "outputs": [
    {
     "name": "stdout",
     "output_type": "stream",
     "text": [
      "+-------+------------------+-----------------+\n",
      "|summary|             males|          females|\n",
      "+-------+------------------+-----------------+\n",
      "|  count|               101|              101|\n",
      "|   mean|1520095.3168316833|1571460.287128713|\n",
      "| stddev|  818587.208016823|748671.0493484351|\n",
      "|    min|              4612|            25673|\n",
      "|    max|           2285990|          2331572|\n",
      "+-------+------------------+-----------------+\n",
      "\n"
     ]
    }
   ],
   "source": [
    "query = 'select males, females from census2010'\n",
    "df = sqlContext.sql(query)\n",
    "df.describe().show()"
   ]
  },
  {
   "cell_type": "code",
   "execution_count": 32,
   "metadata": {},
   "outputs": [
    {
     "name": "stdout",
     "output_type": "stream",
     "text": [
      "+---+----------+----------+----------+----------+\n",
      "|age|total_2010|total_2000|total_1990|total_1980|\n",
      "+---+----------+----------+----------+----------+\n",
      "|  0|   4079669|   3733034|   3857376|   3438584|\n",
      "|  1|   4085341|   3825896|   3854707|   3367035|\n",
      "+---+----------+----------+----------+----------+\n",
      "only showing top 2 rows\n",
      "\n"
     ]
    }
   ],
   "source": [
    "query = \"\"\"select c1.age, \n",
    "                  c1.total as total_2010, \n",
    "                  c2.total  as total_2000,\n",
    "                  c3.total  as total_1990,\n",
    "                  c4.total  as total_1980\n",
    "             from census2010 c1 \n",
    "       inner join census2000 c2 on c1.age=c2.age\n",
    "       inner join census1990 c3 on c1.age=c3.age\n",
    "       inner join census1980 c4 on c1.age=c4.age\n",
    "       \"\"\"\n",
    "df = sqlContext.sql(query)\n",
    "df.show(2)"
   ]
  },
  {
   "cell_type": "code",
   "execution_count": 48,
   "metadata": {},
   "outputs": [
    {
     "data": {
      "image/png": "[encoded data removed]",
      "text/plain": [
       "<Figure size 504x504 with 1 Axes>"
      ]
     },
     "metadata": {
      "needs_background": "light"
     },
     "output_type": "display_data"
    }
   ],
   "source": [
    "pandas_df = df.toPandas()\n",
    "sns.set_style() \n",
    "\n",
    "plt_color=['blue', 'green', 'orange', 'red']\n",
    "\n",
    "fig, ax = plt.subplots(figsize=(7,7))\n",
    "ax.plot(pandas_df['age'], pandas_df['total_1980'], label='1980', color=plt_color[0])\n",
    "ax.plot(pandas_df['age'], pandas_df['total_1990'], label='1990', color=plt_color[1])\n",
    "ax.plot(pandas_df['age'], pandas_df['total_2000'], label='2000', color=plt_color[2])\n",
    "ax.plot(pandas_df['age'], pandas_df['total_2010'], label='2010', color=plt_color[3])\n",
    "\n",
    "ax.set_xlabel('Age'), ax.set_ylabel('Number of People')\n",
    "ax.spines['right'].set_visible(False)\n",
    "ax.spines['top'].set_visible(False)\n",
    "\n",
    "mean_Age = sum(pandas_df['total_1980']*pandas_df['age'])/sum(pandas_df['total_1980'])\n",
    "ax.axvline(mean_Age, alpha=0.3, color=plt_color[0])\n",
    "mean_Age = sum(pandas_df['total_1990']*pandas_df['age'])/sum(pandas_df['total_1980'])\n",
    "ax.axvline(mean_Age, alpha=0.3, color=plt_color[1])\n",
    "mean_Age = sum(pandas_df['total_2000']*pandas_df['age'])/sum(pandas_df['total_1980'])\n",
    "ax.axvline(mean_Age, alpha=0.3, color=plt_color[2])\n",
    "mean_Age = sum(pandas_df['total_2010']*pandas_df['age'])/sum(pandas_df['total_1980'])\n",
    "ax.axvline(mean_Age, alpha=0.3, color=plt_color[3])\n",
    "\n",
    "plt.legend()\n",
    "plt.show()"
   ]
  },
  {
   "cell_type": "code",
   "execution_count": 50,
   "metadata": {},
   "outputs": [
    {
     "name": "stdout",
     "output_type": "stream",
     "text": [
      "+----------+----------+----------+----------+\n",
      "|total_2010|total_2000|total_1990|total_1980|\n",
      "+----------+----------+----------+----------+\n",
      "| 312247116| 284594395| 254506647| 230176361|\n",
      "+----------+----------+----------+----------+\n",
      "\n"
     ]
    }
   ],
   "source": [
    "query=\"\"\"select sum(c1.total) as total_2010, \n",
    "                sum(c2.total) as total_2000, \n",
    "                sum(c3.total) as total_1990,\n",
    "                sum(c4.total) as total_1980\n",
    "           from census2010 c1\n",
    "     inner join census2000 c2 on c2.age=c1.age\n",
    "     inner join census1990 c3 on c3.age=c1.age\n",
    "     inner join census1980 c4 on c4.age=c1.age\"\"\"\n",
    "df = sqlContext.sql(query)\n",
    "df.show()"
   ]
  },
  {
   "cell_type": "code",
   "execution_count": 53,
   "metadata": {},
   "outputs": [
    {
     "data": {
      "image/png": "[encoded data removed]",
      "text/plain": [
       "<Figure size 504x504 with 1 Axes>"
      ]
     },
     "metadata": {
      "needs_background": "light"
     },
     "output_type": "display_data"
    }
   ],
   "source": [
    "pandas_df = df.toPandas()\n",
    "sns.set_style() \n",
    "\n",
    "ylim=[0,400]\n",
    "\n",
    "year = np.array([1980, 1990, 2000, 2010])\n",
    "pop = np.array([pandas_df['total_1980'], pandas_df['total_1990'], \n",
    "                pandas_df['total_2000'], pandas_df['total_2010']])\n",
    "\n",
    "fig, ax = plt.subplots(figsize=(7,7))\n",
    "ax.plot(year, pop/1e6, label='pop evo')\n",
    "\n",
    "ax.set_xlabel('Year'), ax.set_ylabel('Millions of People')\n",
    "ax.spines['right'].set_visible(False)\n",
    "ax.spines['top'].set_visible(False)\n",
    "\n",
    "ax.set_ylim(ylim)\n",
    "\n",
    "plt.legend()\n",
    "plt.show()"
   ]
  },
  {
   "cell_type": "code",
   "execution_count": null,
   "metadata": {},
   "outputs": [],
   "source": []
  }
 ],
 "metadata": {
  "kernelspec": {
   "display_name": "Python 3",
   "language": "python",
   "name": "python3"
  },
  "language_info": {
   "codemirror_mode": {
    "name": "ipython",
    "version": 3
   },
   "file_extension": ".py",
   "mimetype": "text/x-python",
   "name": "python",
   "nbconvert_exporter": "python",
   "pygments_lexer": "ipython3",
   "version": "3.6.6"
  }
 },
 "nbformat": 4,
 "nbformat_minor": 2
}
