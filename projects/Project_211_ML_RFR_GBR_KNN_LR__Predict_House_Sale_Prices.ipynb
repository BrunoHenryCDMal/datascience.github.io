{
 "cells": [
  {
   "cell_type": "markdown",
   "metadata": {},
   "source": [
    "# Project: ML - RFR, GBR, KNN, MultivariateLR (Predict House Sale Prices)"
   ]
  },
  {
   "cell_type": "markdown",
   "metadata": {},
   "source": [
    "<br>\n",
    "\n",
    "## Problem:\n",
    "- Predict house prices from data on house properties: Overall Qual, Gr Liv Area, Garage Area, Age, TotRms AbvGrd, etc)\n",
    "- Regression using RandomForestRegressor, GradientBoostingRegressor, multivariate LinearRegression and KNN"
   ]
  },
  {
   "cell_type": "markdown",
   "metadata": {},
   "source": [
    "<br>\n",
    "\n",
    "## Tools:\n",
    "\n",
    "- Feature Preparation, Selection and Engineering\n",
    "  - transforming and processing:\n",
    "    - drop leaky columns\n",
    "    - HMD: remove columns with more than 25% missing values + inputation\n",
    "    - combine some features into new ones\n",
    "    - Categorical features\n",
    "      - transform numerical to categorical (for those where numbers have no meaning)\n",
    "      - identify text columns to make categorical:\n",
    "        - only those with only a few unique values\n",
    "        - remove low varianve columns (more than 95% of the values are the same)      \n",
    "      - deal with NaNs, then dummy code       \n",
    "  - selection: heatmap, SelectKBest & RFECV\n",
    "- Models: KNN (algorithm = auto, p = 2), Multivariate LR with Ordinary Least Squares coded direcly  \n",
    "- Model validation and hyperparameter search: GriSearchCV + K-fold validation and predictions\n",
    "  -  bias versus variance on different number of Kfolds in cross validation for KNN model\n",
    "  - holdout validation manually coded for Ordinary Least Squares manually coded\n",
    "- Error Metrics: R^2, explained variance and RMSE"
   ]
  },
  {
   "cell_type": "markdown",
   "metadata": {},
   "source": [
    "<br>\n",
    "\n",
    "### load defaults"
   ]
  },
  {
   "cell_type": "code",
   "execution_count": 28,
   "metadata": {},
   "outputs": [
    {
     "name": "stdout",
     "output_type": "stream",
     "text": [
      "Defaults Loaded\n"
     ]
    }
   ],
   "source": [
    "import numpy as np\n",
    "import pandas as pd\n",
    "import seaborn as sns\n",
    "import re\n",
    "import requests \n",
    "\n",
    "%matplotlib inline\n",
    "import matplotlib.pyplot as plt\n",
    "from matplotlib.ticker import MultipleLocator\n",
    "from matplotlib import rcParams\n",
    "import matplotlib.dates as mdates\n",
    "from datetime import datetime\n",
    "from IPython.display import display, Math\n",
    "\n",
    "from functions import *\n",
    "\n",
    "plt.rcParams.update({'axes.titlepad': 20, 'font.size': 12, 'axes.titlesize':20})\n",
    "plt.rcParams.update({'xtick.direction': 'in', 'ytick.direction': 'in'})\n",
    "plt.rcParams.update({'xtick.top': 'on', 'ytick.right': 'on'})\n",
    "\n",
    "colors = [(0/255,107/255,164/255), (255/255, 128/255, 14/255), 'red', 'green', '#9E80BA', '#8EDB8E', '#58517A']\n",
    "Ncolors = 10\n",
    "color_map = plt.cm.Blues_r(np.linspace(0.2, 0.5, Ncolors))\n",
    "#color_map = plt.cm.tab20c_r(np.linspace(0.2, 0.5, Ncolors))\n",
    "\n",
    "\n",
    "#specific to this project\n",
    "from sklearn.feature_selection import SelectKBest, f_regression, RFECV\n",
    "\n",
    "from sklearn.neighbors import KNeighborsRegressor\n",
    "from sklearn.linear_model import LinearRegression\n",
    "from sklearn.ensemble import RandomForestRegressor, GradientBoostingRegressor\n",
    "\n",
    "from sklearn.metrics import mean_squared_error, r2_score\n",
    "from sklearn.model_selection import cross_val_score, KFold, cross_val_predict, GridSearchCV\n",
    "\n",
    "print(\"Defaults Loaded\")"
   ]
  },
  {
   "cell_type": "markdown",
   "metadata": {},
   "source": [
    "<br>\n",
    "\n",
    "## Dataset: House properties and price"
   ]
  },
  {
   "cell_type": "code",
   "execution_count": 2,
   "metadata": {},
   "outputs": [
    {
     "data": {
      "text/html": [
       "<div>\n",
       "<style scoped>\n",
       "    .dataframe tbody tr th:only-of-type {\n",
       "        vertical-align: middle;\n",
       "    }\n",
       "\n",
       "    .dataframe tbody tr th {\n",
       "        vertical-align: top;\n",
       "    }\n",
       "\n",
       "    .dataframe thead th {\n",
       "        text-align: right;\n",
       "    }\n",
       "</style>\n",
       "<table border=\"1\" class=\"dataframe\">\n",
       "  <thead>\n",
       "    <tr style=\"text-align: right;\">\n",
       "      <th></th>\n",
       "      <th>Order</th>\n",
       "      <th>PID</th>\n",
       "      <th>MS SubClass</th>\n",
       "      <th>MS Zoning</th>\n",
       "      <th>Lot Frontage</th>\n",
       "      <th>Lot Area</th>\n",
       "      <th>Street</th>\n",
       "      <th>Alley</th>\n",
       "      <th>Lot Shape</th>\n",
       "      <th>Land Contour</th>\n",
       "      <th>Utilities</th>\n",
       "      <th>Lot Config</th>\n",
       "      <th>Land Slope</th>\n",
       "      <th>SalePrice</th>\n",
       "    </tr>\n",
       "  </thead>\n",
       "  <tbody>\n",
       "    <tr>\n",
       "      <th>0</th>\n",
       "      <td>1</td>\n",
       "      <td>526301100</td>\n",
       "      <td>20</td>\n",
       "      <td>RL</td>\n",
       "      <td>141.0</td>\n",
       "      <td>31770</td>\n",
       "      <td>Pave</td>\n",
       "      <td>NaN</td>\n",
       "      <td>IR1</td>\n",
       "      <td>Lvl</td>\n",
       "      <td>AllPub</td>\n",
       "      <td>Corner</td>\n",
       "      <td>Gtl</td>\n",
       "      <td>215000</td>\n",
       "    </tr>\n",
       "    <tr>\n",
       "      <th>1</th>\n",
       "      <td>2</td>\n",
       "      <td>526350040</td>\n",
       "      <td>20</td>\n",
       "      <td>RH</td>\n",
       "      <td>80.0</td>\n",
       "      <td>11622</td>\n",
       "      <td>Pave</td>\n",
       "      <td>NaN</td>\n",
       "      <td>Reg</td>\n",
       "      <td>Lvl</td>\n",
       "      <td>AllPub</td>\n",
       "      <td>Inside</td>\n",
       "      <td>Gtl</td>\n",
       "      <td>105000</td>\n",
       "    </tr>\n",
       "    <tr>\n",
       "      <th>2</th>\n",
       "      <td>3</td>\n",
       "      <td>526351010</td>\n",
       "      <td>20</td>\n",
       "      <td>RL</td>\n",
       "      <td>81.0</td>\n",
       "      <td>14267</td>\n",
       "      <td>Pave</td>\n",
       "      <td>NaN</td>\n",
       "      <td>IR1</td>\n",
       "      <td>Lvl</td>\n",
       "      <td>AllPub</td>\n",
       "      <td>Corner</td>\n",
       "      <td>Gtl</td>\n",
       "      <td>172000</td>\n",
       "    </tr>\n",
       "  </tbody>\n",
       "</table>\n",
       "</div>"
      ],
      "text/plain": [
       "   Order        PID  MS SubClass MS Zoning  Lot Frontage  Lot Area Street  \\\n",
       "0      1  526301100           20        RL         141.0     31770   Pave   \n",
       "1      2  526350040           20        RH          80.0     11622   Pave   \n",
       "2      3  526351010           20        RL          81.0     14267   Pave   \n",
       "\n",
       "  Alley Lot Shape Land Contour Utilities Lot Config Land Slope  SalePrice  \n",
       "0   NaN       IR1          Lvl    AllPub     Corner        Gtl     215000  \n",
       "1   NaN       Reg          Lvl    AllPub     Inside        Gtl     105000  \n",
       "2   NaN       IR1          Lvl    AllPub     Corner        Gtl     172000  "
      ]
     },
     "metadata": {},
     "output_type": "display_data"
    }
   ],
   "source": [
    "df = pd.read_csv('./data/AmesHousing.txt', delimiter='\\t')\n",
    "display(df.iloc[:3,[0,1,2,3,4,5,6,7,8,9,10,11,12,-1]])"
   ]
  },
  {
   "cell_type": "markdown",
   "metadata": {},
   "source": [
    "<br>\n",
    "\n",
    "## 1 -  Feature Engineering \n",
    "- drop columns that leak information about target column\n",
    "- remove columns with more than 25% missing values\n",
    "- replace NaNs with mean from other rows\n",
    "- combine some features into new ones\n",
    "- dummy coding for categorical features\n",
    "  - transform numerical to categorical (for those where numbers have no meaning)\n",
    "  - identify text columns to make categorical:\n",
    "    - only those with only a few unique values\n",
    "    - remove low varianve columns (more than 95% of the values are the same)      \n",
    "  - deal with NaNs, then dummy code  "
   ]
  },
  {
   "cell_type": "code",
   "execution_count": 3,
   "metadata": {},
   "outputs": [],
   "source": [
    "def transform_features(df):\n",
    "    df_clean = df.copy()\n",
    "    \n",
    "    #remove columns that leak information about target  + PID\n",
    "    to_drop = ['PID','Order', 'Mo Sold', 'Yr Sold', 'Sale Type', 'Sale Condition']\n",
    "    df_clean.drop(to_drop,axis=1, inplace=True)\n",
    "    \n",
    "    #drop cols with more than 25% NaNs\n",
    "    null_count = df.isnull().sum()\n",
    "    null_cols = null_count[null_count>0.25*len(df_clean)].index \n",
    "    df_clean.drop(null_cols,axis=1, inplace=True)\n",
    "    \n",
    "    #replace NaNs in numeric null columns with mean\n",
    "    null_count = df_clean.isnull().sum()\n",
    "    null_cols = null_count[null_count>0].index    \n",
    "    float_cols = df_clean.select_dtypes(include=['float']).columns\n",
    "    df_clean[float_cols] = df_clean[float_cols].fillna(df_clean[float_cols].mean())\n",
    "            \n",
    "    #create new columns age and age since remodulation\n",
    "    df_clean['Age'] = 2017 - df_clean['Year Built']\n",
    "    df_clean['Age Since Remod'] = 2017 - df_clean['Year Remod/Add']\n",
    "    df_clean['Remod Age'] = df_clean['Year Remod/Add'] - df_clean['Year Built']\n",
    "    df_clean['GarageAge'] = 2017 - df_clean['Garage Yr Blt']\n",
    "    df_clean.drop(['Year Built', 'Year Remod/Add', 'Garage Yr Blt'],axis=1, inplace=True)    \n",
    "            \n",
    "    #TRANSFORM TO CATEGORIC    \n",
    "    #Identify numerical columns that should be categoric or transformed     \n",
    "    #text_cols = df_clean.select_dtypes(include=['int64','float64']).columns\n",
    "    #for col in text_cols:\n",
    "    #    print(col)\n",
    "    #    print(df_clean[col].iloc[0:9])\n",
    "    \n",
    "    #change numeric to str to make categorical\n",
    "    df_clean['MS SubClass'] = df_clean['MS SubClass'].astype(str)          \n",
    "     \n",
    "    ###Identify text columns to make categorical \n",
    "    text_cols = df_clean.select_dtypes(include=['object']).columns\n",
    "    for col in text_cols:           \n",
    "        #drop large number of categories >10\n",
    "        if(len(df_clean[col].unique())>10):\n",
    "            df_clean.drop(col,axis=1, inplace=True)\n",
    "        else:\n",
    "            #drop low variance (more than 95% in one cat)\n",
    "            counts = df_clean[col].value_counts()\n",
    "            if(counts[0]>0.95*len(df_clean[col])):\n",
    "                df_clean.drop(col,axis=1, inplace=True)  \n",
    "            \n",
    "    #Deal with remaining text nulls before dummy coding    \n",
    "    null_count = df_clean.isnull().sum()\n",
    "    null_cols = null_count[null_count>0].index   \n",
    "    #print(df_clean[null_cols].info()) \n",
    "    #basement and garage descriptions have nulls(for houses without either)\n",
    "    #large number of Nans in garage conditions and probably little influence on price: drop \n",
    "    garage_cols_to_drop = ['Garage Type', 'Garage Finish', 'Garage Qual', 'Garage Cond']\n",
    "    df_clean.drop(garage_cols_to_drop,axis=1, inplace=True)\n",
    "    #drop reamining nulls (basement condition rows)\n",
    "    df_clean.dropna(axis=0, inplace=True)\n",
    "              \n",
    "    #DUMMY CODING    \n",
    "    text_cols = df_clean.select_dtypes(include=['object']).columns    \n",
    "    for col in text_cols:             \n",
    "        df_clean[col] = df_clean[col].astype('category')   \n",
    "        dummy_cols = pd.get_dummies(df_clean[col])    \n",
    "        df_clean = pd.concat([df_clean, dummy_cols], axis=1)\n",
    "        df_clean.drop(col, inplace=True, axis=1)  \n",
    "              \n",
    "    \n",
    "    return df_clean"
   ]
  },
  {
   "cell_type": "markdown",
   "metadata": {},
   "source": [
    "<br>\n",
    "\n",
    "## 2 - feature selection\n",
    "- manual process:\n",
    "  - ignore categoric columns for now\n",
    "  - calculate correlations and select strongly correlated\n",
    "  - generate sns.heatmap to check any correlations between variables\n",
    "- automated process:\n",
    "  - using SelectKBest"
   ]
  },
  {
   "cell_type": "markdown",
   "metadata": {},
   "source": [
    "### 2.1 - Feature Selection with .corr() & Heatmap"
   ]
  },
  {
   "cell_type": "code",
   "execution_count": 4,
   "metadata": {},
   "outputs": [
    {
     "name": "stdout",
     "output_type": "stream",
     "text": [
      "['SalePrice', 'Overall Qual', 'Gr Liv Area', 'Garage Cars', 'Garage Area', '1st Flr SF', 'Total Bsmt SF', 'Full Bath', 'Age', 'Age Since Remod', 'GarageAge', 'Mas Vnr Area', 'TotRms AbvGrd']\n",
      "SalePrice          1.000000\n",
      "Overall Qual       0.796835\n",
      "Gr Liv Area        0.710544\n",
      "Garage Cars        0.650806\n",
      "Garage Area        0.640152\n",
      "1st Flr SF         0.634436\n",
      "Total Bsmt SF      0.634317\n",
      "Full Bath          0.555083\n",
      "Age                0.554400\n",
      "Age Since Remod    0.525825\n",
      "GarageAge          0.511855\n",
      "Mas Vnr Area       0.506103\n",
      "TotRms AbvGrd      0.505792\n",
      "Name: SalePrice, dtype: float64\n"
     ]
    },
    {
     "data": {
      "image/png": "[encoded data removed]",
      "text/plain": [
       "<Figure size 720x432 with 2 Axes>"
      ]
     },
     "metadata": {},
     "output_type": "display_data"
    }
   ],
   "source": [
    "df_clean = transform_features(df)\n",
    "\n",
    "#ignore categorical columns for now ('uint8')\n",
    "num_cols = df_clean.select_dtypes(include=['int64','float64']).columns  \n",
    "\n",
    "corrmat = df_clean[num_cols].corr()\n",
    "sorted_corrs = corrmat['SalePrice'].abs().sort_values(ascending=False)\n",
    "strong_corrs = sorted_corrs[sorted_corrs>0.5].index.tolist()\n",
    "print(strong_corrs)\n",
    "print(sorted_corrs[sorted_corrs>0.5])\n",
    "\n",
    "plt.figure(figsize=(10,6))\n",
    "sns.heatmap(df_clean[strong_corrs].corr().abs())\n",
    "plt.show()"
   ]
  },
  {
   "cell_type": "markdown",
   "metadata": {},
   "source": [
    "**There are some strongly correlations among the variables strongly correlated with SalePrice, choose the ones with highest correlation to sale price**\n",
    "- 'Garage Cars' and 'Garage Area': Garage Cars\n",
    "- '1st Flr SF' and 'Total Bsmt SF': 1st Flr SF\n",
    "- 'Age', and 'GarageAge': Age"
   ]
  },
  {
   "cell_type": "code",
   "execution_count": 5,
   "metadata": {},
   "outputs": [],
   "source": [
    "selected_features_manual = ['Overall Qual', 'Gr Liv Area', 'Garage Cars', '1st Flr SF', \n",
    "                            'Full Bath', 'Age', 'Age Since Remod', 'Mas Vnr Area', 'TotRms AbvGrd']"
   ]
  },
  {
   "cell_type": "markdown",
   "metadata": {},
   "source": [
    "<br>\n",
    "\n",
    "### 2.2 - Feature selection with SelectKBest"
   ]
  },
  {
   "cell_type": "code",
   "execution_count": 6,
   "metadata": {},
   "outputs": [
    {
     "name": "stdout",
     "output_type": "stream",
     "text": [
      "selected features:\n",
      "['Overall Qual', '1st Flr SF', 'Gr Liv Area', 'Full Bath', 'Age']\n",
      "\n",
      "fit scores\n",
      "[2.262e+02 4.905e+03 3.960e+01 1.900e+03 2.127e+02 4.159e+00 2.875e+03\n",
      " 1.256e+03 2.314e+02 5.613e+01 2.470e+01 9.694e+02 7.973e+02 3.257e+02\n",
      " 2.820e+02 5.097e+01 3.081e+00 3.742e+01 1.613e+01 4.861e-01 1.251e+03\n",
      " 1.078e+03 1.833e+02]\n"
     ]
    }
   ],
   "source": [
    "df_clean = transform_features(df)\n",
    "\n",
    "num_cols = df_clean.select_dtypes(include=['int64']).drop(['SalePrice'], axis = 1).columns \n",
    "X = df_clean[num_cols].values\n",
    "Y = df_clean['SalePrice'].values\n",
    "\n",
    "test = SelectKBest(score_func=f_regression, k=5)\n",
    "fit = test.fit(X, Y)\n",
    "print(\"selected features:\")\n",
    "print(num_cols[test.get_support()].tolist())\n",
    "selected_features_Kbest = num_cols[test.get_support()].tolist()\n",
    "\n",
    "# summarize scores\n",
    "np.set_printoptions(precision=3)\n",
    "print(\"\\nfit scores\")\n",
    "print(fit.scores_)"
   ]
  },
  {
   "cell_type": "markdown",
   "metadata": {},
   "source": [
    "<br>\n",
    "\n",
    "### 2.3 - Feature selection with RFECV"
   ]
  },
  {
   "cell_type": "code",
   "execution_count": 13,
   "metadata": {
    "scrolled": true
   },
   "outputs": [
    {
     "name": "stdout",
     "output_type": "stream",
     "text": [
      "Best Columns \n",
      "------------\n",
      "['Lot Frontage', 'Lot Area', 'Overall Qual', 'Overall Cond', 'Mas Vnr Area', 'BsmtFin SF 1', 'BsmtFin SF 2', 'Bsmt Unf SF', 'Total Bsmt SF', '1st Flr SF', '2nd Flr SF', 'Low Qual Fin SF', 'Gr Liv Area', 'Bsmt Full Bath', 'Bsmt Half Bath', 'Full Bath', 'Half Bath', 'Bedroom AbvGr', 'Kitchen AbvGr', 'TotRms AbvGrd', 'Fireplaces', 'Garage Cars', 'Garage Area', 'Wood Deck SF', 'Open Porch SF', 'Enclosed Porch', '3Ssn Porch', 'Screen Porch', 'Pool Area', 'Misc Val', 'Age', 'Age Since Remod', 'Remod Age', 'GarageAge', 'C (all)', 'FV', 'I (all)', 'RH', 'RL', 'RM', 'IR1', 'IR2', 'IR3', 'Reg', 'Bnk', 'HLS', 'Low', 'Lvl', 'Corner', 'CulDSac', 'FR2', 'FR3', 'Inside', 'Artery', 'Feedr', 'Norm', 'PosA', 'PosN', 'RRAe', 'RRAn', 'RRNe', 'RRNn', '1Fam', '2fmCon', 'Duplex', 'Twnhs', 'TwnhsE', '1.5Fin', '1.5Unf', '1Story', '2.5Fin', '2.5Unf', '2Story', 'SFoyer', 'SLvl', 'Flat', 'Gable', 'Gambrel', 'Hip', 'Mansard', 'Shed', 'BrkCmn', 'BrkFace', 'CBlock', 'None', 'Stone', 'Ex', 'Fa', 'Gd', 'TA', 'Ex', 'Fa', 'Gd', 'Po', 'TA', 'BrkTil', 'CBlock', 'PConc', 'Stone', 'Wood', 'Ex', 'Fa', 'Gd', 'Po', 'TA', 'Ex', 'Fa', 'Gd', 'Po', 'TA', 'Av', 'Gd', 'Mn', 'No', 'ALQ', 'BLQ', 'GLQ', 'LwQ', 'Rec', 'Unf', 'ALQ', 'BLQ', 'GLQ', 'LwQ', 'Rec', 'Unf', 'Ex', 'Fa', 'Gd', 'Po', 'TA', 'N', 'Y', 'FuseA', 'FuseF', 'FuseP', 'Mix', 'SBrkr', 'Ex', 'Fa', 'Gd', 'Po', 'TA', 'Maj1', 'Maj2', 'Min1', 'Min2', 'Mod', 'Sal', 'Sev', 'Typ', 'N', 'P', 'Y']\n",
      "\n",
      "Best Columns \n",
      "------------\n",
      "['Lot Frontage', 'Lot Area', 'Overall Qual', 'Overall Cond', 'Mas Vnr Area', 'BsmtFin SF 1', 'BsmtFin SF 2', 'Bsmt Unf SF', 'Total Bsmt SF', '1st Flr SF', '2nd Flr SF', 'Gr Liv Area', 'Bsmt Full Bath', 'Full Bath', 'Half Bath', 'Bedroom AbvGr', 'Kitchen AbvGr', 'TotRms AbvGrd', 'Fireplaces', 'Garage Cars', 'Garage Area', 'Wood Deck SF', 'Open Porch SF', 'Enclosed Porch', 'Screen Porch', 'Age', 'Age Since Remod', 'Remod Age', 'GarageAge', 'RL', 'RM', 'IR1', 'Reg', 'Bnk', 'HLS', 'Low', 'Lvl', 'Corner', 'CulDSac', 'Inside', 'Norm', '1Fam', '1.5Fin', '1Story', '2Story', 'Gable', 'Hip', 'BrkFace', 'None', 'Stone', 'Ex', 'Gd', 'TA', 'Fa', 'Gd', 'TA', 'BrkTil', 'CBlock', 'PConc', 'Ex', 'Fa', 'Gd', 'TA', 'Fa', 'Gd', 'Av', 'Gd', 'Mn', 'No', 'ALQ', 'GLQ', 'Unf', 'Ex', 'Gd', 'TA', 'N', 'Y', 'SBrkr', 'Ex', 'Gd', 'TA', 'Typ', 'N', 'Y']\n",
      "\n",
      "Best Columns \n",
      "------------\n",
      "['Lot Area', 'Overall Qual', 'BsmtFin SF 1', 'Total Bsmt SF', '1st Flr SF', '2nd Flr SF', 'Gr Liv Area', 'Full Bath', 'Fireplaces', 'Garage Cars', 'Garage Area', 'Screen Porch', 'Age', 'Age Since Remod', 'RL', 'RM', 'Bnk', 'Ex', 'Y', 'Ex', 'TA']\n",
      "\n"
     ]
    }
   ],
   "source": [
    "def select_features(df, target, model):    \n",
    "    #select numeric and drop NaNs\n",
    "    df_new = df.select_dtypes([np.number]).dropna(axis=1)\n",
    "  \n",
    "    all_X = df_new.drop(target, axis=1)\n",
    "    all_y = df_new[target]\n",
    "    \n",
    "    #cv is the number of folds\n",
    "    selector = RFECV(model, cv=10)\n",
    "    selector.fit(all_X, all_y)    \n",
    "    optimized_columns = list(all_X.columns[selector.support_])\n",
    "    \n",
    "    print(\"Best Columns \\n\"+\"-\"*12+\"\\n{}\\n\".format(optimized_columns))\n",
    "    \n",
    "    return optimized_columns\n",
    "\n",
    "\n",
    "target = 'SalePrice'\n",
    "\n",
    "model=LinearRegression()\n",
    "optimized_columns_LR = select_features(df_clean, target, model)\n",
    "\n",
    "model = RandomForestRegressor(n_estimators=100, random_state=1, min_samples_leaf=2)    \n",
    "optimized_columns_RFR = select_features(df_clean, target, model)\n",
    "\n",
    "model = GradientBoostingRegressor(learning_rate=0.01, n_estimators=100,subsample=0.6,random_state=42)  \n",
    "optimized_columns_GBR = select_features(df_clean, target, model)"
   ]
  },
  {
   "cell_type": "code",
   "execution_count": 7,
   "metadata": {},
   "outputs": [],
   "source": [
    "optimized_columns_LR = ['Lot Frontage', 'Lot Area', 'Overall Qual', 'Overall Cond', 'Mas Vnr Area', 'BsmtFin SF 1', 'BsmtFin SF 2', 'Bsmt Unf SF', 'Total Bsmt SF', '1st Flr SF', '2nd Flr SF', 'Low Qual Fin SF', 'Gr Liv Area', 'Bsmt Full Bath', 'Bsmt Half Bath', 'Full Bath', 'Half Bath', 'Bedroom AbvGr', 'Kitchen AbvGr', 'TotRms AbvGrd', 'Fireplaces', 'Garage Cars', 'Garage Area', 'Wood Deck SF', 'Open Porch SF', 'Enclosed Porch', '3Ssn Porch', 'Screen Porch', 'Pool Area', 'Misc Val', 'Age', 'Age Since Remod', 'Remod Age', 'GarageAge', 'C (all)', 'FV', 'I (all)', 'RH', 'RL', 'RM', 'IR1', 'IR2', 'IR3', 'Reg', 'Bnk', 'HLS', 'Low', 'Lvl', 'Corner', 'CulDSac', 'FR2', 'FR3', 'Inside', 'Artery', 'Feedr', 'Norm', 'PosA', 'PosN', 'RRAe', 'RRAn', 'RRNe', 'RRNn', '1Fam', '2fmCon', 'Duplex', 'Twnhs', 'TwnhsE', '1.5Fin', '1.5Unf', '1Story', '2.5Fin', '2.5Unf', '2Story', 'SFoyer', 'SLvl', 'Flat', 'Gable', 'Gambrel', 'Hip', 'Mansard', 'Shed', 'BrkCmn', 'BrkFace', 'CBlock', 'None', 'Stone', 'Ex', 'Fa', 'Gd', 'TA', 'Ex', 'Fa', 'Gd', 'Po', 'TA', 'BrkTil', 'CBlock', 'PConc', 'Stone', 'Wood', 'Ex', 'Fa', 'Gd', 'Po', 'TA', 'Ex', 'Fa', 'Gd', 'Po', 'TA', 'Av', 'Gd', 'Mn', 'No', 'ALQ', 'BLQ', 'GLQ', 'LwQ', 'Rec', 'Unf', 'ALQ', 'BLQ', 'GLQ', 'LwQ', 'Rec', 'Unf', 'Ex', 'Fa', 'Gd', 'Po', 'TA', 'N', 'Y', 'FuseA', 'FuseF', 'FuseP', 'Mix', 'SBrkr', 'Ex', 'Fa', 'Gd', 'Po', 'TA', 'Maj1', 'Maj2', 'Min1', 'Min2', 'Mod', 'Sal', 'Sev', 'Typ', 'N', 'P', 'Y']\n",
    "\n",
    "   \n",
    "optimized_columns_RFR = ['Lot Frontage', 'Lot Area', 'Overall Qual', 'Overall Cond', 'Mas Vnr Area', 'BsmtFin SF 1', 'BsmtFin SF 2', 'Bsmt Unf SF', 'Total Bsmt SF', '1st Flr SF', '2nd Flr SF', 'Gr Liv Area', 'Bsmt Full Bath', 'Full Bath', 'Half Bath', 'Bedroom AbvGr', 'Kitchen AbvGr', 'TotRms AbvGrd', 'Fireplaces', 'Garage Cars', 'Garage Area', 'Wood Deck SF', 'Open Porch SF', 'Enclosed Porch', 'Screen Porch', 'Age', 'Age Since Remod', 'Remod Age', 'GarageAge', 'RL', 'RM', 'IR1', 'Reg', 'Bnk', 'HLS', 'Low', 'Lvl', 'Corner', 'CulDSac', 'Inside', 'Norm', '1Fam', '1.5Fin', '1Story', '2Story', 'Gable', 'Hip', 'BrkFace', 'None', 'Stone', 'Ex', 'Gd', 'TA', 'Fa', 'Gd', 'TA', 'BrkTil', 'CBlock', 'PConc', 'Ex', 'Fa', 'Gd', 'TA', 'Fa', 'Gd', 'Av', 'Gd', 'Mn', 'No', 'ALQ', 'GLQ', 'Unf', 'Ex', 'Gd', 'TA', 'N', 'Y', 'SBrkr', 'Ex', 'Gd', 'TA', 'Typ', 'N', 'Y']\n",
    "\n",
    "\n",
    "optimized_columns_GBR = ['Lot Area', 'Overall Qual', 'BsmtFin SF 1', 'Total Bsmt SF', '1st Flr SF', '2nd Flr SF', 'Gr Liv Area', 'Full Bath', 'Fireplaces', 'Garage Cars', 'Garage Area', 'Screen Porch', 'Age', 'Age Since Remod', 'RL', 'RM', 'Bnk', 'Ex', 'Y', 'Ex', 'TA']"
   ]
  },
  {
   "cell_type": "markdown",
   "metadata": {},
   "source": [
    "## 3 - Model Selection with GridSearchCV"
   ]
  },
  {
   "cell_type": "code",
   "execution_count": 8,
   "metadata": {},
   "outputs": [
    {
     "name": "stdout",
     "output_type": "stream",
     "text": [
      "LinearRegression\n",
      "----------------\n",
      "Explained Variance: 0.833\n",
      "R2: 0.831\n",
      "RMSE: 31846.750\n",
      "Best Parameters: {'fit_intercept': True, 'normalize': False}\n",
      "Best Score: 0.831\n",
      "\n",
      "Time elapsed: 0.04 mins\n",
      "\n",
      "\n",
      "KNeighborsRegressor\n",
      "-------------------\n",
      "Explained Variance: 0.747\n",
      "R2: 0.739\n",
      "RMSE: 38655.206\n",
      "Best Parameters: {'algorithm': 'ball_tree', 'leaf_size': 5, 'metric': 'manhattan', 'n_neighbors': 7, 'p': 1, 'weights': 'distance'}\n",
      "Best Score: 0.739\n",
      "\n",
      "Time elapsed: 346.67 mins\n",
      "\n",
      "\n",
      "RandomForestRegressor_1\n",
      "-----------------------\n",
      "Explained Variance: 0.863\n",
      "R2: 0.862\n",
      "RMSE: 27906.751\n",
      "Best Parameters: {'criterion': 'mae', 'max_depth': 10, 'max_features': 'auto', 'min_samples_leaf': 1, 'min_samples_split': 2, 'n_estimators': 100}\n",
      "Best Score: 0.862\n",
      "\n",
      "Time elapsed: 275.60 mins\n",
      "\n",
      "\n",
      "RandomForestRegressor_2\n",
      "-----------------------\n",
      "Explained Variance: 0.840\n",
      "R2: 0.839\n",
      "RMSE: 30174.959\n",
      "Best Parameters: {'criterion': 'mae', 'max_depth': 10, 'max_features': 'log2', 'min_samples_leaf': 1, 'min_samples_split': 5, 'n_estimators': 100}\n",
      "Best Score: 0.839\n",
      "\n",
      "Time elapsed: 51.51 mins\n",
      "\n",
      "\n",
      "GradientBoostingRegressor\n",
      "-------------------------\n",
      "Explained Variance: 0.883\n",
      "R2: 0.882\n",
      "RMSE: 25857.278\n",
      "Best Parameters: {'learning_rate': 0.1, 'max_features': 'auto', 'n_estimators': 100, 'random_state': 1, 'subsample': 0.5}\n",
      "Best Score: 0.882\n",
      "\n",
      "Time elapsed: 0.86 mins\n",
      "\n",
      "\n",
      "model selection finished\n"
     ]
    }
   ],
   "source": [
    "#from dask_ml.model_selection import GridSearchCV\n",
    "#import os\n",
    "#os.environ[\"JOBLIB_START_METHOD\"] = \"forkserver\"\n",
    "#os.environ['MKL_NUM_THREADS'] = '1'\n",
    "#os.environ['OMP_NUM_THREADS'] = '1'\n",
    "#os.environ['NUMEXPR_NUM_THREADS'] = '1'\n",
    "#os.environ['JOBLIB_START_METHOD'] = 'fork'\n",
    "#print(os.environ['JOBLIB_START_METHOD'])\n",
    "\n",
    "#%env LOKY_PICKLER='cloudpickle' \n",
    "#import multiprocessing\n",
    "#multiprocessing.set_start_method('forkserver', force=True)\n",
    "\n",
    "from sklearn.utils import parallel_backend\n",
    "import time\n",
    "\n",
    "def select_model(df, target, models_to_fit):\n",
    "    \n",
    "    dicts= [ {\n",
    "               \"name\": \"LinearRegression\",\n",
    "               \"estimator\": LinearRegression(),\n",
    "               \"hyperparameters\": \n",
    "                 {                \n",
    "                   'fit_intercept':[True,False], \n",
    "                   'normalize':[True,False]            \n",
    "                 }\n",
    "             },\n",
    "             {\n",
    "               \"name\": \"KNeighborsRegressor\",\n",
    "               \"estimator\": KNeighborsRegressor(),\n",
    "               \"hyperparameters\": \n",
    "                 {\n",
    "                   \"n_neighbors\": range(1,15,3),\n",
    "                   \"weights\": [\"distance\", \"uniform\"],\n",
    "                   \"algorithm\": [\"ball_tree\", \"brute\"],\n",
    "                   \"leaf_size\": range(1,20,4),\n",
    "                   \"p\": [1,2],\n",
    "                   \"metric\":['manhattan','chebyshev','minkowski']                    \n",
    "                 }\n",
    "             },\n",
    "             {\n",
    "               \"name\": \"RandomForestRegressor\",\n",
    "               \"estimator\": RandomForestRegressor(n_jobs=1, random_state=42),\n",
    "               \"hyperparameters\": \n",
    "                 {\n",
    "                   \"n_estimators\": [5, 20, 100],\n",
    "                   #\"n_estimators\": [5],\n",
    "                   \"criterion\": [\"mse\", \"mae\"],\n",
    "                   \"max_depth\": [2, 5, 10],\n",
    "                   \"max_features\": [\"auto\", \"log2\", \"sqrt\"],\n",
    "                   \"min_samples_leaf\": [1, 5, 8],\n",
    "                   \"min_samples_split\": [2, 3, 5]                \n",
    "                 }\n",
    "             }, \n",
    "             {\n",
    "               \"name\": \"GradientBoostingRegressor\",\n",
    "               \"estimator\": GradientBoostingRegressor(),\n",
    "               \"hyperparameters\": \n",
    "                 {\n",
    "                   \"n_estimators\": [5, 20, 100],  \n",
    "                   \"max_features\": [\"auto\", \"log2\", \"sqrt\"],\n",
    "                   \"learning_rate\":[0.01, 0.05, 0.1, 0.5],\n",
    "                   \"subsample\":[0.1, 0.5, 1.0],  \n",
    "                   \"random_state\":[1]     \n",
    "                 }\n",
    "             }]   \n",
    "    scoring = {'Explained Variance': 'explained_variance', 'R2': 'r2', 'MSE':'neg_mean_squared_error'}\n",
    "        \n",
    "    all_y = df[target]\n",
    "    \n",
    "    for key, models_list in models_to_fit.items():        \n",
    "        print(key)\n",
    "        print('-'*len(key))\n",
    "        start = time.time()\n",
    "        for element in dicts:\n",
    "            if models_list[0] == element['name']:                \n",
    "                all_X = df[models_list[1]]              \n",
    "                model = element['estimator']\n",
    "                grid = GridSearchCV(model, element['hyperparameters'], cv=10, scoring=scoring, \n",
    "                                    refit='R2', iid=True, n_jobs=1)\n",
    "                grid.fit(all_X, all_y)\n",
    "        \n",
    "                element['best_params'] = grid.best_params_\n",
    "                element['best_score'] = grid.best_score_\n",
    "                element['best_estimator'] = grid.best_estimator_          \n",
    "                for scorer in scoring: \n",
    "                    if(scorer=='MSE'):\n",
    "                        print(f\"RMSE: {np.sqrt(-max(grid.cv_results_['mean_test_'+scorer])):0.3f}\")\n",
    "                    else:\n",
    "                        print(f\"{scorer}: {max(grid.cv_results_['mean_test_'+scorer]):0.3f}\")\n",
    "                print(\"Best Parameters: {}\".format(grid.best_params_))\n",
    "                print(\"Best Score: {:0.3f}\\n\".format(grid.best_score_))\n",
    "        \n",
    "        print(f\"Time elapsed: {(time.time()-start)/60.:0.2f} mins\\n\\n\")\n",
    "        #for scorer in scoring:\n",
    "        #    print(cv_results_'_<scorer_name>')\n",
    "       \n",
    "    return dicts\n",
    "                              \n",
    "#if __name__ == '__main__':\n",
    "#    multiprocessing.set_start_method('forkserver')\n",
    "#with parallel_backend('multiprocessing'):                         \n",
    "df_clean = transform_features(df)                              \n",
    "                   \n",
    "models_to_fit = {'LinearRegression': ['LinearRegression', optimized_columns_LR],    \n",
    "                 'KNeighborsRegressor': ['KNeighborsRegressor',optimized_columns_LR], \n",
    "                 'RandomForestRegressor_1': ['RandomForestRegressor', optimized_columns_RFR],\n",
    "                 'RandomForestRegressor_2': ['RandomForestRegressor', selected_features_manual],\n",
    "                 'GradientBoostingRegressor': ['GradientBoostingRegressor', optimized_columns_GBR]}\n",
    "#models_to_fit = ['LinearRegression','RandomForestRegressor']                              \n",
    "#optimized_columns = {'LinearRegression': optimized_columns_LR, 'RandomForestRegressor': optimized_columns_RFR}\n",
    "\n",
    "target = 'SalePrice'\n",
    "model_dicts = select_model(df_clean[:int(len(df_clean))], target, models_to_fit)\n",
    "#1 - Time elapsed:114.45s\n",
    "#4 - Time elapsed:\n",
    "\n",
    "print(\"model selection finished\")"
   ]
  },
  {
   "cell_type": "markdown",
   "metadata": {},
   "source": [
    "<br>\n",
    "\n",
    "## 4 - Cross_Val Predictions for best models (RandomForest & GradientBoosting)"
   ]
  },
  {
   "cell_type": "code",
   "execution_count": 12,
   "metadata": {},
   "outputs": [
    {
     "name": "stdout",
     "output_type": "stream",
     "text": [
      "Time taken to build models: 86.24s\n"
     ]
    }
   ],
   "source": [
    "import time\n",
    "start = time.time()\n",
    "     \n",
    "kf = KFold(10, shuffle=True, random_state=1)\n",
    "\n",
    "best_model = {'criterion': 'mae', 'max_depth': 10, 'max_features': 'auto', 'min_samples_leaf': 1, \n",
    "              'min_samples_split': 2, 'n_estimators': 100, 'n_jobs': -1}\n",
    "model = RandomForestRegressor()\n",
    "model.set_params(**best_model)  \n",
    "pred_1 = cross_val_predict(model, df_clean[optimized_columns_RFR], df_clean['SalePrice'], cv=kf, n_jobs=-1)\n",
    "\n",
    "best_model = {'learning_rate': 0.1, 'max_features': 'auto', 'n_estimators': 100, 'random_state': 1,\n",
    "              'subsample': 0.5}\n",
    "model = GradientBoostingRegressor()\n",
    "model.set_params(**best_model)  \n",
    "pred_2 = cross_val_predict(model, df_clean[optimized_columns_GBR], df_clean['SalePrice'], cv=kf, n_jobs=-1)\n",
    "\n",
    "print(f\"Time taken to build models: {time.time() - start:0.2f}s\")"
   ]
  },
  {
   "cell_type": "code",
   "execution_count": 37,
   "metadata": {},
   "outputs": [
    {
     "data": {
      "image/png": "[encoded data removed]",
      "text/plain": [
       "<Figure size 504x504 with 1 Axes>"
      ]
     },
     "metadata": {},
     "output_type": "display_data"
    }
   ],
   "source": [
    "fig, ax = plt.subplots(figsize=(7,7))\n",
    "lim = [0,800000]\n",
    "ax.set_xlim(lim), ax.set_ylim(lim)\n",
    "\n",
    "# Plot the perfect prediction line\n",
    "xmin, xmax = plt.xlim()\n",
    "bin = int((xmax-xmin)/100)\n",
    "ax.plot(np.arange(xmin, xmax, bin), np.arange(xmin, xmax, bin), c='k', label='perfect prediction', zorder=-1)\n",
    "\n",
    "# Create a scatter plot with train and test actual vs predictions\n",
    "ax.scatter(pred_1, df_clean['SalePrice'], alpha=0.3, label='RandomForestRegressor', marker='o', s=10)\n",
    "ax.scatter(pred_2, df_clean['SalePrice'], alpha=0.3, label='GradientBoostingRegressor', marker='o', s=10)\n",
    "\n",
    "for key, spine in ax.spines.items():\n",
    "    spine.set_visible(False)\n",
    "ax.tick_params(top=False, right=False)\n",
    "\n",
    "ax.yaxis.set_major_locator(MultipleLocator(200000))    \n",
    "ax.xaxis.set_major_locator(MultipleLocator(200000))    \n",
    "\n",
    "plt.xlabel('predictions')\n",
    "plt.ylabel('actual')\n",
    "plt.title('Predictions for best models')\n",
    "plt.legend()\n",
    "plt.show()"
   ]
  },
  {
   "cell_type": "markdown",
   "metadata": {},
   "source": [
    "<br>\n",
    "\n",
    "## 5 - Cross Validation with different kfolds for KNN model:\n",
    "- implement simple cross validation (holdout): train on a subset of the data and test on the rest\n",
    "- implement k-fold cross valiation"
   ]
  },
  {
   "cell_type": "code",
   "execution_count": 206,
   "metadata": {},
   "outputs": [],
   "source": [
    "def train_and_test(df, target, model, cv_type='simple'):  \n",
    "    if(cv_type != 'kfold'):\n",
    "        cv_type = 'simple'\n",
    "       \n",
    "    features = df.columns.drop(target)\n",
    "    \n",
    "    if(cv_type=='simple'): \n",
    "        split_1 = df[0:int(len(df)/2)].copy()\n",
    "        split_2 = df[int(len(df)/2):].copy()\n",
    "           \n",
    "        model.fit(split_1[features], split_1[target])\n",
    "        predictions = model.predict(split_2[features])\n",
    "        rmse_1 = (np.sqrt(mean_squared_error(split_2[target],predictions)))\n",
    "        \n",
    "        model.fit(split_2[features], split_2[target])\n",
    "        predictions = model.predict(split_1[features])\n",
    "        rmse_2 = (np.sqrt(mean_squared_error(split_1[target],predictions)))\n",
    "        \n",
    "        print(\"RMSE on set_1 = {:0.2f} \\nRMSE on set_2 = {:0.2f}\".format(rmse_1, rmse_2))\n",
    "        \n",
    "        return predictions\n",
    "    \n",
    "    else:          \n",
    "        rmse_mean_list=[]   \n",
    "        rmse_std_list=[]     \n",
    "        num_folds = np.linspace(5,2800,30).astype(int)         \n",
    "        for fold in num_folds:\n",
    "            kf = KFold(fold, shuffle=True, random_state=1)             \n",
    "            mses = cross_val_score(model, df[features], df[target], scoring=\"neg_mean_squared_error\", \n",
    "                                   cv=kf, n_jobs=-1) \n",
    "            rmses = np.sqrt(np.absolute(mses))\n",
    "            rmse_mean_list.append(np.mean(rmses))   \n",
    "            rmse_std_list.append(np.std(rmses))            \n",
    "            \n",
    "        print(f\"Mean RMSE_Mean with cross_val: {np.mean(np.array(rmse_mean_list)):0.2f}\")     \n",
    "        print(f\"Mean RMSE_Std with cross_val: {np.mean(np.array(rmse_std_list)):0.2f}\")        \n",
    "        error = np.sqrt(np.array(rmse_mean_list)**2+np.array(rmse_std_list)**2)\n",
    "        print(f\"Error with cross_val: {np.mean(error):0.2f}\")\n",
    "        \n",
    "        #plot       \n",
    "        fig, ax = plt.subplots(figsize=(5,5))\n",
    "        ax.plot(num_folds, error)\n",
    "        #ax.plot(num_folds, np.array(rmse_mean_list))\n",
    "        #ax.plot(num_folds, np.array(rmse_std_list))\n",
    "            \n",
    "        folds_array = np.array(num_folds)        \n",
    "                \n",
    "        ax.set_xlabel('kfolds'), ax.set_ylabel('$\\sqrt{bias^2+var^2}$')\n",
    "        ax.tick_params(right=False, top=False)    \n",
    "        ax.spines['right'].set_visible(False) \n",
    "        ax.spines['top'].set_visible(False) \n",
    "        plt.show()\n",
    "        \n",
    "        \n",
    "        kf = KFold(10, shuffle=True, random_state=1)\n",
    "        model = KNeighborsRegressor(n_neighbors = 5, algorithm = 'auto', p=2)\n",
    "        predictions = cross_val_predict(model, df[features], df[target], cv=kf)\n",
    "        \n",
    "        return predictions     "
   ]
  },
  {
   "cell_type": "markdown",
   "metadata": {},
   "source": [
    "<br>\n",
    "\n",
    "**holdout and k-fold valiation**"
   ]
  },
  {
   "cell_type": "code",
   "execution_count": 207,
   "metadata": {},
   "outputs": [
    {
     "name": "stdout",
     "output_type": "stream",
     "text": [
      "Features used: ['Overall Qual', 'Gr Liv Area', 'Garage Cars', '1st Flr SF', 'Full Bath', 'Age', 'Age Since Remod', 'Mas Vnr Area', 'TotRms AbvGrd']\n",
      "\n",
      "Simple Validation:\n",
      "RMSE on set_1 = 45982.19 \n",
      "RMSE on set_2 = 42457.62\n",
      "\n",
      "K-fold Validation:\n",
      "Mean RMSE_Mean with cross_val: 31468.73\n",
      "Mean RMSE_Std with cross_val: 25223.37\n",
      "Error with cross_val: 41074.00\n"
     ]
    },
    {
     "data": {
      "image/png": "[encoded data removed]",
      "text/plain": [
       "<Figure size 360x360 with 1 Axes>"
      ]
     },
     "metadata": {
      "needs_background": "light"
     },
     "output_type": "display_data"
    }
   ],
   "source": [
    "df_clean = transform_features(df)\n",
    "target = 'SalePrice'\n",
    "cols_to_keep = selected_features_manual\n",
    "#cols_to_keep = selected_features_Kbest\n",
    "#cols_to_keep = df.select_dtypes(include=['int64','float64']).columns  \n",
    "#cols_to_keep = ['Age']    \n",
    "   \n",
    "print(f\"Features used: {cols_to_keep}\\n\")\n",
    "\n",
    "df_clean = df_clean[cols_to_keep+['SalePrice']]  \n",
    "model = KNeighborsRegressor(n_neighbors = 5, algorithm = 'auto', p=2, n_jobs=-1)\n",
    "    \n",
    "print(\"Simple Validation:\")\n",
    "predictions = train_and_test(df_clean, target, model, cv_type='simple')\n",
    "\n",
    "print(\"\\nK-fold Validation:\")\n",
    "predictions = train_and_test(df_clean, target, model, cv_type='kfold')"
   ]
  },
  {
   "cell_type": "markdown",
   "metadata": {},
   "source": [
    "<br>\n",
    "\n",
    "## 6 - Holdout validation for Manually coded Linear Regression (OLS)"
   ]
  },
  {
   "cell_type": "code",
   "execution_count": 176,
   "metadata": {},
   "outputs": [
    {
     "name": "stdout",
     "output_type": "stream",
     "text": [
      "Features used: ['Overall Qual', 'Gr Liv Area', 'Garage Cars', '1st Flr SF', 'Full Bath', 'Age', 'Age Since Remod', 'Mas Vnr Area', 'TotRms AbvGrd']\n",
      "\n",
      "[ 14807.258     59.379  10915.421     46.178 -16236.035   -433.853\n",
      "   -528.279     38.066  -1935.261]\n",
      "\n",
      "RMSE on training set = 32608.98 \n",
      "RMSE on test set = 40447.77\n"
     ]
    }
   ],
   "source": [
    "df_clean = transform_features(df)\n",
    "target = 'SalePrice'\n",
    "cols_to_keep = selected_features_manual\n",
    "#cols_to_keep = selected_features_Kbest\n",
    "#cols_to_keep = df.select_dtypes(include=['int64','float64']).columns  \n",
    "#cols_to_keep = ['Age']    \n",
    "   \n",
    "print(f\"Features used: {cols_to_keep}\\n\")\n",
    "\n",
    "df_clean = df_clean[cols_to_keep+['SalePrice']]  \n",
    "\n",
    "train = df_clean[0:int(len(df_clean)/2)].copy()\n",
    "test = df_clean[int(len(df_clean)/2):].copy()\n",
    "\n",
    "features = train.columns.drop('SalePrice')\n",
    "\n",
    "X = train[features]\n",
    "y = train['SalePrice']\n",
    "\n",
    "a = np.dot(np.dot(np.linalg.inv(np.dot(np.transpose(X),X)), np.transpose(X)), y)\n",
    "print(a)\n",
    "\n",
    "train_predictions = train[features[0]]*a[0]\n",
    "test_predictions = test[features[0]]*a[0]\n",
    "for ii in range(1, len(a)):\n",
    "    train_predictions += train[features[ii]]*a[ii]\n",
    "    test_predictions += test[features[ii]]*a[ii]\n",
    "\n",
    "target = 'SalePrice'\n",
    "train_rmse = np.sqrt(np.abs(mean_squared_error(train[target], train_predictions)))\n",
    "test_rmse = np.sqrt(np.abs(mean_squared_error(test[target], test_predictions)))\n",
    "\n",
    "print(\"\\nRMSE on training set = {:0.2f} \\nRMSE on test set = {:0.2f}\".format(train_rmse, test_rmse))"
   ]
  }
 ],
 "metadata": {
  "anaconda-cloud": {},
  "kernelspec": {
   "display_name": "Python 3",
   "language": "python",
   "name": "python3"
  },
  "language_info": {
   "codemirror_mode": {
    "name": "ipython",
    "version": 3
   },
   "file_extension": ".py",
   "mimetype": "text/x-python",
   "name": "python",
   "nbconvert_exporter": "python",
   "pygments_lexer": "ipython3",
   "version": "3.6.7"
  }
 },
 "nbformat": 4,
 "nbformat_minor": 2
}
