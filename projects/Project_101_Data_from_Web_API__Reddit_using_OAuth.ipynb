{
 "cells": [
  {
   "cell_type": "markdown",
   "metadata": {},
   "source": [
    "# Project: Reddit API using OAuth"
   ]
  },
  {
   "cell_type": "markdown",
   "metadata": {},
   "source": [
    "<br>\n",
    "\n",
    "## Questions to address:\n",
    "- access reddit via API\n",
    "- get data on a given subredit and find the most upvoted commnent\n",
    "- upvote a comment"
   ]
  },
  {
   "cell_type": "markdown",
   "metadata": {},
   "source": [
    "<br>\n",
    "\n",
    "## Tools:\n",
    "- requests\n",
    "- authenticate access via requests.auth.HTTPBasicAuth\n",
    "- get data: response = requests.get()\n",
    "- post data: response = requests.post"
   ]
  },
  {
   "cell_type": "markdown",
   "metadata": {},
   "source": [
    "\n",
    "### Authenticate Reddit OAuth"
   ]
  },
  {
   "cell_type": "code",
   "execution_count": 2,
   "metadata": {},
   "outputs": [],
   "source": [
    "import requests\n",
    "import requests.auth\n",
    "client_auth = requests.auth.HTTPBasicAuth('r_FcWdUZLzZBWQ', '7LA4iYEANuZnje6kDcZKPPnXl78')\n",
    "post_data = {\"grant_type\": \"password\", \"username\": \"RedditCDMal\", \"password\": \"171004\"}\n",
    "headers = {\"User-Agent\": \"RedditUser\"}\n",
    "authentication = requests.post(\"https://www.reddit.com/api/v1/access_token\", auth=client_auth, data=post_data, headers=headers)"
   ]
  },
  {
   "cell_type": "markdown",
   "metadata": {},
   "source": [
    "<br>\n",
    "\n",
    "### Dataset: comments on the python/top reddit"
   ]
  },
  {
   "cell_type": "code",
   "execution_count": 6,
   "metadata": {},
   "outputs": [],
   "source": [
    "\n",
    "token = \"bearer \"+authentication.json()['access_token']\n",
    "headers = {\"Authorization\": token, \"User-Agent\": \"RedditCDMal\"}\n",
    "params = {\"t\": \"day\"}\n",
    "response = requests.get(\"https://oauth.reddit.com/r/python/top\", headers=headers, params=params)\n",
    "\n",
    "python_top = response.json()"
   ]
  },
  {
   "cell_type": "markdown",
   "metadata": {},
   "source": [
    "<br>\n",
    "\n",
    "## Analysis:"
   ]
  },
  {
   "cell_type": "markdown",
   "metadata": {},
   "source": [
    "<br>\n",
    "\n",
    "### find the ID of the most upvoted comment"
   ]
  },
  {
   "cell_type": "code",
   "execution_count": 7,
   "metadata": {},
   "outputs": [
    {
     "name": "stdout",
     "output_type": "stream",
     "text": [
      "9reap0\n"
     ]
    }
   ],
   "source": [
    "children = python_top['data']['children']\n",
    "\n",
    "python_data=[]\n",
    "for element in children:\n",
    "    python_data.append(element['data'])\n",
    "    \n",
    "#print(python_data)    \n",
    "    \n",
    "python_top_articles = [] \n",
    "most_upvoted_votes = 0\n",
    "for element in python_data:\n",
    "    python_top_articles.append(element['title'])\n",
    "    if(element['ups']>most_upvoted_votes):\n",
    "        most_upvoted_votes=element['ups']\n",
    "        most_upvoted=element['id']\n",
    "        \n",
    "print(most_upvoted)"
   ]
  },
  {
   "cell_type": "markdown",
   "metadata": {},
   "source": [
    "<br>\n",
    "\n",
    "### retrieve all comments associated with that post and find the most upvoted top-level comment in comments"
   ]
  },
  {
   "cell_type": "code",
   "execution_count": 9,
   "metadata": {},
   "outputs": [
    {
     "name": "stdout",
     "output_type": "stream",
     "text": [
      "This is going to come in handy, thanks!\n"
     ]
    }
   ],
   "source": [
    "response = requests.get('https://oauth.reddit.com/r/python/comments/9o3x81', headers=headers)\n",
    "comments = response.json()\n",
    "\n",
    "comments_list = comments[1]['data']['children']\n",
    "#print(comments_list)\n",
    "\n",
    "most_voted = 0\n",
    "\n",
    "for element in comments_list:\n",
    "    data = element['data']\n",
    "    if(data['ups']>most_voted):\n",
    "        most_voted = data['ups']\n",
    "        most_upvoted_comment = data #['id']\n",
    "print(most_upvoted_comment['body'])    "
   ]
  },
  {
   "cell_type": "markdown",
   "metadata": {},
   "source": [
    "<br>\n",
    "\n",
    "### upvoat a comment"
   ]
  },
  {
   "cell_type": "code",
   "execution_count": null,
   "metadata": {},
   "outputs": [],
   "source": [
    "payload = {\"dir\": 1, \"id\": \"d16y4ry\"}\n",
    "headers = {\"Authorization\": token, \"User-Agent\": \"RedditCDMal\"}\n",
    "response = requests.post('https://oauth.reddit.com/api/vote',headers=headers,json=payload)\n",
    "print(response.status_code)"
   ]
  }
 ],
 "metadata": {
  "kernelspec": {
   "display_name": "Python 3",
   "language": "python",
   "name": "python3"
  },
  "language_info": {
   "codemirror_mode": {
    "name": "ipython",
    "version": 3
   },
   "file_extension": ".py",
   "mimetype": "text/x-python",
   "name": "python",
   "nbconvert_exporter": "python",
   "pygments_lexer": "ipython3",
   "version": "3.6.6"
  }
 },
 "nbformat": 4,
 "nbformat_minor": 2
}
